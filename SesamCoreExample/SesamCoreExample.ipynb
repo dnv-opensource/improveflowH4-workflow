{
 "cells": [
  {
   "attachments": {},
   "cell_type": "markdown",
   "metadata": {},
   "source": [
    "# Description\n",
    "This example is a simple demonstration of how to run a Sesam Core fatigue hotspot example using OneWorkflow locally and in the cloud."
   ]
  },
  {
   "cell_type": "code",
   "execution_count": 29,
   "metadata": {},
   "outputs": [
    {
     "name": "stdout",
     "output_type": "stream",
     "text": [
      "The temporary blob storage directory is: c:\\OneWorkflowTemp\\oc_eun5q7px_blob\n",
      "The temporary jobs root directory is: c:\\OneWorkflowTemp\\oc_jb05ofw5_jobs\n",
      "c:\\OneWorkflowTemp\n",
      "Uploading C:\\Users\\kblu\\source\\repos\\improveflowH4-workflow\\SesamCoreExample\\Workspace\\CommonFiles\\a.txt to c:\\OneWorkflowTemp\\oc_eun5q7px_blob\\SesamCoreExample\\CommonFiles\\a.txt\n",
      "Uploading C:\\Users\\kblu\\source\\repos\\improveflowH4-workflow\\SesamCoreExample\\Workspace\\CommonFiles\\copyFiles.py to c:\\OneWorkflowTemp\\oc_eun5q7px_blob\\SesamCoreExample\\CommonFiles\\copyFiles.py\n",
      "Uploading C:\\Users\\kblu\\source\\repos\\improveflowH4-workflow\\SesamCoreExample\\Workspace\\CommonFiles\\copyFiles2.py to c:\\OneWorkflowTemp\\oc_eun5q7px_blob\\SesamCoreExample\\CommonFiles\\copyFiles2.py\n",
      "Uploading C:\\Users\\kblu\\source\\repos\\improveflowH4-workflow\\SesamCoreExample\\Workspace\\CommonFiles\\Specimen1_HotSpotPlate_SCORE-HOTSPOT.JNL to c:\\OneWorkflowTemp\\oc_eun5q7px_blob\\SesamCoreExample\\CommonFiles\\Specimen1_HotSpotPlate_SCORE-HOTSPOT.JNL\n",
      "Uploading C:\\Users\\kblu\\source\\repos\\improveflowH4-workflow\\SesamCoreExample\\Workspace\\CommonFiles\\Specimen1_HotSpots.json to c:\\OneWorkflowTemp\\oc_eun5q7px_blob\\SesamCoreExample\\CommonFiles\\Specimen1_HotSpots.json\n",
      "Uploading C:\\Users\\kblu\\source\\repos\\improveflowH4-workflow\\SesamCoreExample\\Workspace\\CommonFiles\\Specimen1_input.json to c:\\OneWorkflowTemp\\oc_eun5q7px_blob\\SesamCoreExample\\CommonFiles\\Specimen1_input.json\n",
      "Uploading C:\\Users\\kblu\\source\\repos\\improveflowH4-workflow\\SesamCoreExample\\Workspace\\CommonFiles\\Specimen1_sestra.inp to c:\\OneWorkflowTemp\\oc_eun5q7px_blob\\SesamCoreExample\\CommonFiles\\Specimen1_sestra.inp\n",
      "Uploading C:\\Users\\kblu\\source\\repos\\improveflowH4-workflow\\SesamCoreExample\\Workspace\\CommonFiles\\Specimen1_T1 - Copy.FEM to c:\\OneWorkflowTemp\\oc_eun5q7px_blob\\SesamCoreExample\\CommonFiles\\Specimen1_T1 - Copy.FEM\n",
      "Uploading C:\\Users\\kblu\\source\\repos\\improveflowH4-workflow\\SesamCoreExample\\Workspace\\CommonFiles\\Specimen1_T1.FEM to c:\\OneWorkflowTemp\\oc_eun5q7px_blob\\SesamCoreExample\\CommonFiles\\Specimen1_T1.FEM\n",
      "Uploading C:\\Users\\kblu\\source\\repos\\improveflowH4-workflow\\SesamCoreExample\\Workspace\\CommonFiles\\test - Copy.FEM to c:\\OneWorkflowTemp\\oc_eun5q7px_blob\\SesamCoreExample\\CommonFiles\\test - Copy.FEM\n",
      "Uploading C:\\Users\\kblu\\source\\repos\\improveflowH4-workflow\\SesamCoreExample\\Workspace\\CommonFiles\\test.py to c:\\OneWorkflowTemp\\oc_eun5q7px_blob\\SesamCoreExample\\CommonFiles\\test.py\n"
     ]
    },
    {
     "data": {
      "text/plain": [
       "True"
      ]
     },
     "execution_count": 29,
     "metadata": {},
     "output_type": "execute_result"
    }
   ],
   "source": [
    "\n",
    "from oneWorkflowToolBox import *\n",
    "# local workspace, all results will be put here after local or cloud runs\n",
    "# location of common files for all analysis, has to be below workspacePath and in the folder names CommonFiles\n",
    "workspacePath = r'C:\\Users\\kblu\\source\\repos\\improveflowH4-workflow\\SesamCoreExample\\Workspace'\n",
    "workspaceId = \"SesamCoreExample\"\n",
    "cloud_run = False\n",
    "#If running locally the code below will also start the local workflow host.\n",
    "workflow_client = one_workflow_client(workspaceId, workspacePath, cloud_run, tmp=r\"c:\\OneWorkflowTemp\", platform=Platform.Windows)\n",
    "if (cloud_run):\n",
    "    workflow_client.login()\n",
    "workflow_client.upload_common_files(FileOptions(max_size_bytes=524_000,patterns=[\"**/*.*\"], overwrite=True))"
   ]
  },
  {
   "cell_type": "code",
   "execution_count": 30,
   "metadata": {},
   "outputs": [
    {
     "name": "stdout",
     "output_type": "stream",
     "text": [
      "The work item 5d7b03bd-2750-4ab6-847f-09534cf3b66d message is 'Created'\n",
      "The work item LoadCase1 message is 'Created'\n",
      "The work item LoadCase2 message is 'Created'\n",
      "The progress of the job is '0%'. The message is ''\n",
      "The work item LoadCase1 message is ''\n",
      "The work item LoadCase2 message is ''\n",
      "The status of work item '5d7b03bd-2750-4ab6-847f-09534cf3b66d' is 'Completed'\n",
      "The status of work item 'LoadCase1' is 'Completed'\n",
      "Downloading c:\\OneWorkflowTemp\\oc_eun5q7px_blob\\SesamCoreExample\\Results\\LoadCase1\\a.txt to C:\\Users\\kblu\\source\\repos\\improveflowH4-workflow\\SesamCoreExample\\Workspace\\Results\\LoadCase1\\a.txt\n",
      "Downloading c:\\OneWorkflowTemp\\oc_eun5q7px_blob\\SesamCoreExample\\Results\\LoadCase1\\SesamCore_Specimen1_HotSpotPlate.lis to C:\\Users\\kblu\\source\\repos\\improveflowH4-workflow\\SesamCoreExample\\Workspace\\Results\\LoadCase1\\SesamCore_Specimen1_HotSpotPlate.lis\n",
      "Downloading c:\\OneWorkflowTemp\\oc_eun5q7px_blob\\SesamCoreExample\\Results\\LoadCase1\\SCORE.MLG to C:\\Users\\kblu\\source\\repos\\improveflowH4-workflow\\SesamCoreExample\\Workspace\\Results\\LoadCase1\\SCORE.MLG\n",
      "Downloading c:\\OneWorkflowTemp\\oc_eun5q7px_blob\\SesamCoreExample\\Results\\LoadCase1\\SESTRA.MLG to C:\\Users\\kblu\\source\\repos\\improveflowH4-workflow\\SesamCoreExample\\Workspace\\Results\\LoadCase1\\SESTRA.MLG\n",
      "The status of work item 'LoadCase2' is 'Completed'\n",
      "Downloading c:\\OneWorkflowTemp\\oc_eun5q7px_blob\\SesamCoreExample\\Results\\LoadCase2\\a.txt to C:\\Users\\kblu\\source\\repos\\improveflowH4-workflow\\SesamCoreExample\\Workspace\\Results\\LoadCase2\\a.txt\n",
      "Downloading c:\\OneWorkflowTemp\\oc_eun5q7px_blob\\SesamCoreExample\\Results\\LoadCase2\\SesamCore_Specimen1_HotSpotPlate.lis to C:\\Users\\kblu\\source\\repos\\improveflowH4-workflow\\SesamCoreExample\\Workspace\\Results\\LoadCase2\\SesamCore_Specimen1_HotSpotPlate.lis\n",
      "Downloading c:\\OneWorkflowTemp\\oc_eun5q7px_blob\\SesamCoreExample\\Results\\LoadCase2\\SCORE.MLG to C:\\Users\\kblu\\source\\repos\\improveflowH4-workflow\\SesamCoreExample\\Workspace\\Results\\LoadCase2\\SCORE.MLG\n",
      "Downloading c:\\OneWorkflowTemp\\oc_eun5q7px_blob\\SesamCoreExample\\Results\\LoadCase2\\SESTRA.MLG to C:\\Users\\kblu\\source\\repos\\improveflowH4-workflow\\SesamCoreExample\\Workspace\\Results\\LoadCase2\\SESTRA.MLG\n"
     ]
    }
   ],
   "source": [
    "import pandas as pd\n",
    "import os\n",
    "from dnv.oneworkflow import  ParallelWork\n",
    "from oneWorkflowToolBox import run_workflow_async\n",
    "from dnv.onecompute.flowmodel import WorkUnit\n",
    "from dnv.sesam.sesam_core_command import *\n",
    "from dnv.oneworkflow import PythonCommand, CompositeExecutableCommand\n",
    "import json\n",
    "parallel_work = ParallelWork()\n",
    "for index in [1,2]: # iterating over two simple cases, they now will do the same analysis\n",
    "    loadcase_folder_name = f\"LoadCase{index}\"\n",
    "    result_folder_lc = os.path.join(workflow_client.results_directory, loadcase_folder_name)\n",
    "    python_copy_command = PythonCommand(\n",
    "        directory=workflow_client.common_directory,\n",
    "        filename=\"copyfiles.py\",\n",
    "        working_dir=result_folder_lc)\n",
    "    core_command = SesamCoreCommand(command = \"fatigue\",input_file_name= \"Specimen1_input.json\", options = \"-hs\")\n",
    "    cmd = CompositeExecutableCommand([python_copy_command, core_command], result_folder_lc)\n",
    "    work_unit = (WorkUnit(cmd, loadcase_folder_name)\n",
    "                 .input_directory(result_folder_lc)\n",
    "                 .output_directory(result_folder_lc, include_files=[\"**/*.txt\",  \"**/*.MLG\", \"**/*.lis\", \"**/*.sin\"]))\n",
    "    parallel_work.WorkItems.append(work_unit)\n",
    "downloadOptions = FileOptions(max_size_bytes=11124_000,patterns=[\"**/*.txt\", \"**/*.lis\", \"**/*.MLG\"])\n",
    "job = workflow_client.create_job(parallel_work)\n",
    "job_json = json.dumps(job, default=lambda o: o.encode(), indent=4)\n",
    "await run_workflow_async(job, workflow_client, downloadOptions)\n"
   ]
  }
 ],
 "metadata": {
  "kernelspec": {
   "display_name": "Python 3",
   "language": "python",
   "name": "python3"
  },
  "language_info": {
   "codemirror_mode": {
    "name": "ipython",
    "version": 3
   },
   "file_extension": ".py",
   "mimetype": "text/x-python",
   "name": "python",
   "nbconvert_exporter": "python",
   "pygments_lexer": "ipython3",
   "version": "3.10.1"
  },
  "orig_nbformat": 4
 },
 "nbformat": 4,
 "nbformat_minor": 2
}
