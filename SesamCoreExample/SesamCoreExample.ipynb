{
 "cells": [
  {
   "attachments": {},
   "cell_type": "markdown",
   "metadata": {},
   "source": [
    "# Description\n",
    "This example is a simple demonstration of how to run a Sesam Core fatigue hotspot example using OneWorkflow locally and in the cloud."
   ]
  },
  {
   "cell_type": "code",
   "execution_count": 2,
   "metadata": {},
   "outputs": [
    {
     "ename": "NameError",
     "evalue": "name 'testOptional' is not defined",
     "output_type": "error",
     "traceback": [
      "\u001b[1;31m---------------------------------------------------------------------------\u001b[0m",
      "\u001b[1;31mNameError\u001b[0m                                 Traceback (most recent call last)",
      "\u001b[1;32m~\\AppData\\Local\\Temp\\ipykernel_36704\\3929763828.py\u001b[0m in \u001b[0;36m<module>\u001b[1;34m\u001b[0m\n\u001b[0;32m      7\u001b[0m \u001b[0mworkspaceId\u001b[0m \u001b[1;33m=\u001b[0m \u001b[1;34m\"SesamCoreExample\"\u001b[0m\u001b[1;33m\u001b[0m\u001b[1;33m\u001b[0m\u001b[0m\n\u001b[0;32m      8\u001b[0m \u001b[0mcloud_run\u001b[0m \u001b[1;33m=\u001b[0m \u001b[1;32mFalse\u001b[0m\u001b[1;33m\u001b[0m\u001b[1;33m\u001b[0m\u001b[0m\n\u001b[1;32m----> 9\u001b[1;33m \u001b[0mb\u001b[0m\u001b[1;33m=\u001b[0m \u001b[0mtestOptional\u001b[0m\u001b[1;33m(\u001b[0m\u001b[1;36m2\u001b[0m\u001b[1;33m)\u001b[0m\u001b[1;33m\u001b[0m\u001b[1;33m\u001b[0m\u001b[0m\n\u001b[0m\u001b[0;32m     10\u001b[0m \u001b[0mprint\u001b[0m\u001b[1;33m(\u001b[0m\u001b[0mb\u001b[0m\u001b[1;33m)\u001b[0m\u001b[1;33m\u001b[0m\u001b[1;33m\u001b[0m\u001b[0m\n\u001b[0;32m     11\u001b[0m \u001b[1;31m#If running locally the code below will also start the local workflow host.\u001b[0m\u001b[1;33m\u001b[0m\u001b[1;33m\u001b[0m\u001b[0m\n",
      "\u001b[1;31mNameError\u001b[0m: name 'testOptional' is not defined"
     ]
    }
   ],
   "source": [
    "from oneWorkflowToolBox import *\n",
    "from pathlib import Path\n",
    "# local workspace, all results will be put here after local or cloud runs\n",
    "# location of common files for all analysis, has to be below workspacePath and in the folder names CommonFiles\n",
    "root_folder = os.getcwd()\n",
    "workspacePath = Path(root_folder, 'Workspace')\n",
    "workspaceId = \"SesamCoreExample\"\n",
    "cloud_run = False\n",
    "#If running locally the code below will also start the local workflow host.\n",
    "workflow_client = one_workflow_client(workspaceId, workspacePath, cloud_run,\n",
    "                                      tmp=r\"c:\\OneWorkflowTemp\", platform=Platform.Windows, max_cores=5)\n",
    "\n",
    "if (cloud_run):\n",
    "    workflow_client.login()\n",
    "workflow_client.upload_common_files(FileOptions(max_size_bytes=524_000,patterns=[\"**/*.*\"], overwrite=True))\n",
    "# max number of threads used when running locally\n"
   ]
  },
  {
   "cell_type": "code",
   "execution_count": null,
   "metadata": {},
   "outputs": [],
   "source": [
    "import pandas as pd\n",
    "import os\n",
    "from dnv.oneworkflow import  ParallelWork\n",
    "from oneWorkflowToolBox import run_workflow_async\n",
    "from dnv.onecompute.flowmodel import WorkUnit\n",
    "from dnv.sesam.sesam_core_command import *\n",
    "from dnv.oneworkflow import PythonCommand, CompositeExecutableCommand\n",
    "import json\n",
    "import shutil\n",
    "\n",
    "# we must delete existing results locally before generating new results\n",
    "local__result_path = Path(workspacePath, workflow_client.results_directory)\n",
    "if os.path.isdir(local__result_path):\n",
    "    shutil.rmtree(local__result_path) \n",
    "\n",
    "parallel_work = ParallelWork()\n",
    "for index in range(1,14): # iterating over two simple cases, they now will do the same analysis\n",
    "    loadcase_folder_name = f\"LoadCase{index}\"\n",
    "    result_folder_lc = os.path.join(workflow_client.results_directory, loadcase_folder_name)\n",
    "    python_copy_command = PythonCommand(\n",
    "        directory=workflow_client.common_directory,\n",
    "        filename=\"copyfiles.py\",\n",
    "        working_dir=result_folder_lc)\n",
    "    core_command = SesamCoreCommand(command = \"fatigue\",input_file_name= \"Specimen1_input.json\", options = \"-hs\")\n",
    "    cmd = CompositeExecutableCommand([python_copy_command, core_command], result_folder_lc)\n",
    "    work_unit = (WorkUnit(cmd, loadcase_folder_name)\n",
    "                 .input_directory(result_folder_lc)\n",
    "                 .output_directory(result_folder_lc, include_files=[\"**/*.txt\",  \"**/*.MLG\", \"**/*.lis\", \"**/*.sin\"]))\n",
    "    parallel_work.WorkItems.append(work_unit)\n",
    "downloadOptions = FileOptions(max_size_bytes=11124_000,patterns=[\"**/*.txt\", \"**/*.lis\", \"**/*.MLG\"])\n",
    "job = workflow_client.create_job(parallel_work)\n",
    "#for debugging\n",
    "#job_json = json.dumps(job, default=lambda o: o.encode(), indent=4)\n",
    "#print(job_json)\n",
    "await run_workflow_async(job, workflow_client, downloadOptions)\n"
   ]
  }
 ],
 "metadata": {
  "kernelspec": {
   "display_name": "Python 3",
   "language": "python",
   "name": "python3"
  },
  "language_info": {
   "codemirror_mode": {
    "name": "ipython",
    "version": 3
   },
   "file_extension": ".py",
   "mimetype": "text/x-python",
   "name": "python",
   "nbconvert_exporter": "python",
   "pygments_lexer": "ipython3",
   "version": "3.10.1"
  },
  "orig_nbformat": 4
 },
 "nbformat": 4,
 "nbformat_minor": 2
}
