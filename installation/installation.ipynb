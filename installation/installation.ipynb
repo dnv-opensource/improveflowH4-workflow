{
 "cells": [
  {
   "cell_type": "markdown",
   "metadata": {},
   "source": [
    "# Installation  <a id='installation'></a>\n",
    "Run only when packages and/or local worker  needs to be upgraded. Run all section below in order for installation to succeed.\n",
    "If anything goes wrong, please repeat all steps from the start step by step.\n",
    "Please note that before running any code cell in this notebook, VSCode will prompt you to install the ipykernel package. Please accept it by clicking yes."
   ]
  },
  {
   "cell_type": "markdown",
   "metadata": {},
   "source": [
    "## If things go wrong try:\n"
   ]
  },
  {
   "cell_type": "markdown",
   "metadata": {},
   "source": [
    "If it does not work to run this notebook step by step, please run the below commands from the command line in this folder (`starter`).\n",
    "First uninstall the different requirements by: \n",
    "\n",
    " ```python -m pip uninstall -y -r basic-requirements.txt\n",
    " python -m pip uninstall -y -r dnv-requirements.txt\n",
    " python -m pip uninstall -y -r sifio-requirements.txt\n",
    " python -m pip uninstall -y -r onecompute-requirements.txt\n",
    "```\n",
    "then install them again by:\n",
    "\n",
    "```python -m pip install -r basic-requirements.txt --user\n",
    "python -m pip install -r dnv-requirements.txt\n",
    "python -m pip install -r sifio-requirements.txt\n",
    "python -m pip install -r onecompute-requirements.txt\n",
    "```"
   ]
  },
  {
   "cell_type": "markdown",
   "metadata": {},
   "source": [
    "## Update pip installation tool"
   ]
  },
  {
   "cell_type": "code",
   "execution_count": null,
   "metadata": {},
   "outputs": [],
   "source": [
    "!python.exe -m pip install --upgrade pip"
   ]
  },
  {
   "cell_type": "markdown",
   "metadata": {},
   "source": [
    "## Define helper functions \n",
    "Used to improve output from installation steps in [Install necessary Python packages](#installationPython)."
   ]
  },
  {
   "cell_type": "code",
   "execution_count": null,
   "metadata": {},
   "outputs": [],
   "source": [
    "#helper functions\n",
    "#https://pip.pypa.io/en/latest/user_guide/  # using-pip-from-your-program\n",
    "import subprocess, sys\n",
    " \n",
    "def uninstall_packages_from_requirements_file(file, print_output: bool = True):\n",
    "    try:\n",
    "        output=subprocess.check_output([sys.executable, '-m', 'pip', 'uninstall','-y','-r',file ],stderr=subprocess.STDOUT,text=True)\n",
    "    except subprocess.CalledProcessError as exc:\n",
    "        print(\"Status : FAIL\", exc.returncode, exc.output)\n",
    "    else:\n",
    "        print(\"Output: \\n{}\\n\".format(output))\n",
    "     \n",
    "def install_packages_from_requirements_file(file, print_output: bool = True, more_options = \"--user\"):\n",
    "    try:\n",
    "        options = [sys.executable, '-m', 'pip', 'install','-r',file ]\n",
    "        if more_options != \"\":\n",
    "            options.append(more_options)\n",
    "        output=subprocess.check_output(options,stderr=subprocess.STDOUT,text=True)\n",
    "    except subprocess.CalledProcessError as exc:\n",
    "        print(\"Status : FAIL\", exc.returncode, exc.output)\n",
    "    else:\n",
    "        print(\"Output: \\n{}\\n\".format(output))\n",
    "def install_packages(packages, print_output: bool = True ):\n",
    "    for package in packages:\n",
    "        try:\n",
    "            output=subprocess.check_output([sys.executable, '-m', 'pip', 'install',package ],stderr=subprocess.STDOUT,text=True)\n",
    "        except subprocess.CalledProcessError as exc:\n",
    "            print(\"Status : FAIL\", exc.returncode, exc.output)\n",
    "        else:\n",
    "            print(\"Output: \\n{}\\n\".format(output))\n",
    "\n",
    " \n"
   ]
  },
  {
   "cell_type": "markdown",
   "metadata": {},
   "source": [
    "## Install necessary Python packages <a id='installationPython'></a>\n",
    "The below steps will uninstall any existing packages related to OneWorkflow and reinstall them in order to minimize possibly dependency resolving issues.\n",
    "All packages will be installed in the users global environment.\n"
   ]
  },
  {
   "cell_type": "markdown",
   "metadata": {},
   "source": [
    "#### Uninstalling Sesam Workflows"
   ]
  },
  {
   "cell_type": "code",
   "execution_count": null,
   "metadata": {},
   "outputs": [],
   "source": [
    "uninstall_packages_from_requirements_file('dnv-sesam-workflows.txt', print_output = True)"
   ]
  },
  {
   "cell_type": "markdown",
   "metadata": {},
   "source": [
    "#### Uninstalling SIFIO requirements"
   ]
  },
  {
   "cell_type": "code",
   "execution_count": null,
   "metadata": {},
   "outputs": [],
   "source": [
    "uninstall_packages_from_requirements_file('sifio-requirements.txt', print_output = True)"
   ]
  },
  {
   "cell_type": "markdown",
   "metadata": {},
   "source": [
    "#### Uninstalling all packages needed by Sesam Workflows\n"
   ]
  },
  {
   "cell_type": "code",
   "execution_count": null,
   "metadata": {},
   "outputs": [],
   "source": [
    "uninstall_packages_from_requirements_file('dnv-dependency-requirements.txt', print_output = True)"
   ]
  },
  {
   "cell_type": "markdown",
   "metadata": {},
   "source": [
    "#### Installing Sesam Workflows"
   ]
  },
  {
   "cell_type": "code",
   "execution_count": null,
   "metadata": {},
   "outputs": [],
   "source": [
    "install_packages_from_requirements_file('dnv-sesam-workflows.txt', print_output = True)"
   ]
  },
  {
   "cell_type": "markdown",
   "metadata": {},
   "source": [
    "#### Installing basic requirements"
   ]
  },
  {
   "cell_type": "code",
   "execution_count": null,
   "metadata": {},
   "outputs": [],
   "source": [
    "install_packages_from_requirements_file('basic-requirements.txt', print_output = True)"
   ]
  },
  {
   "cell_type": "markdown",
   "metadata": {},
   "source": [
    "#### Install SIFIO and dependencies"
   ]
  },
  {
   "cell_type": "code",
   "execution_count": null,
   "metadata": {},
   "outputs": [],
   "source": [
    "install_packages_from_requirements_file('sifio-requirements.txt', print_output = True)\n",
    "!update-stubs"
   ]
  },
  {
   "cell_type": "markdown",
   "metadata": {},
   "source": [
    "### Test installation of packages\n",
    "Before you can verify the installation, please note that you need to restart the notebook, and possibly also VSCode, for the modules to be available: \n",
    "\n",
    "\n",
    "\n",
    "![](restartkernel.png)\n",
    "\n",
    "You may also need to select your default Python installation as the active Python kernel, in the top right corner:\n",
    "![](selectkernel.png) ![](selectedkernel.png)"
   ]
  },
  {
   "cell_type": "code",
   "execution_count": null,
   "metadata": {},
   "outputs": [],
   "source": [
    "from dnv.oneworkflow import *\n",
    "from dnv.sesam import *\n",
    "from dnv.onecompute import *\n",
    "from dnv.sesam.sifapi import *\n",
    "from dnv.net.runtime import *\n",
    "import sys\n",
    "print(sys.version)\n"
   ]
  },
  {
   "cell_type": "markdown",
   "metadata": {},
   "source": [
    "## Install worker for local execution"
   ]
  },
  {
   "cell_type": "code",
   "execution_count": null,
   "metadata": {},
   "outputs": [],
   "source": [
    "from dnv.oneworkflow.utils import *\n",
    "from dnv.oneworkflow.repository import *\n",
    "await install_workflow_runtime()\n"
   ]
  }
 ],
 "metadata": {
  "kernelspec": {
   "display_name": "Python 3",
   "language": "python",
   "name": "python3"
  },
  "language_info": {
   "codemirror_mode": {
    "name": "ipython",
    "version": 3
   },
   "file_extension": ".py",
   "mimetype": "text/x-python",
   "name": "python",
   "nbconvert_exporter": "python",
   "pygments_lexer": "ipython3",
   "version": "3.11.8"
  },
  "orig_nbformat": 4
 },
 "nbformat": 4,
 "nbformat_minor": 2
}
