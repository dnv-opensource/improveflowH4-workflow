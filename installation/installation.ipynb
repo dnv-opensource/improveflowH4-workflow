{
 "cells": [
  {
   "cell_type": "markdown",
   "metadata": {},
   "source": [
    "## Installation  <a id='installation'></a>\n",
    "Run only when packages and/or local worker  needs to be upgraded. Run all section below in order for installation to succeed.\n",
    "If anything goes wrong, please repeat all steps from the start step by step."
   ]
  },
  {
   "cell_type": "markdown",
   "metadata": {},
   "source": [
    "### If things go wrong try:\n"
   ]
  },
  {
   "cell_type": "markdown",
   "metadata": {},
   "source": [
    "If it does not work to run this notebook step by step, please run the below commands from the command line in this folder (`starter`).\n",
    "First uninstall the different requirements by: \n",
    "\n",
    " ```python -m pip uninstall -y -r basic-requirements.txt\n",
    " python -m pip uninstall -y -r dnv-requirements.txt\n",
    " python -m pip uninstall -y -r sifio-requirements.txt\n",
    " python -m pip uninstall -y -r onecompute-requirements.txt\n",
    "```\n",
    "then install them again by:\n",
    "\n",
    "```python -m pip install -r basic-requirements.txt --user\n",
    "python -m pip install -r dnv-requirements.txt\n",
    "python -m pip install -r sifio-requirements.txt\n",
    "python -m pip install -r onecompute-requirements.txt\n",
    "```"
   ]
  },
  {
   "cell_type": "markdown",
   "metadata": {},
   "source": [
    "### Updating pip installation tool"
   ]
  },
  {
   "cell_type": "code",
   "execution_count": 1,
   "metadata": {},
   "outputs": [
    {
     "name": "stdout",
     "output_type": "stream",
     "text": [
      "Requirement already satisfied: pip in c:\\users\\kblu\\appdata\\local\\programs\\python\\python312\\lib\\site-packages (24.0)\n"
     ]
    },
    {
     "name": "stderr",
     "output_type": "stream",
     "text": [
      "WARNING: Ignoring invalid distribution ~atplotlib (C:\\Users\\kblu\\AppData\\Roaming\\Python\\Python312\\site-packages)\n",
      "WARNING: Ignoring invalid distribution ~atplotlib (C:\\Users\\kblu\\AppData\\Roaming\\Python\\Python312\\site-packages)\n",
      "WARNING: Ignoring invalid distribution ~atplotlib (C:\\Users\\kblu\\AppData\\Roaming\\Python\\Python312\\site-packages)\n",
      "WARNING: Ignoring invalid distribution ~atplotlib (C:\\Users\\kblu\\AppData\\Roaming\\Python\\Python312\\site-packages)\n"
     ]
    }
   ],
   "source": [
    "!python.exe -m pip install --upgrade pip"
   ]
  },
  {
   "cell_type": "markdown",
   "metadata": {},
   "source": [
    "### Install necessary Python packages"
   ]
  },
  {
   "cell_type": "code",
   "execution_count": 2,
   "metadata": {},
   "outputs": [],
   "source": [
    "#helper functions\n",
    "#https://pip.pypa.io/en/latest/user_guide/  # using-pip-from-your-program\n",
    "import subprocess, sys\n",
    "def uninstall_packages_from_requirements_file(file, print_output: bool = True):\n",
    "    try:\n",
    "        output=subprocess.check_output([sys.executable, '-m', 'pip', 'uninstall','-y','-r',file ],stderr=subprocess.STDOUT,text=True)\n",
    "    except subprocess.CalledProcessError as exc:\n",
    "        print(\"Status : FAIL\", exc.returncode, exc.output)\n",
    "    else:\n",
    "        print(\"Output: \\n{}\\n\".format(output))\n",
    "     \n",
    "def install_packages_from_requirements_file(file, print_output: bool = True, more_options = \"--user\"):\n",
    "    try:\n",
    "        options = [sys.executable, '-m', 'pip', 'install','-r',file ]\n",
    "        if more_options != \"\":\n",
    "            options.append(more_options)\n",
    "        output=subprocess.check_output(options,stderr=subprocess.STDOUT,text=True)\n",
    "    except subprocess.CalledProcessError as exc:\n",
    "        print(\"Status : FAIL\", exc.returncode, exc.output)\n",
    "    else:\n",
    "        print(\"Output: \\n{}\\n\".format(output))\n",
    "def install_packages(packages, print_output: bool = True ):\n",
    "    for package in packages:\n",
    "        try:\n",
    "            output=subprocess.check_output([sys.executable, '-m', 'pip', 'install',package ],stderr=subprocess.STDOUT,text=True)\n",
    "        except subprocess.CalledProcessError as exc:\n",
    "            print(\"Status : FAIL\", exc.returncode, exc.output)\n",
    "        else:\n",
    "            print(\"Output: \\n{}\\n\".format(output))\n"
   ]
  },
  {
   "cell_type": "markdown",
   "metadata": {},
   "source": [
    "#### Uninstalling basic packages required"
   ]
  },
  {
   "cell_type": "code",
   "execution_count": 3,
   "metadata": {},
   "outputs": [
    {
     "name": "stdout",
     "output_type": "stream",
     "text": [
      "Output: \n",
      "WARNING: Ignoring invalid distribution ~atplotlib (C:\\Users\\kblu\\AppData\\Roaming\\Python\\Python312\\site-packages)\n",
      "WARNING: Skipping jupyter as it is not installed.\n",
      "Found existing installation: ipykernel 6.29.3\n",
      "Uninstalling ipykernel-6.29.3:\n",
      "  Successfully uninstalled ipykernel-6.29.3\n",
      "WARNING: Ignoring invalid distribution ~atplotlib (C:\\Users\\kblu\\AppData\\Roaming\\Python\\Python312\\site-packages)\n",
      "WARNING: Skipping ipywidgets as it is not installed.\n",
      "Found existing installation: pandas 2.2.1\n",
      "Uninstalling pandas-2.2.1:\n",
      "  Successfully uninstalled pandas-2.2.1\n",
      "WARNING: Ignoring invalid distribution ~atplotlib (C:\\Users\\kblu\\AppData\\Roaming\\Python\\Python312\\site-packages)\n",
      "WARNING: Skipping matplotlib as it is not installed.\n",
      "Found existing installation: openpyxl 3.1.2\n",
      "Uninstalling openpyxl-3.1.2:\n",
      "  Successfully uninstalled openpyxl-3.1.2\n",
      "\n",
      "\n"
     ]
    }
   ],
   "source": [
    "uninstall_packages_from_requirements_file('basic-requirements.txt', print_output = True)"
   ]
  },
  {
   "cell_type": "markdown",
   "metadata": {},
   "source": [
    "#### Uninstalling dnv packages"
   ]
  },
  {
   "cell_type": "code",
   "execution_count": 4,
   "metadata": {},
   "outputs": [
    {
     "name": "stdout",
     "output_type": "stream",
     "text": [
      "Output: \n",
      "WARNING: Ignoring invalid distribution ~atplotlib (C:\\Users\\kblu\\AppData\\Roaming\\Python\\Python312\\site-packages)\n",
      "WARNING: Skipping dnv-onecompute as it is not installed.\n",
      "WARNING: Ignoring invalid distribution ~atplotlib (C:\\Users\\kblu\\AppData\\Roaming\\Python\\Python312\\site-packages)\n",
      "WARNING: Skipping dnv-oneworkflow as it is not installed.\n",
      "WARNING: Ignoring invalid distribution ~atplotlib (C:\\Users\\kblu\\AppData\\Roaming\\Python\\Python312\\site-packages)\n",
      "WARNING: Skipping dnv-sesam-commands as it is not installed.\n",
      "\n",
      "\n"
     ]
    }
   ],
   "source": [
    "uninstall_packages_from_requirements_file('dnv-requirements.txt', print_output = True)"
   ]
  },
  {
   "cell_type": "markdown",
   "metadata": {},
   "source": [
    "#### Uninstalling SIFIO requirements"
   ]
  },
  {
   "cell_type": "code",
   "execution_count": 5,
   "metadata": {},
   "outputs": [
    {
     "name": "stdout",
     "output_type": "stream",
     "text": [
      "Output: \n",
      "WARNING: Ignoring invalid distribution ~atplotlib (C:\\Users\\kblu\\AppData\\Roaming\\Python\\Python312\\site-packages)\n",
      "WARNING: Skipping quantconnect-stubs as it is not installed.\n",
      "WARNING: Ignoring invalid distribution ~atplotlib (C:\\Users\\kblu\\AppData\\Roaming\\Python\\Python312\\site-packages)\n",
      "WARNING: Skipping pythonnet as it is not installed.\n",
      "WARNING: Ignoring invalid distribution ~atplotlib (C:\\Users\\kblu\\AppData\\Roaming\\Python\\Python312\\site-packages)\n",
      "WARNING: Skipping dnv-net-runtime as it is not installed.\n",
      "Found existing installation: dnv-net-intellisense 1.0.0.41\n",
      "Uninstalling dnv-net-intellisense-1.0.0.41:\n",
      "  Successfully uninstalled dnv-net-intellisense-1.0.0.41\n",
      "Found existing installation: dnv-sifio 5.3.2.994\n",
      "Uninstalling dnv-sifio-5.3.2.994:\n",
      "  Successfully uninstalled dnv-sifio-5.3.2.994\n",
      "\n",
      "\n"
     ]
    }
   ],
   "source": [
    "uninstall_packages_from_requirements_file('sifio-requirements.txt', print_output = True)"
   ]
  },
  {
   "cell_type": "markdown",
   "metadata": {},
   "source": [
    "#### Uninstalling OneCompute requirements"
   ]
  },
  {
   "cell_type": "code",
   "execution_count": 6,
   "metadata": {},
   "outputs": [
    {
     "name": "stdout",
     "output_type": "stream",
     "text": [
      "Output: \n",
      "Found existing installation: msal 1.23.0\n",
      "Uninstalling msal-1.23.0:\n",
      "  Successfully uninstalled msal-1.23.0\n",
      "Found existing installation: azure-storage-blob 12.17.0\n",
      "Uninstalling azure-storage-blob-12.17.0:\n",
      "  Successfully uninstalled azure-storage-blob-12.17.0\n",
      "Found existing installation: cancel-token 0.1.6\n",
      "Uninstalling cancel-token-0.1.6:\n",
      "  Successfully uninstalled cancel-token-0.1.6\n",
      "Found existing installation: httpx 0.24.1\n",
      "Uninstalling httpx-0.24.1:\n",
      "  Successfully uninstalled httpx-0.24.1\n",
      "Found existing installation: dacite 1.8.1\n",
      "Uninstalling dacite-1.8.1:\n",
      "  Successfully uninstalled dacite-1.8.1\n",
      "Found existing installation: stringcase 1.2.0\n",
      "Uninstalling stringcase-1.2.0:\n",
      "  Successfully uninstalled stringcase-1.2.0\n",
      "Found existing installation: PyJWT 2.8.0\n",
      "Uninstalling PyJWT-2.8.0:\n",
      "  Successfully uninstalled PyJWT-2.8.0\n",
      "Found existing installation: overrides 7.4.0\n",
      "Uninstalling overrides-7.4.0:\n",
      "  Successfully uninstalled overrides-7.4.0\n",
      "Found existing installation: python-dateutil 2.8.2\n",
      "Uninstalling python-dateutil-2.8.2:\n",
      "  Successfully uninstalled python-dateutil-2.8.2\n",
      "\n",
      "\n"
     ]
    }
   ],
   "source": [
    "uninstall_packages_from_requirements_file('onecompute-requirements.txt', print_output = True)"
   ]
  },
  {
   "cell_type": "markdown",
   "metadata": {},
   "source": [
    "#### Installing basic requirements"
   ]
  },
  {
   "cell_type": "code",
   "execution_count": 7,
   "metadata": {},
   "outputs": [
    {
     "name": "stdout",
     "output_type": "stream",
     "text": [
      "Output: \n",
      "WARNING: Ignoring invalid distribution ~atplotlib (C:\\Users\\kblu\\AppData\\Roaming\\Python\\Python312\\site-packages)\n",
      "Collecting jupyter (from -r basic-requirements.txt (line 1))\n",
      "  Using cached jupyter-1.0.0-py2.py3-none-any.whl.metadata (995 bytes)\n",
      "Collecting ipykernel (from -r basic-requirements.txt (line 2))\n",
      "  Using cached ipykernel-6.29.3-py3-none-any.whl.metadata (6.3 kB)\n",
      "Collecting ipywidgets (from -r basic-requirements.txt (line 3))\n",
      "  Using cached ipywidgets-8.1.2-py3-none-any.whl.metadata (2.4 kB)\n",
      "Collecting pandas (from -r basic-requirements.txt (line 4))\n",
      "  Using cached pandas-2.2.1-cp312-cp312-win_amd64.whl.metadata (19 kB)\n",
      "Collecting matplotlib (from -r basic-requirements.txt (line 5))\n",
      "  Using cached matplotlib-3.8.3-cp312-cp312-win_amd64.whl.metadata (5.9 kB)\n",
      "Collecting openpyxl (from -r basic-requirements.txt (line 6))\n",
      "  Using cached openpyxl-3.1.2-py2.py3-none-any.whl.metadata (2.5 kB)\n",
      "Requirement already satisfied: notebook in c:\\users\\kblu\\appdata\\roaming\\python\\python312\\site-packages (from jupyter->-r basic-requirements.txt (line 1)) (7.1.1)\n",
      "Requirement already satisfied: qtconsole in c:\\users\\kblu\\appdata\\roaming\\python\\python312\\site-packages (from jupyter->-r basic-requirements.txt (line 1)) (5.5.1)\n",
      "Requirement already satisfied: jupyter-console in c:\\users\\kblu\\appdata\\roaming\\python\\python312\\site-packages (from jupyter->-r basic-requirements.txt (line 1)) (6.6.3)\n",
      "Requirement already satisfied: nbconvert in c:\\users\\kblu\\appdata\\roaming\\python\\python312\\site-packages (from jupyter->-r basic-requirements.txt (line 1)) (7.16.1)\n",
      "Requirement already satisfied: comm>=0.1.1 in c:\\users\\kblu\\appdata\\roaming\\python\\python312\\site-packages (from ipykernel->-r basic-requirements.txt (line 2)) (0.2.1)\n",
      "Requirement already satisfied: debugpy>=1.6.5 in c:\\users\\kblu\\appdata\\roaming\\python\\python312\\site-packages (from ipykernel->-r basic-requirements.txt (line 2)) (1.8.1)\n",
      "Requirement already satisfied: ipython>=7.23.1 in c:\\users\\kblu\\appdata\\roaming\\python\\python312\\site-packages (from ipykernel->-r basic-requirements.txt (line 2)) (8.22.1)\n",
      "Requirement already satisfied: jupyter-client>=6.1.12 in c:\\users\\kblu\\appdata\\roaming\\python\\python312\\site-packages (from ipykernel->-r basic-requirements.txt (line 2)) (8.6.0)\n",
      "Requirement already satisfied: jupyter-core!=5.0.*,>=4.12 in c:\\users\\kblu\\appdata\\roaming\\python\\python312\\site-packages (from ipykernel->-r basic-requirements.txt (line 2)) (5.7.1)\n",
      "Requirement already satisfied: matplotlib-inline>=0.1 in c:\\users\\kblu\\appdata\\roaming\\python\\python312\\site-packages (from ipykernel->-r basic-requirements.txt (line 2)) (0.1.6)\n",
      "Requirement already satisfied: nest-asyncio in c:\\users\\kblu\\appdata\\roaming\\python\\python312\\site-packages (from ipykernel->-r basic-requirements.txt (line 2)) (1.6.0)\n",
      "Requirement already satisfied: packaging in c:\\users\\kblu\\appdata\\roaming\\python\\python312\\site-packages (from ipykernel->-r basic-requirements.txt (line 2)) (23.2)\n",
      "Requirement already satisfied: psutil in c:\\users\\kblu\\appdata\\roaming\\python\\python312\\site-packages (from ipykernel->-r basic-requirements.txt (line 2)) (5.9.7)\n",
      "Requirement already satisfied: pyzmq>=24 in c:\\users\\kblu\\appdata\\roaming\\python\\python312\\site-packages (from ipykernel->-r basic-requirements.txt (line 2)) (25.1.2)\n",
      "Requirement already satisfied: tornado>=6.1 in c:\\users\\kblu\\appdata\\roaming\\python\\python312\\site-packages (from ipykernel->-r basic-requirements.txt (line 2)) (6.4)\n",
      "Requirement already satisfied: traitlets>=5.4.0 in c:\\users\\kblu\\appdata\\roaming\\python\\python312\\site-packages (from ipykernel->-r basic-requirements.txt (line 2)) (5.14.1)\n",
      "Requirement already satisfied: widgetsnbextension~=4.0.10 in c:\\users\\kblu\\appdata\\roaming\\python\\python312\\site-packages (from ipywidgets->-r basic-requirements.txt (line 3)) (4.0.10)\n",
      "Requirement already satisfied: jupyterlab-widgets~=3.0.10 in c:\\users\\kblu\\appdata\\roaming\\python\\python312\\site-packages (from ipywidgets->-r basic-requirements.txt (line 3)) (3.0.10)\n",
      "Requirement already satisfied: numpy<2,>=1.26.0 in c:\\users\\kblu\\appdata\\roaming\\python\\python312\\site-packages (from pandas->-r basic-requirements.txt (line 4)) (1.26.4)\n",
      "Collecting python-dateutil>=2.8.2 (from pandas->-r basic-requirements.txt (line 4))\n",
      "  Using cached python_dateutil-2.9.0.post0-py2.py3-none-any.whl.metadata (8.4 kB)\n",
      "Requirement already satisfied: pytz>=2020.1 in c:\\users\\kblu\\appdata\\roaming\\python\\python312\\site-packages (from pandas->-r basic-requirements.txt (line 4)) (2024.1)\n",
      "Requirement already satisfied: tzdata>=2022.7 in c:\\users\\kblu\\appdata\\roaming\\python\\python312\\site-packages (from pandas->-r basic-requirements.txt (line 4)) (2024.1)\n",
      "Requirement already satisfied: contourpy>=1.0.1 in c:\\users\\kblu\\appdata\\roaming\\python\\python312\\site-packages (from matplotlib->-r basic-requirements.txt (line 5)) (1.2.0)\n",
      "Requirement already satisfied: cycler>=0.10 in c:\\users\\kblu\\appdata\\roaming\\python\\python312\\site-packages (from matplotlib->-r basic-requirements.txt (line 5)) (0.12.1)\n",
      "Requirement already satisfied: fonttools>=4.22.0 in c:\\users\\kblu\\appdata\\roaming\\python\\python312\\site-packages (from matplotlib->-r basic-requirements.txt (line 5)) (4.49.0)\n",
      "Requirement already satisfied: kiwisolver>=1.3.1 in c:\\users\\kblu\\appdata\\roaming\\python\\python312\\site-packages (from matplotlib->-r basic-requirements.txt (line 5)) (1.4.5)\n",
      "Requirement already satisfied: pillow>=8 in c:\\users\\kblu\\appdata\\roaming\\python\\python312\\site-packages (from matplotlib->-r basic-requirements.txt (line 5)) (10.2.0)\n",
      "Requirement already satisfied: pyparsing>=2.3.1 in c:\\users\\kblu\\appdata\\roaming\\python\\python312\\site-packages (from matplotlib->-r basic-requirements.txt (line 5)) (3.1.1)\n",
      "Requirement already satisfied: et-xmlfile in c:\\users\\kblu\\appdata\\roaming\\python\\python312\\site-packages (from openpyxl->-r basic-requirements.txt (line 6)) (1.1.0)\n",
      "Requirement already satisfied: decorator in c:\\users\\kblu\\appdata\\roaming\\python\\python312\\site-packages (from ipython>=7.23.1->ipykernel->-r basic-requirements.txt (line 2)) (5.1.1)\n",
      "Requirement already satisfied: jedi>=0.16 in c:\\users\\kblu\\appdata\\roaming\\python\\python312\\site-packages (from ipython>=7.23.1->ipykernel->-r basic-requirements.txt (line 2)) (0.19.1)\n",
      "Requirement already satisfied: prompt-toolkit<3.1.0,>=3.0.41 in c:\\users\\kblu\\appdata\\roaming\\python\\python312\\site-packages (from ipython>=7.23.1->ipykernel->-r basic-requirements.txt (line 2)) (3.0.43)\n",
      "Requirement already satisfied: pygments>=2.4.0 in c:\\users\\kblu\\appdata\\roaming\\python\\python312\\site-packages (from ipython>=7.23.1->ipykernel->-r basic-requirements.txt (line 2)) (2.17.2)\n",
      "Requirement already satisfied: stack-data in c:\\users\\kblu\\appdata\\roaming\\python\\python312\\site-packages (from ipython>=7.23.1->ipykernel->-r basic-requirements.txt (line 2)) (0.6.3)\n",
      "Requirement already satisfied: colorama in c:\\users\\kblu\\appdata\\roaming\\python\\python312\\site-packages (from ipython>=7.23.1->ipykernel->-r basic-requirements.txt (line 2)) (0.4.6)\n",
      "Requirement already satisfied: platformdirs>=2.5 in c:\\users\\kblu\\appdata\\roaming\\python\\python312\\site-packages (from jupyter-core!=5.0.*,>=4.12->ipykernel->-r basic-requirements.txt (line 2)) (4.2.0)\n",
      "Requirement already satisfied: pywin32>=300 in c:\\users\\kblu\\appdata\\roaming\\python\\python312\\site-packages (from jupyter-core!=5.0.*,>=4.12->ipykernel->-r basic-requirements.txt (line 2)) (306)\n",
      "Requirement already satisfied: six>=1.5 in c:\\users\\kblu\\appdata\\roaming\\python\\python312\\site-packages (from python-dateutil>=2.8.2->pandas->-r basic-requirements.txt (line 4)) (1.16.0)\n",
      "Requirement already satisfied: beautifulsoup4 in c:\\users\\kblu\\appdata\\roaming\\python\\python312\\site-packages (from nbconvert->jupyter->-r basic-requirements.txt (line 1)) (4.12.3)\n",
      "Requirement already satisfied: bleach!=5.0.0 in c:\\users\\kblu\\appdata\\roaming\\python\\python312\\site-packages (from nbconvert->jupyter->-r basic-requirements.txt (line 1)) (6.1.0)\n",
      "Requirement already satisfied: defusedxml in c:\\users\\kblu\\appdata\\roaming\\python\\python312\\site-packages (from nbconvert->jupyter->-r basic-requirements.txt (line 1)) (0.7.1)\n",
      "Requirement already satisfied: jinja2>=3.0 in c:\\users\\kblu\\appdata\\roaming\\python\\python312\\site-packages (from nbconvert->jupyter->-r basic-requirements.txt (line 1)) (3.1.3)\n",
      "Requirement already satisfied: jupyterlab-pygments in c:\\users\\kblu\\appdata\\roaming\\python\\python312\\site-packages (from nbconvert->jupyter->-r basic-requirements.txt (line 1)) (0.3.0)\n",
      "Requirement already satisfied: markupsafe>=2.0 in c:\\users\\kblu\\appdata\\roaming\\python\\python312\\site-packages (from nbconvert->jupyter->-r basic-requirements.txt (line 1)) (2.1.5)\n",
      "Requirement already satisfied: mistune<4,>=2.0.3 in c:\\users\\kblu\\appdata\\roaming\\python\\python312\\site-packages (from nbconvert->jupyter->-r basic-requirements.txt (line 1)) (3.0.2)\n",
      "Requirement already satisfied: nbclient>=0.5.0 in c:\\users\\kblu\\appdata\\roaming\\python\\python312\\site-packages (from nbconvert->jupyter->-r basic-requirements.txt (line 1)) (0.9.0)\n",
      "Requirement already satisfied: nbformat>=5.7 in c:\\users\\kblu\\appdata\\roaming\\python\\python312\\site-packages (from nbconvert->jupyter->-r basic-requirements.txt (line 1)) (5.9.2)\n",
      "Requirement already satisfied: pandocfilters>=1.4.1 in c:\\users\\kblu\\appdata\\roaming\\python\\python312\\site-packages (from nbconvert->jupyter->-r basic-requirements.txt (line 1)) (1.5.1)\n",
      "Requirement already satisfied: tinycss2 in c:\\users\\kblu\\appdata\\roaming\\python\\python312\\site-packages (from nbconvert->jupyter->-r basic-requirements.txt (line 1)) (1.2.1)\n",
      "Requirement already satisfied: jupyter-server<3,>=2.4.0 in c:\\users\\kblu\\appdata\\roaming\\python\\python312\\site-packages (from notebook->jupyter->-r basic-requirements.txt (line 1)) (2.12.5)\n",
      "Requirement already satisfied: jupyterlab-server<3,>=2.22.1 in c:\\users\\kblu\\appdata\\roaming\\python\\python312\\site-packages (from notebook->jupyter->-r basic-requirements.txt (line 1)) (2.25.3)\n",
      "Requirement already satisfied: jupyterlab<4.2,>=4.1.1 in c:\\users\\kblu\\appdata\\roaming\\python\\python312\\site-packages (from notebook->jupyter->-r basic-requirements.txt (line 1)) (4.1.2)\n",
      "Requirement already satisfied: notebook-shim<0.3,>=0.2 in c:\\users\\kblu\\appdata\\roaming\\python\\python312\\site-packages (from notebook->jupyter->-r basic-requirements.txt (line 1)) (0.2.4)\n",
      "Requirement already satisfied: qtpy>=2.4.0 in c:\\users\\kblu\\appdata\\roaming\\python\\python312\\site-packages (from qtconsole->jupyter->-r basic-requirements.txt (line 1)) (2.4.1)\n",
      "Requirement already satisfied: webencodings in c:\\users\\kblu\\appdata\\roaming\\python\\python312\\site-packages (from bleach!=5.0.0->nbconvert->jupyter->-r basic-requirements.txt (line 1)) (0.5.1)\n",
      "Requirement already satisfied: parso<0.9.0,>=0.8.3 in c:\\users\\kblu\\appdata\\roaming\\python\\python312\\site-packages (from jedi>=0.16->ipython>=7.23.1->ipykernel->-r basic-requirements.txt (line 2)) (0.8.3)\n",
      "Requirement already satisfied: anyio>=3.1.0 in c:\\users\\kblu\\appdata\\local\\programs\\python\\python312\\lib\\site-packages (from jupyter-server<3,>=2.4.0->notebook->jupyter->-r basic-requirements.txt (line 1)) (4.1.0)\n",
      "Requirement already satisfied: argon2-cffi in c:\\users\\kblu\\appdata\\roaming\\python\\python312\\site-packages (from jupyter-server<3,>=2.4.0->notebook->jupyter->-r basic-requirements.txt (line 1)) (23.1.0)\n",
      "Requirement already satisfied: jupyter-events>=0.9.0 in c:\\users\\kblu\\appdata\\roaming\\python\\python312\\site-packages (from jupyter-server<3,>=2.4.0->notebook->jupyter->-r basic-requirements.txt (line 1)) (0.9.0)\n",
      "Requirement already satisfied: jupyter-server-terminals in c:\\users\\kblu\\appdata\\roaming\\python\\python312\\site-packages (from jupyter-server<3,>=2.4.0->notebook->jupyter->-r basic-requirements.txt (line 1)) (0.5.2)\n",
      "Collecting overrides (from jupyter-server<3,>=2.4.0->notebook->jupyter->-r basic-requirements.txt (line 1))\n",
      "  Using cached overrides-7.7.0-py3-none-any.whl.metadata (5.8 kB)\n",
      "Requirement already satisfied: prometheus-client in c:\\users\\kblu\\appdata\\roaming\\python\\python312\\site-packages (from jupyter-server<3,>=2.4.0->notebook->jupyter->-r basic-requirements.txt (line 1)) (0.20.0)\n",
      "Requirement already satisfied: pywinpty in c:\\users\\kblu\\appdata\\roaming\\python\\python312\\site-packages (from jupyter-server<3,>=2.4.0->notebook->jupyter->-r basic-requirements.txt (line 1)) (2.0.13)\n",
      "Requirement already satisfied: send2trash>=1.8.2 in c:\\users\\kblu\\appdata\\roaming\\python\\python312\\site-packages (from jupyter-server<3,>=2.4.0->notebook->jupyter->-r basic-requirements.txt (line 1)) (1.8.2)\n",
      "Requirement already satisfied: terminado>=0.8.3 in c:\\users\\kblu\\appdata\\roaming\\python\\python312\\site-packages (from jupyter-server<3,>=2.4.0->notebook->jupyter->-r basic-requirements.txt (line 1)) (0.18.0)\n",
      "Requirement already satisfied: websocket-client in c:\\users\\kblu\\appdata\\roaming\\python\\python312\\site-packages (from jupyter-server<3,>=2.4.0->notebook->jupyter->-r basic-requirements.txt (line 1)) (1.7.0)\n",
      "Requirement already satisfied: async-lru>=1.0.0 in c:\\users\\kblu\\appdata\\roaming\\python\\python312\\site-packages (from jupyterlab<4.2,>=4.1.1->notebook->jupyter->-r basic-requirements.txt (line 1)) (2.0.4)\n",
      "Collecting httpx>=0.25.0 (from jupyterlab<4.2,>=4.1.1->notebook->jupyter->-r basic-requirements.txt (line 1))\n",
      "  Using cached httpx-0.27.0-py3-none-any.whl.metadata (7.2 kB)\n",
      "Requirement already satisfied: jupyter-lsp>=2.0.0 in c:\\users\\kblu\\appdata\\roaming\\python\\python312\\site-packages (from jupyterlab<4.2,>=4.1.1->notebook->jupyter->-r basic-requirements.txt (line 1)) (2.2.3)\n",
      "Requirement already satisfied: babel>=2.10 in c:\\users\\kblu\\appdata\\roaming\\python\\python312\\site-packages (from jupyterlab-server<3,>=2.22.1->notebook->jupyter->-r basic-requirements.txt (line 1)) (2.14.0)\n",
      "Requirement already satisfied: json5>=0.9.0 in c:\\users\\kblu\\appdata\\roaming\\python\\python312\\site-packages (from jupyterlab-server<3,>=2.22.1->notebook->jupyter->-r basic-requirements.txt (line 1)) (0.9.17)\n",
      "Requirement already satisfied: jsonschema>=4.18.0 in c:\\users\\kblu\\appdata\\roaming\\python\\python312\\site-packages (from jupyterlab-server<3,>=2.22.1->notebook->jupyter->-r basic-requirements.txt (line 1)) (4.21.1)\n",
      "Requirement already satisfied: requests>=2.31 in c:\\users\\kblu\\appdata\\roaming\\python\\python312\\site-packages (from jupyterlab-server<3,>=2.22.1->notebook->jupyter->-r basic-requirements.txt (line 1)) (2.31.0)\n",
      "Requirement already satisfied: fastjsonschema in c:\\users\\kblu\\appdata\\roaming\\python\\python312\\site-packages (from nbformat>=5.7->nbconvert->jupyter->-r basic-requirements.txt (line 1)) (2.19.1)\n",
      "Requirement already satisfied: wcwidth in c:\\users\\kblu\\appdata\\roaming\\python\\python312\\site-packages (from prompt-toolkit<3.1.0,>=3.0.41->ipython>=7.23.1->ipykernel->-r basic-requirements.txt (line 2)) (0.2.13)\n",
      "Requirement already satisfied: soupsieve>1.2 in c:\\users\\kblu\\appdata\\roaming\\python\\python312\\site-packages (from beautifulsoup4->nbconvert->jupyter->-r basic-requirements.txt (line 1)) (2.5)\n",
      "Requirement already satisfied: executing>=1.2.0 in c:\\users\\kblu\\appdata\\roaming\\python\\python312\\site-packages (from stack-data->ipython>=7.23.1->ipykernel->-r basic-requirements.txt (line 2)) (2.0.1)\n",
      "Requirement already satisfied: asttokens>=2.1.0 in c:\\users\\kblu\\appdata\\roaming\\python\\python312\\site-packages (from stack-data->ipython>=7.23.1->ipykernel->-r basic-requirements.txt (line 2)) (2.4.1)\n",
      "Requirement already satisfied: pure-eval in c:\\users\\kblu\\appdata\\roaming\\python\\python312\\site-packages (from stack-data->ipython>=7.23.1->ipykernel->-r basic-requirements.txt (line 2)) (0.2.2)\n",
      "Requirement already satisfied: idna>=2.8 in c:\\users\\kblu\\appdata\\roaming\\python\\python312\\site-packages (from anyio>=3.1.0->jupyter-server<3,>=2.4.0->notebook->jupyter->-r basic-requirements.txt (line 1)) (3.6)\n",
      "Requirement already satisfied: sniffio>=1.1 in c:\\users\\kblu\\appdata\\roaming\\python\\python312\\site-packages (from anyio>=3.1.0->jupyter-server<3,>=2.4.0->notebook->jupyter->-r basic-requirements.txt (line 1)) (1.3.1)\n",
      "Requirement already satisfied: certifi in c:\\users\\kblu\\appdata\\roaming\\python\\python312\\site-packages (from httpx>=0.25.0->jupyterlab<4.2,>=4.1.1->notebook->jupyter->-r basic-requirements.txt (line 1)) (2024.2.2)\n",
      "Collecting httpcore==1.* (from httpx>=0.25.0->jupyterlab<4.2,>=4.1.1->notebook->jupyter->-r basic-requirements.txt (line 1))\n",
      "  Using cached httpcore-1.0.4-py3-none-any.whl.metadata (20 kB)\n",
      "Requirement already satisfied: h11<0.15,>=0.13 in c:\\users\\kblu\\appdata\\roaming\\python\\python312\\site-packages (from httpcore==1.*->httpx>=0.25.0->jupyterlab<4.2,>=4.1.1->notebook->jupyter->-r basic-requirements.txt (line 1)) (0.14.0)\n",
      "Requirement already satisfied: attrs>=22.2.0 in c:\\users\\kblu\\appdata\\roaming\\python\\python312\\site-packages (from jsonschema>=4.18.0->jupyterlab-server<3,>=2.22.1->notebook->jupyter->-r basic-requirements.txt (line 1)) (23.2.0)\n",
      "Requirement already satisfied: jsonschema-specifications>=2023.03.6 in c:\\users\\kblu\\appdata\\roaming\\python\\python312\\site-packages (from jsonschema>=4.18.0->jupyterlab-server<3,>=2.22.1->notebook->jupyter->-r basic-requirements.txt (line 1)) (2023.12.1)\n",
      "Requirement already satisfied: referencing>=0.28.4 in c:\\users\\kblu\\appdata\\roaming\\python\\python312\\site-packages (from jsonschema>=4.18.0->jupyterlab-server<3,>=2.22.1->notebook->jupyter->-r basic-requirements.txt (line 1)) (0.33.0)\n",
      "Requirement already satisfied: rpds-py>=0.7.1 in c:\\users\\kblu\\appdata\\roaming\\python\\python312\\site-packages (from jsonschema>=4.18.0->jupyterlab-server<3,>=2.22.1->notebook->jupyter->-r basic-requirements.txt (line 1)) (0.18.0)\n",
      "Requirement already satisfied: python-json-logger>=2.0.4 in c:\\users\\kblu\\appdata\\roaming\\python\\python312\\site-packages (from jupyter-events>=0.9.0->jupyter-server<3,>=2.4.0->notebook->jupyter->-r basic-requirements.txt (line 1)) (2.0.7)\n",
      "Requirement already satisfied: pyyaml>=5.3 in c:\\users\\kblu\\appdata\\roaming\\python\\python312\\site-packages (from jupyter-events>=0.9.0->jupyter-server<3,>=2.4.0->notebook->jupyter->-r basic-requirements.txt (line 1)) (6.0.1)\n",
      "Requirement already satisfied: rfc3339-validator in c:\\users\\kblu\\appdata\\roaming\\python\\python312\\site-packages (from jupyter-events>=0.9.0->jupyter-server<3,>=2.4.0->notebook->jupyter->-r basic-requirements.txt (line 1)) (0.1.4)\n",
      "Requirement already satisfied: rfc3986-validator>=0.1.1 in c:\\users\\kblu\\appdata\\roaming\\python\\python312\\site-packages (from jupyter-events>=0.9.0->jupyter-server<3,>=2.4.0->notebook->jupyter->-r basic-requirements.txt (line 1)) (0.1.1)\n",
      "Requirement already satisfied: charset-normalizer<4,>=2 in c:\\users\\kblu\\appdata\\roaming\\python\\python312\\site-packages (from requests>=2.31->jupyterlab-server<3,>=2.22.1->notebook->jupyter->-r basic-requirements.txt (line 1)) (3.3.2)\n",
      "Requirement already satisfied: urllib3<3,>=1.21.1 in c:\\users\\kblu\\appdata\\roaming\\python\\python312\\site-packages (from requests>=2.31->jupyterlab-server<3,>=2.22.1->notebook->jupyter->-r basic-requirements.txt (line 1)) (2.2.1)\n",
      "Requirement already satisfied: argon2-cffi-bindings in c:\\users\\kblu\\appdata\\roaming\\python\\python312\\site-packages (from argon2-cffi->jupyter-server<3,>=2.4.0->notebook->jupyter->-r basic-requirements.txt (line 1)) (21.2.0)\n",
      "Requirement already satisfied: fqdn in c:\\users\\kblu\\appdata\\roaming\\python\\python312\\site-packages (from jsonschema[format-nongpl]>=4.18.0->jupyter-events>=0.9.0->jupyter-server<3,>=2.4.0->notebook->jupyter->-r basic-requirements.txt (line 1)) (1.5.1)\n",
      "Requirement already satisfied: isoduration in c:\\users\\kblu\\appdata\\roaming\\python\\python312\\site-packages (from jsonschema[format-nongpl]>=4.18.0->jupyter-events>=0.9.0->jupyter-server<3,>=2.4.0->notebook->jupyter->-r basic-requirements.txt (line 1)) (20.11.0)\n",
      "Requirement already satisfied: jsonpointer>1.13 in c:\\users\\kblu\\appdata\\roaming\\python\\python312\\site-packages (from jsonschema[format-nongpl]>=4.18.0->jupyter-events>=0.9.0->jupyter-server<3,>=2.4.0->notebook->jupyter->-r basic-requirements.txt (line 1)) (2.4)\n",
      "Requirement already satisfied: uri-template in c:\\users\\kblu\\appdata\\roaming\\python\\python312\\site-packages (from jsonschema[format-nongpl]>=4.18.0->jupyter-events>=0.9.0->jupyter-server<3,>=2.4.0->notebook->jupyter->-r basic-requirements.txt (line 1)) (1.3.0)\n",
      "Requirement already satisfied: webcolors>=1.11 in c:\\users\\kblu\\appdata\\roaming\\python\\python312\\site-packages (from jsonschema[format-nongpl]>=4.18.0->jupyter-events>=0.9.0->jupyter-server<3,>=2.4.0->notebook->jupyter->-r basic-requirements.txt (line 1)) (1.13)\n",
      "Requirement already satisfied: cffi>=1.0.1 in c:\\users\\kblu\\appdata\\roaming\\python\\python312\\site-packages (from argon2-cffi-bindings->argon2-cffi->jupyter-server<3,>=2.4.0->notebook->jupyter->-r basic-requirements.txt (line 1)) (1.16.0)\n",
      "Requirement already satisfied: pycparser in c:\\users\\kblu\\appdata\\roaming\\python\\python312\\site-packages (from cffi>=1.0.1->argon2-cffi-bindings->argon2-cffi->jupyter-server<3,>=2.4.0->notebook->jupyter->-r basic-requirements.txt (line 1)) (2.21)\n",
      "Requirement already satisfied: arrow>=0.15.0 in c:\\users\\kblu\\appdata\\roaming\\python\\python312\\site-packages (from isoduration->jsonschema[format-nongpl]>=4.18.0->jupyter-events>=0.9.0->jupyter-server<3,>=2.4.0->notebook->jupyter->-r basic-requirements.txt (line 1)) (1.3.0)\n",
      "Requirement already satisfied: types-python-dateutil>=2.8.10 in c:\\users\\kblu\\appdata\\roaming\\python\\python312\\site-packages (from arrow>=0.15.0->isoduration->jsonschema[format-nongpl]>=4.18.0->jupyter-events>=0.9.0->jupyter-server<3,>=2.4.0->notebook->jupyter->-r basic-requirements.txt (line 1)) (2.8.19.20240106)\n",
      "Using cached jupyter-1.0.0-py2.py3-none-any.whl (2.7 kB)\n",
      "Using cached ipykernel-6.29.3-py3-none-any.whl (117 kB)\n",
      "Using cached ipywidgets-8.1.2-py3-none-any.whl (139 kB)\n",
      "Using cached pandas-2.2.1-cp312-cp312-win_amd64.whl (11.5 MB)\n",
      "Using cached matplotlib-3.8.3-cp312-cp312-win_amd64.whl (7.6 MB)\n",
      "Using cached openpyxl-3.1.2-py2.py3-none-any.whl (249 kB)\n",
      "Using cached python_dateutil-2.9.0.post0-py2.py3-none-any.whl (229 kB)\n",
      "Using cached httpx-0.27.0-py3-none-any.whl (75 kB)\n",
      "Using cached httpcore-1.0.4-py3-none-any.whl (77 kB)\n",
      "Using cached overrides-7.7.0-py3-none-any.whl (17 kB)\n",
      "WARNING: Ignoring invalid distribution ~atplotlib (C:\\Users\\kblu\\AppData\\Roaming\\Python\\Python312\\site-packages)\n",
      "Installing collected packages: python-dateutil, overrides, openpyxl, httpcore, pandas, matplotlib, httpx, ipywidgets, ipykernel, jupyter\n",
      "  Attempting uninstall: httpcore\n",
      "    Found existing installation: httpcore 0.17.3\n",
      "    Uninstalling httpcore-0.17.3:\n",
      "      Successfully uninstalled httpcore-0.17.3\n",
      "Successfully installed httpcore-1.0.4 httpx-0.27.0 ipykernel-6.29.3 ipywidgets-8.1.2 jupyter-1.0.0 matplotlib-3.8.3 openpyxl-3.1.2 overrides-7.7.0 pandas-2.2.1 python-dateutil-2.9.0.post0\n",
      "\n",
      "\n"
     ]
    }
   ],
   "source": [
    "install_packages_from_requirements_file('basic-requirements.txt', print_output = True)"
   ]
  },
  {
   "cell_type": "markdown",
   "metadata": {},
   "source": [
    "#### Install OneCompute requirements"
   ]
  },
  {
   "cell_type": "code",
   "execution_count": 8,
   "metadata": {},
   "outputs": [
    {
     "name": "stdout",
     "output_type": "stream",
     "text": [
      "Output: \n",
      "Collecting msal==1.23.0 (from -r onecompute-requirements.txt (line 1))\n",
      "  Using cached msal-1.23.0-py2.py3-none-any.whl.metadata (11 kB)\n",
      "Collecting azure-storage-blob==12.17.0 (from -r onecompute-requirements.txt (line 2))\n",
      "  Using cached azure_storage_blob-12.17.0-py3-none-any.whl.metadata (26 kB)\n",
      "Collecting cancel-token==0.1.6 (from -r onecompute-requirements.txt (line 3))\n",
      "  Using cached cancel_token-0.1.6-py3-none-any.whl.metadata (1.6 kB)\n",
      "Collecting httpx==0.24.1 (from -r onecompute-requirements.txt (line 4))\n",
      "  Using cached httpx-0.24.1-py3-none-any.whl.metadata (7.4 kB)\n",
      "Collecting dacite==1.8.1 (from -r onecompute-requirements.txt (line 5))\n",
      "  Using cached dacite-1.8.1-py3-none-any.whl.metadata (15 kB)\n",
      "Collecting stringcase==1.2.0 (from -r onecompute-requirements.txt (line 6))\n",
      "  Using cached stringcase-1.2.0-py3-none-any.whl\n",
      "Collecting pyjwt==2.8.0 (from -r onecompute-requirements.txt (line 7))\n",
      "  Using cached PyJWT-2.8.0-py3-none-any.whl.metadata (4.2 kB)\n",
      "Collecting overrides==7.4.0 (from -r onecompute-requirements.txt (line 8))\n",
      "  Using cached overrides-7.4.0-py3-none-any.whl.metadata (5.7 kB)\n",
      "Collecting python-dateutil==2.8.2 (from -r onecompute-requirements.txt (line 9))\n",
      "  Using cached python_dateutil-2.8.2-py2.py3-none-any.whl.metadata (8.2 kB)\n",
      "Requirement already satisfied: requests<3,>=2.0.0 in c:\\users\\kblu\\appdata\\roaming\\python\\python312\\site-packages (from msal==1.23.0->-r onecompute-requirements.txt (line 1)) (2.31.0)\n",
      "Requirement already satisfied: cryptography<44,>=0.6 in c:\\users\\kblu\\appdata\\roaming\\python\\python312\\site-packages (from msal==1.23.0->-r onecompute-requirements.txt (line 1)) (41.0.7)\n",
      "Requirement already satisfied: azure-core<2.0.0,>=1.28.0 in c:\\users\\kblu\\appdata\\roaming\\python\\python312\\site-packages (from azure-storage-blob==12.17.0->-r onecompute-requirements.txt (line 2)) (1.30.1)\n",
      "Requirement already satisfied: typing-extensions>=4.3.0 in c:\\users\\kblu\\appdata\\roaming\\python\\python312\\site-packages (from azure-storage-blob==12.17.0->-r onecompute-requirements.txt (line 2)) (4.10.0)\n",
      "Requirement already satisfied: isodate>=0.6.1 in c:\\users\\kblu\\appdata\\roaming\\python\\python312\\site-packages (from azure-storage-blob==12.17.0->-r onecompute-requirements.txt (line 2)) (0.6.1)\n",
      "Requirement already satisfied: certifi in c:\\users\\kblu\\appdata\\roaming\\python\\python312\\site-packages (from httpx==0.24.1->-r onecompute-requirements.txt (line 4)) (2024.2.2)\n",
      "Collecting httpcore<0.18.0,>=0.15.0 (from httpx==0.24.1->-r onecompute-requirements.txt (line 4))\n",
      "  Using cached httpcore-0.17.3-py3-none-any.whl.metadata (18 kB)\n",
      "Requirement already satisfied: idna in c:\\users\\kblu\\appdata\\roaming\\python\\python312\\site-packages (from httpx==0.24.1->-r onecompute-requirements.txt (line 4)) (3.6)\n",
      "Requirement already satisfied: sniffio in c:\\users\\kblu\\appdata\\roaming\\python\\python312\\site-packages (from httpx==0.24.1->-r onecompute-requirements.txt (line 4)) (1.3.1)\n",
      "Requirement already satisfied: six>=1.5 in c:\\users\\kblu\\appdata\\roaming\\python\\python312\\site-packages (from python-dateutil==2.8.2->-r onecompute-requirements.txt (line 9)) (1.16.0)\n",
      "Requirement already satisfied: cffi>=1.12 in c:\\users\\kblu\\appdata\\roaming\\python\\python312\\site-packages (from cryptography<44,>=0.6->msal==1.23.0->-r onecompute-requirements.txt (line 1)) (1.16.0)\n",
      "Requirement already satisfied: h11<0.15,>=0.13 in c:\\users\\kblu\\appdata\\roaming\\python\\python312\\site-packages (from httpcore<0.18.0,>=0.15.0->httpx==0.24.1->-r onecompute-requirements.txt (line 4)) (0.14.0)\n",
      "Requirement already satisfied: anyio<5.0,>=3.0 in c:\\users\\kblu\\appdata\\local\\programs\\python\\python312\\lib\\site-packages (from httpcore<0.18.0,>=0.15.0->httpx==0.24.1->-r onecompute-requirements.txt (line 4)) (4.1.0)\n",
      "Requirement already satisfied: charset-normalizer<4,>=2 in c:\\users\\kblu\\appdata\\roaming\\python\\python312\\site-packages (from requests<3,>=2.0.0->msal==1.23.0->-r onecompute-requirements.txt (line 1)) (3.3.2)\n",
      "Requirement already satisfied: urllib3<3,>=1.21.1 in c:\\users\\kblu\\appdata\\roaming\\python\\python312\\site-packages (from requests<3,>=2.0.0->msal==1.23.0->-r onecompute-requirements.txt (line 1)) (2.2.1)\n",
      "Requirement already satisfied: pycparser in c:\\users\\kblu\\appdata\\roaming\\python\\python312\\site-packages (from cffi>=1.12->cryptography<44,>=0.6->msal==1.23.0->-r onecompute-requirements.txt (line 1)) (2.21)\n",
      "Using cached msal-1.23.0-py2.py3-none-any.whl (90 kB)\n",
      "Using cached azure_storage_blob-12.17.0-py3-none-any.whl (388 kB)\n",
      "Using cached cancel_token-0.1.6-py3-none-any.whl (3.5 kB)\n",
      "Using cached httpx-0.24.1-py3-none-any.whl (75 kB)\n",
      "Using cached dacite-1.8.1-py3-none-any.whl (14 kB)\n",
      "Using cached PyJWT-2.8.0-py3-none-any.whl (22 kB)\n",
      "Using cached overrides-7.4.0-py3-none-any.whl (17 kB)\n",
      "Using cached python_dateutil-2.8.2-py2.py3-none-any.whl (247 kB)\n",
      "Using cached httpcore-0.17.3-py3-none-any.whl (74 kB)\n",
      "Installing collected packages: stringcase, cancel-token, python-dateutil, pyjwt, overrides, dacite, httpcore, httpx, azure-storage-blob, msal\n",
      "  Attempting uninstall: python-dateutil\n",
      "    Found existing installation: python-dateutil 2.9.0.post0\n",
      "    Uninstalling python-dateutil-2.9.0.post0:\n",
      "      Successfully uninstalled python-dateutil-2.9.0.post0\n",
      "  Attempting uninstall: overrides\n",
      "    Found existing installation: overrides 7.7.0\n",
      "    Uninstalling overrides-7.7.0:\n",
      "      Successfully uninstalled overrides-7.7.0\n",
      "  Attempting uninstall: httpcore\n",
      "    Found existing installation: httpcore 1.0.4\n",
      "    Uninstalling httpcore-1.0.4:\n",
      "      Successfully uninstalled httpcore-1.0.4\n",
      "  Attempting uninstall: httpx\n",
      "    Found existing installation: httpx 0.27.0\n",
      "    Uninstalling httpx-0.27.0:\n",
      "      Successfully uninstalled httpx-0.27.0\n",
      "ERROR: pip's dependency resolver does not currently take into account all the packages that are installed. This behaviour is the source of the following dependency conflicts.\n",
      "jupyterlab 4.1.2 requires httpx>=0.25.0, but you have httpx 0.24.1 which is incompatible.\n",
      "Successfully installed azure-storage-blob-12.17.0 cancel-token-0.1.6 dacite-1.8.1 httpcore-0.17.3 httpx-0.24.1 msal-1.23.0 overrides-7.4.0 pyjwt-2.8.0 python-dateutil-2.8.2 stringcase-1.2.0\n",
      "\n",
      "\n"
     ]
    }
   ],
   "source": [
    "install_packages_from_requirements_file('onecompute-requirements.txt', print_output = True)"
   ]
  },
  {
   "cell_type": "markdown",
   "metadata": {},
   "source": [
    "#### Installing dnv packages"
   ]
  },
  {
   "cell_type": "code",
   "execution_count": 12,
   "metadata": {},
   "outputs": [
    {
     "name": "stdout",
     "output_type": "stream",
     "text": [
      "Output: \n",
      "Looking in indexes: https://pypi.org/simple, https://testpypi.python.org/pypi\n",
      "Collecting dnv-onecompute==9.2.0.87 (from -r dnv-requirements.txt (line 2))\n",
      "  Downloading https://test-files.pythonhosted.org/packages/e1/59/43b1275f3b3b4091de8d8139adc1f0943e9300107a78b27a85e0f398766a/dnv_onecompute-9.2.0.87-py3-none-any.whl (49 kB)\n",
      "     ---------------------------------------- 0.0/49.1 kB ? eta -:--:--\n",
      "     -------- ------------------------------- 10.2/49.1 kB ? eta -:--:--\n",
      "     ----------------------- -------------- 30.7/49.1 kB 325.1 kB/s eta 0:00:01\n",
      "     ----------------------- -------------- 30.7/49.1 kB 325.1 kB/s eta 0:00:01\n",
      "     -------------------------------------- 49.1/49.1 kB 247.5 kB/s eta 0:00:00\n",
      "Collecting dnv-oneworkflow==1.0.0.1367 (from -r dnv-requirements.txt (line 3))\n",
      "  Downloading https://test-files.pythonhosted.org/packages/07/41/17df63098f10919b29f0330e7a36dea56af26e227945c8790703d14fb278/dnv_oneworkflow-1.0.0.1367-py3-none-any.whl (70 kB)\n",
      "     ---------------------------------------- 0.0/70.7 kB ? eta -:--:--\n",
      "     ---------------------------------------- 70.7/70.7 kB 3.8 MB/s eta 0:00:00\n",
      "Collecting dnv-sesam-commands==5.16.0.79 (from -r dnv-requirements.txt (line 4))\n",
      "  Using cached https://test-files.pythonhosted.org/packages/d9/2b/ae10cf2e048148a65a8a933e3d169550ece679c641a59d0e903a23a020a8/dnv_sesam_commands-5.16.0.79-py3-none-any.whl (14 kB)\n",
      "Collecting azure-storage-blob==12.19.0 (from dnv-onecompute==9.2.0.87->-r dnv-requirements.txt (line 2))\n",
      "  Using cached azure_storage_blob-12.19.0-py3-none-any.whl.metadata (26 kB)\n",
      "Requirement already satisfied: cancel-token==0.1.6 in c:\\users\\kblu\\appdata\\roaming\\python\\python312\\site-packages (from dnv-onecompute==9.2.0.87->-r dnv-requirements.txt (line 2)) (0.1.6)\n",
      "Requirement already satisfied: casefy==0.1.7 in c:\\users\\kblu\\appdata\\roaming\\python\\python312\\site-packages (from dnv-onecompute==9.2.0.87->-r dnv-requirements.txt (line 2)) (0.1.7)\n",
      "Requirement already satisfied: dacite==1.8.1 in c:\\users\\kblu\\appdata\\roaming\\python\\python312\\site-packages (from dnv-onecompute==9.2.0.87->-r dnv-requirements.txt (line 2)) (1.8.1)\n",
      "Collecting httpx==0.26.0 (from dnv-onecompute==9.2.0.87->-r dnv-requirements.txt (line 2))\n",
      "  Using cached httpx-0.26.0-py3-none-any.whl.metadata (7.6 kB)\n",
      "Collecting msal==1.26.0 (from dnv-onecompute==9.2.0.87->-r dnv-requirements.txt (line 2))\n",
      "  Using cached msal-1.26.0-py2.py3-none-any.whl.metadata (11 kB)\n",
      "Requirement already satisfied: msal-extensions==1.1.0 in c:\\users\\kblu\\appdata\\roaming\\python\\python312\\site-packages (from dnv-onecompute==9.2.0.87->-r dnv-requirements.txt (line 2)) (1.1.0)\n",
      "Requirement already satisfied: overrides==7.4.0 in c:\\users\\kblu\\appdata\\roaming\\python\\python312\\site-packages (from dnv-onecompute==9.2.0.87->-r dnv-requirements.txt (line 2)) (7.4.0)\n",
      "Requirement already satisfied: psutil==5.9.7 in c:\\users\\kblu\\appdata\\roaming\\python\\python312\\site-packages (from dnv-onecompute==9.2.0.87->-r dnv-requirements.txt (line 2)) (5.9.7)\n",
      "Requirement already satisfied: python-dateutil==2.8.2 in c:\\users\\kblu\\appdata\\roaming\\python\\python312\\site-packages (from dnv-onecompute==9.2.0.87->-r dnv-requirements.txt (line 2)) (2.8.2)\n",
      "Requirement already satisfied: retry==0.9.2 in c:\\users\\kblu\\appdata\\roaming\\python\\python312\\site-packages (from dnv-onecompute==9.2.0.87->-r dnv-requirements.txt (line 2)) (0.9.2)\n",
      "Requirement already satisfied: setuptools==69.0.3 in c:\\users\\kblu\\appdata\\roaming\\python\\python312\\site-packages (from dnv-onecompute==9.2.0.87->-r dnv-requirements.txt (line 2)) (69.0.3)\n",
      "Requirement already satisfied: cryptography==41.0.7 in c:\\users\\kblu\\appdata\\roaming\\python\\python312\\site-packages (from dnv-oneworkflow==1.0.0.1367->-r dnv-requirements.txt (line 3)) (41.0.7)\n",
      "Requirement already satisfied: ipywidgets==8.1.2 in c:\\users\\kblu\\appdata\\roaming\\python\\python312\\site-packages (from dnv-oneworkflow==1.0.0.1367->-r dnv-requirements.txt (line 3)) (8.1.2)\n",
      "Requirement already satisfied: signify==0.5.2 in c:\\users\\kblu\\appdata\\roaming\\python\\python312\\site-packages (from dnv-oneworkflow==1.0.0.1367->-r dnv-requirements.txt (line 3)) (0.5.2)\n",
      "Requirement already satisfied: tqdm==4.66.1 in c:\\users\\kblu\\appdata\\roaming\\python\\python312\\site-packages (from dnv-oneworkflow==1.0.0.1367->-r dnv-requirements.txt (line 3)) (4.66.1)\n",
      "Requirement already satisfied: azure-core<2.0.0,>=1.28.0 in c:\\users\\kblu\\appdata\\roaming\\python\\python312\\site-packages (from azure-storage-blob==12.19.0->dnv-onecompute==9.2.0.87->-r dnv-requirements.txt (line 2)) (1.30.1)\n",
      "Requirement already satisfied: typing-extensions>=4.3.0 in c:\\users\\kblu\\appdata\\roaming\\python\\python312\\site-packages (from azure-storage-blob==12.19.0->dnv-onecompute==9.2.0.87->-r dnv-requirements.txt (line 2)) (4.10.0)\n",
      "Requirement already satisfied: isodate>=0.6.1 in c:\\users\\kblu\\appdata\\roaming\\python\\python312\\site-packages (from azure-storage-blob==12.19.0->dnv-onecompute==9.2.0.87->-r dnv-requirements.txt (line 2)) (0.6.1)\n",
      "Requirement already satisfied: cffi>=1.12 in c:\\users\\kblu\\appdata\\roaming\\python\\python312\\site-packages (from cryptography==41.0.7->dnv-oneworkflow==1.0.0.1367->-r dnv-requirements.txt (line 3)) (1.16.0)\n",
      "Requirement already satisfied: anyio in c:\\users\\kblu\\appdata\\local\\programs\\python\\python312\\lib\\site-packages (from httpx==0.26.0->dnv-onecompute==9.2.0.87->-r dnv-requirements.txt (line 2)) (4.1.0)\n",
      "Requirement already satisfied: certifi in c:\\users\\kblu\\appdata\\roaming\\python\\python312\\site-packages (from httpx==0.26.0->dnv-onecompute==9.2.0.87->-r dnv-requirements.txt (line 2)) (2024.2.2)\n",
      "Collecting httpcore==1.* (from httpx==0.26.0->dnv-onecompute==9.2.0.87->-r dnv-requirements.txt (line 2))\n",
      "  Using cached httpcore-1.0.4-py3-none-any.whl.metadata (20 kB)\n",
      "Requirement already satisfied: idna in c:\\users\\kblu\\appdata\\roaming\\python\\python312\\site-packages (from httpx==0.26.0->dnv-onecompute==9.2.0.87->-r dnv-requirements.txt (line 2)) (3.6)\n",
      "Requirement already satisfied: sniffio in c:\\users\\kblu\\appdata\\roaming\\python\\python312\\site-packages (from httpx==0.26.0->dnv-onecompute==9.2.0.87->-r dnv-requirements.txt (line 2)) (1.3.1)\n",
      "Requirement already satisfied: comm>=0.1.3 in c:\\users\\kblu\\appdata\\roaming\\python\\python312\\site-packages (from ipywidgets==8.1.2->dnv-oneworkflow==1.0.0.1367->-r dnv-requirements.txt (line 3)) (0.2.1)\n",
      "Requirement already satisfied: ipython>=6.1.0 in c:\\users\\kblu\\appdata\\roaming\\python\\python312\\site-packages (from ipywidgets==8.1.2->dnv-oneworkflow==1.0.0.1367->-r dnv-requirements.txt (line 3)) (8.22.1)\n",
      "Requirement already satisfied: traitlets>=4.3.1 in c:\\users\\kblu\\appdata\\roaming\\python\\python312\\site-packages (from ipywidgets==8.1.2->dnv-oneworkflow==1.0.0.1367->-r dnv-requirements.txt (line 3)) (5.14.1)\n",
      "Requirement already satisfied: widgetsnbextension~=4.0.10 in c:\\users\\kblu\\appdata\\roaming\\python\\python312\\site-packages (from ipywidgets==8.1.2->dnv-oneworkflow==1.0.0.1367->-r dnv-requirements.txt (line 3)) (4.0.10)\n",
      "Requirement already satisfied: jupyterlab-widgets~=3.0.10 in c:\\users\\kblu\\appdata\\roaming\\python\\python312\\site-packages (from ipywidgets==8.1.2->dnv-oneworkflow==1.0.0.1367->-r dnv-requirements.txt (line 3)) (3.0.10)\n",
      "Requirement already satisfied: requests<3,>=2.0.0 in c:\\users\\kblu\\appdata\\roaming\\python\\python312\\site-packages (from msal==1.26.0->dnv-onecompute==9.2.0.87->-r dnv-requirements.txt (line 2)) (2.31.0)\n",
      "Requirement already satisfied: PyJWT<3,>=1.0.0 in c:\\users\\kblu\\appdata\\roaming\\python\\python312\\site-packages (from PyJWT[crypto]<3,>=1.0.0->msal==1.26.0->dnv-onecompute==9.2.0.87->-r dnv-requirements.txt (line 2)) (2.8.0)\n",
      "Requirement already satisfied: packaging in c:\\users\\kblu\\appdata\\roaming\\python\\python312\\site-packages (from msal-extensions==1.1.0->dnv-onecompute==9.2.0.87->-r dnv-requirements.txt (line 2)) (23.2)\n",
      "Requirement already satisfied: portalocker<3,>=1.6 in c:\\users\\kblu\\appdata\\roaming\\python\\python312\\site-packages (from msal-extensions==1.1.0->dnv-onecompute==9.2.0.87->-r dnv-requirements.txt (line 2)) (2.8.2)\n",
      "Requirement already satisfied: six>=1.5 in c:\\users\\kblu\\appdata\\roaming\\python\\python312\\site-packages (from python-dateutil==2.8.2->dnv-onecompute==9.2.0.87->-r dnv-requirements.txt (line 2)) (1.16.0)\n",
      "Requirement already satisfied: decorator>=3.4.2 in c:\\users\\kblu\\appdata\\roaming\\python\\python312\\site-packages (from retry==0.9.2->dnv-onecompute==9.2.0.87->-r dnv-requirements.txt (line 2)) (5.1.1)\n",
      "Requirement already satisfied: py<2.0.0,>=1.4.26 in c:\\users\\kblu\\appdata\\roaming\\python\\python312\\site-packages (from retry==0.9.2->dnv-onecompute==9.2.0.87->-r dnv-requirements.txt (line 2)) (1.11.0)\n",
      "Requirement already satisfied: pyasn1<0.5.0,>=0.4.0 in c:\\users\\kblu\\appdata\\roaming\\python\\python312\\site-packages (from signify==0.5.2->dnv-oneworkflow==1.0.0.1367->-r dnv-requirements.txt (line 3)) (0.4.8)\n",
      "Requirement already satisfied: certvalidator>=0.11 in c:\\users\\kblu\\appdata\\roaming\\python\\python312\\site-packages (from signify==0.5.2->dnv-oneworkflow==1.0.0.1367->-r dnv-requirements.txt (line 3)) (0.11.1)\n",
      "Requirement already satisfied: asn1crypto<2,>=1.3 in c:\\users\\kblu\\appdata\\roaming\\python\\python312\\site-packages (from signify==0.5.2->dnv-oneworkflow==1.0.0.1367->-r dnv-requirements.txt (line 3)) (1.5.1)\n",
      "Requirement already satisfied: oscrypto<2,>=1.1 in c:\\users\\kblu\\appdata\\roaming\\python\\python312\\site-packages (from signify==0.5.2->dnv-oneworkflow==1.0.0.1367->-r dnv-requirements.txt (line 3)) (1.3.0)\n",
      "Requirement already satisfied: pyasn1-modules>=0.2.8 in c:\\users\\kblu\\appdata\\roaming\\python\\python312\\site-packages (from signify==0.5.2->dnv-oneworkflow==1.0.0.1367->-r dnv-requirements.txt (line 3)) (0.3.0)\n",
      "Requirement already satisfied: mscerts in c:\\users\\kblu\\appdata\\roaming\\python\\python312\\site-packages (from signify==0.5.2->dnv-oneworkflow==1.0.0.1367->-r dnv-requirements.txt (line 3)) (2024.2.28)\n",
      "Requirement already satisfied: colorama in c:\\users\\kblu\\appdata\\roaming\\python\\python312\\site-packages (from tqdm==4.66.1->dnv-oneworkflow==1.0.0.1367->-r dnv-requirements.txt (line 3)) (0.4.6)\n",
      "Requirement already satisfied: h11<0.15,>=0.13 in c:\\users\\kblu\\appdata\\roaming\\python\\python312\\site-packages (from httpcore==1.*->httpx==0.26.0->dnv-onecompute==9.2.0.87->-r dnv-requirements.txt (line 2)) (0.14.0)\n",
      "Requirement already satisfied: pycparser in c:\\users\\kblu\\appdata\\roaming\\python\\python312\\site-packages (from cffi>=1.12->cryptography==41.0.7->dnv-oneworkflow==1.0.0.1367->-r dnv-requirements.txt (line 3)) (2.21)\n",
      "Requirement already satisfied: jedi>=0.16 in c:\\users\\kblu\\appdata\\roaming\\python\\python312\\site-packages (from ipython>=6.1.0->ipywidgets==8.1.2->dnv-oneworkflow==1.0.0.1367->-r dnv-requirements.txt (line 3)) (0.19.1)\n",
      "Requirement already satisfied: matplotlib-inline in c:\\users\\kblu\\appdata\\roaming\\python\\python312\\site-packages (from ipython>=6.1.0->ipywidgets==8.1.2->dnv-oneworkflow==1.0.0.1367->-r dnv-requirements.txt (line 3)) (0.1.6)\n",
      "Requirement already satisfied: prompt-toolkit<3.1.0,>=3.0.41 in c:\\users\\kblu\\appdata\\roaming\\python\\python312\\site-packages (from ipython>=6.1.0->ipywidgets==8.1.2->dnv-oneworkflow==1.0.0.1367->-r dnv-requirements.txt (line 3)) (3.0.43)\n",
      "Requirement already satisfied: pygments>=2.4.0 in c:\\users\\kblu\\appdata\\roaming\\python\\python312\\site-packages (from ipython>=6.1.0->ipywidgets==8.1.2->dnv-oneworkflow==1.0.0.1367->-r dnv-requirements.txt (line 3)) (2.17.2)\n",
      "Requirement already satisfied: stack-data in c:\\users\\kblu\\appdata\\roaming\\python\\python312\\site-packages (from ipython>=6.1.0->ipywidgets==8.1.2->dnv-oneworkflow==1.0.0.1367->-r dnv-requirements.txt (line 3)) (0.6.3)\n",
      "Requirement already satisfied: pywin32>=226 in c:\\users\\kblu\\appdata\\roaming\\python\\python312\\site-packages (from portalocker<3,>=1.6->msal-extensions==1.1.0->dnv-onecompute==9.2.0.87->-r dnv-requirements.txt (line 2)) (306)\n",
      "Requirement already satisfied: charset-normalizer<4,>=2 in c:\\users\\kblu\\appdata\\roaming\\python\\python312\\site-packages (from requests<3,>=2.0.0->msal==1.26.0->dnv-onecompute==9.2.0.87->-r dnv-requirements.txt (line 2)) (3.3.2)\n",
      "Requirement already satisfied: urllib3<3,>=1.21.1 in c:\\users\\kblu\\appdata\\roaming\\python\\python312\\site-packages (from requests<3,>=2.0.0->msal==1.26.0->dnv-onecompute==9.2.0.87->-r dnv-requirements.txt (line 2)) (2.2.1)\n",
      "Requirement already satisfied: parso<0.9.0,>=0.8.3 in c:\\users\\kblu\\appdata\\roaming\\python\\python312\\site-packages (from jedi>=0.16->ipython>=6.1.0->ipywidgets==8.1.2->dnv-oneworkflow==1.0.0.1367->-r dnv-requirements.txt (line 3)) (0.8.3)\n",
      "Requirement already satisfied: wcwidth in c:\\users\\kblu\\appdata\\roaming\\python\\python312\\site-packages (from prompt-toolkit<3.1.0,>=3.0.41->ipython>=6.1.0->ipywidgets==8.1.2->dnv-oneworkflow==1.0.0.1367->-r dnv-requirements.txt (line 3)) (0.2.13)\n",
      "Requirement already satisfied: executing>=1.2.0 in c:\\users\\kblu\\appdata\\roaming\\python\\python312\\site-packages (from stack-data->ipython>=6.1.0->ipywidgets==8.1.2->dnv-oneworkflow==1.0.0.1367->-r dnv-requirements.txt (line 3)) (2.0.1)\n",
      "Requirement already satisfied: asttokens>=2.1.0 in c:\\users\\kblu\\appdata\\roaming\\python\\python312\\site-packages (from stack-data->ipython>=6.1.0->ipywidgets==8.1.2->dnv-oneworkflow==1.0.0.1367->-r dnv-requirements.txt (line 3)) (2.4.1)\n",
      "Requirement already satisfied: pure-eval in c:\\users\\kblu\\appdata\\roaming\\python\\python312\\site-packages (from stack-data->ipython>=6.1.0->ipywidgets==8.1.2->dnv-oneworkflow==1.0.0.1367->-r dnv-requirements.txt (line 3)) (0.2.2)\n",
      "Using cached azure_storage_blob-12.19.0-py3-none-any.whl (394 kB)\n",
      "Using cached httpx-0.26.0-py3-none-any.whl (75 kB)\n",
      "Using cached msal-1.26.0-py2.py3-none-any.whl (99 kB)\n",
      "Using cached httpcore-1.0.4-py3-none-any.whl (77 kB)\n",
      "Installing collected packages: httpcore, httpx, azure-storage-blob, msal, dnv-onecompute, dnv-oneworkflow, dnv-sesam-commands\n",
      "  Attempting uninstall: httpcore\n",
      "    Found existing installation: httpcore 0.17.3\n",
      "    Uninstalling httpcore-0.17.3:\n",
      "      Successfully uninstalled httpcore-0.17.3\n",
      "  Attempting uninstall: httpx\n",
      "    Found existing installation: httpx 0.24.1\n",
      "    Uninstalling httpx-0.24.1:\n",
      "      Successfully uninstalled httpx-0.24.1\n",
      "  Attempting uninstall: azure-storage-blob\n",
      "    Found existing installation: azure-storage-blob 12.17.0\n",
      "    Uninstalling azure-storage-blob-12.17.0:\n",
      "      Successfully uninstalled azure-storage-blob-12.17.0\n",
      "  Attempting uninstall: msal\n",
      "    Found existing installation: msal 1.23.0\n",
      "    Uninstalling msal-1.23.0:\n",
      "      Successfully uninstalled msal-1.23.0\n",
      "Successfully installed azure-storage-blob-12.19.0 dnv-onecompute-9.2.0.87 dnv-oneworkflow-1.0.0.1367 dnv-sesam-commands-5.16.0.79 httpcore-1.0.4 httpx-0.26.0 msal-1.26.0\n",
      "\n",
      "\n"
     ]
    }
   ],
   "source": [
    "install_packages_from_requirements_file('dnv-requirements.txt', print_output = True)"
   ]
  },
  {
   "cell_type": "markdown",
   "metadata": {},
   "source": [
    "#### Install SIFIO and dependencies"
   ]
  },
  {
   "cell_type": "code",
   "execution_count": 10,
   "metadata": {},
   "outputs": [
    {
     "name": "stdout",
     "output_type": "stream",
     "text": [
      "Output: \n",
      "Looking in indexes: https://pypi.org/simple, https://testpypi.python.org/pypi\n",
      "Collecting quantconnect-stubs (from -r sifio-requirements.txt (line 2))\n",
      "  Using cached quantconnect_stubs-16283-py3-none-any.whl.metadata (1.4 kB)\n",
      "Collecting pythonnet (from -r sifio-requirements.txt (line 3))\n",
      "  Using cached pythonnet-3.0.3-py3-none-any.whl.metadata (6.6 kB)\n",
      "Collecting dnv-net-runtime==1.0.0.41 (from -r sifio-requirements.txt (line 4))\n",
      "  Using cached https://test-files.pythonhosted.org/packages/ef/37/dca95e53c3323563059cf11465e9c5041d7076ff085ae695ebb4a534efd1/dnv_net_runtime-1.0.0.41-py3-none-win_amd64.whl (32.8 MB)\n",
      "Collecting dnv-net-intellisense==1.0.0.41 (from -r sifio-requirements.txt (line 6))\n",
      "  Using cached https://test-files.pythonhosted.org/packages/17/de/913170408d1535669c7651bc6a8b8827c8f3fc1afd8e666d7da08b327c73/dnv_net_intellisense-1.0.0.41-py3-none-any.whl (4.4 kB)\n",
      "Collecting dnv-sifio==5.3.2.994 (from -r sifio-requirements.txt (line 7))\n",
      "  Using cached https://test-files.pythonhosted.org/packages/67/26/b28c75215fda0ec05c1136c68b6348251aa52e9f731577f09cef9b6594a4/dnv_sifio-5.3.2.994-py310-none-any.whl (1.2 MB)\n",
      "Requirement already satisfied: clr-loader<0.3.0,>=0.2.6 in c:\\users\\kblu\\appdata\\roaming\\python\\python312\\site-packages (from pythonnet->-r sifio-requirements.txt (line 3)) (0.2.6)\n",
      "Requirement already satisfied: pandas>=1.5.3 in c:\\users\\kblu\\appdata\\roaming\\python\\python312\\site-packages (from quantconnect-stubs->-r sifio-requirements.txt (line 2)) (2.2.1)\n",
      "Requirement already satisfied: matplotlib>=3.7.3 in c:\\users\\kblu\\appdata\\roaming\\python\\python312\\site-packages (from quantconnect-stubs->-r sifio-requirements.txt (line 2)) (3.8.3)\n",
      "Requirement already satisfied: cffi>=1.13 in c:\\users\\kblu\\appdata\\roaming\\python\\python312\\site-packages (from clr-loader<0.3.0,>=0.2.6->pythonnet->-r sifio-requirements.txt (line 3)) (1.16.0)\n",
      "Requirement already satisfied: contourpy>=1.0.1 in c:\\users\\kblu\\appdata\\roaming\\python\\python312\\site-packages (from matplotlib>=3.7.3->quantconnect-stubs->-r sifio-requirements.txt (line 2)) (1.2.0)\n",
      "Requirement already satisfied: cycler>=0.10 in c:\\users\\kblu\\appdata\\roaming\\python\\python312\\site-packages (from matplotlib>=3.7.3->quantconnect-stubs->-r sifio-requirements.txt (line 2)) (0.12.1)\n",
      "Requirement already satisfied: fonttools>=4.22.0 in c:\\users\\kblu\\appdata\\roaming\\python\\python312\\site-packages (from matplotlib>=3.7.3->quantconnect-stubs->-r sifio-requirements.txt (line 2)) (4.49.0)\n",
      "Requirement already satisfied: kiwisolver>=1.3.1 in c:\\users\\kblu\\appdata\\roaming\\python\\python312\\site-packages (from matplotlib>=3.7.3->quantconnect-stubs->-r sifio-requirements.txt (line 2)) (1.4.5)\n",
      "Requirement already satisfied: numpy<2,>=1.21 in c:\\users\\kblu\\appdata\\roaming\\python\\python312\\site-packages (from matplotlib>=3.7.3->quantconnect-stubs->-r sifio-requirements.txt (line 2)) (1.26.4)\n",
      "Requirement already satisfied: packaging>=20.0 in c:\\users\\kblu\\appdata\\roaming\\python\\python312\\site-packages (from matplotlib>=3.7.3->quantconnect-stubs->-r sifio-requirements.txt (line 2)) (23.2)\n",
      "Requirement already satisfied: pillow>=8 in c:\\users\\kblu\\appdata\\roaming\\python\\python312\\site-packages (from matplotlib>=3.7.3->quantconnect-stubs->-r sifio-requirements.txt (line 2)) (10.2.0)\n",
      "Requirement already satisfied: pyparsing>=2.3.1 in c:\\users\\kblu\\appdata\\roaming\\python\\python312\\site-packages (from matplotlib>=3.7.3->quantconnect-stubs->-r sifio-requirements.txt (line 2)) (3.1.1)\n",
      "Requirement already satisfied: python-dateutil>=2.7 in c:\\users\\kblu\\appdata\\roaming\\python\\python312\\site-packages (from matplotlib>=3.7.3->quantconnect-stubs->-r sifio-requirements.txt (line 2)) (2.8.2)\n",
      "Requirement already satisfied: pytz>=2020.1 in c:\\users\\kblu\\appdata\\roaming\\python\\python312\\site-packages (from pandas>=1.5.3->quantconnect-stubs->-r sifio-requirements.txt (line 2)) (2024.1)\n",
      "Requirement already satisfied: tzdata>=2022.7 in c:\\users\\kblu\\appdata\\roaming\\python\\python312\\site-packages (from pandas>=1.5.3->quantconnect-stubs->-r sifio-requirements.txt (line 2)) (2024.1)\n",
      "Requirement already satisfied: pycparser in c:\\users\\kblu\\appdata\\roaming\\python\\python312\\site-packages (from cffi>=1.13->clr-loader<0.3.0,>=0.2.6->pythonnet->-r sifio-requirements.txt (line 3)) (2.21)\n",
      "Requirement already satisfied: six>=1.5 in c:\\users\\kblu\\appdata\\roaming\\python\\python312\\site-packages (from python-dateutil>=2.7->matplotlib>=3.7.3->quantconnect-stubs->-r sifio-requirements.txt (line 2)) (1.16.0)\n",
      "Using cached pythonnet-3.0.3-py3-none-any.whl (290 kB)\n",
      "Using cached quantconnect_stubs-16283-py3-none-any.whl (1.5 MB)\n",
      "Installing collected packages: dnv-sifio, dnv-net-intellisense, quantconnect-stubs, pythonnet, dnv-net-runtime\n",
      "Successfully installed dnv-net-intellisense-1.0.0.41 dnv-net-runtime-1.0.0.41 dnv-sifio-5.3.2.994 pythonnet-3.0.3 quantconnect-stubs-16283\n",
      "\n",
      "\n",
      "INFO: The stub is updated successfully.\n"
     ]
    }
   ],
   "source": [
    "install_packages_from_requirements_file('sifio-requirements.txt', print_output = True)\n",
    "!update-stubs"
   ]
  },
  {
   "cell_type": "markdown",
   "metadata": {},
   "source": [
    "### Test installation of packages\n",
    "Before you can verify the installation, please note that you need to restart the notebook for the modules to be available: \n",
    "\n",
    "\n",
    "\n",
    "![](restartkernel.png)"
   ]
  },
  {
   "cell_type": "code",
   "execution_count": 13,
   "metadata": {},
   "outputs": [
    {
     "name": "stdout",
     "output_type": "stream",
     "text": [
      "INFO: The .NET Runtime Path 'C:\\Users\\kblu\\AppData\\Roaming\\Python\\Python312\\site-packages\\dnv\\net\\runtime\\.net'\n",
      "INFO: The .NET Runtime Version '.NET 6.0.27'. Runtime Identifier 'win10-x64'.\n"
     ]
    }
   ],
   "source": [
    "from dnv.oneworkflow import *\n",
    "from dnv.sesam import *\n",
    "from dnv.onecompute import *\n",
    "from dnv.sesam.sifapi import *\n",
    "from dnv.net.runtime import *"
   ]
  },
  {
   "cell_type": "markdown",
   "metadata": {},
   "source": [
    "## Install worker for local execution"
   ]
  },
  {
   "cell_type": "code",
   "execution_count": 14,
   "metadata": {},
   "outputs": [
    {
     "name": "stderr",
     "output_type": "stream",
     "text": [
      "INFO: Fetching the terms and conditions.\n",
      "INFO: Downloaded the terms and conditions.\n",
      "INFO: No changes in terms and conditions since last acceptance.\n",
      "INFO: The installed package 'LocalWorkflowRuntime' (version 1.0.0.1367) is the latest\n"
     ]
    }
   ],
   "source": [
    "from dnv.oneworkflow.utils import *\n",
    "from dnv.oneworkflow.repository import *\n",
    "await install_workflow_runtime(repository = Repository.DEV)\n"
   ]
  }
 ],
 "metadata": {
  "kernelspec": {
   "display_name": "Python 3",
   "language": "python",
   "name": "python3"
  },
  "language_info": {
   "codemirror_mode": {
    "name": "ipython",
    "version": 3
   },
   "file_extension": ".py",
   "mimetype": "text/x-python",
   "name": "python",
   "nbconvert_exporter": "python",
   "pygments_lexer": "ipython3",
   "version": "3.12.2"
  },
  "orig_nbformat": 4
 },
 "nbformat": 4,
 "nbformat_minor": 2
}
