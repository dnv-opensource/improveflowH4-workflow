{
 "cells": [
  {
   "attachments": {},
   "cell_type": "markdown",
   "metadata": {},
   "source": [
    "## Description \n",
    "This example demonstrates how to run GeniERuntime through OneWorkflow. A small dummy script for demonstrating SifIO is also provided. This example uses a parametrized containership model from [GeniE Snack Pack](https://sesam.dnv.com/genie_utils/hullforms/containership.html). *AP* and *FP* are parametrized and input given from a Pandas dataframe as shown below.\n",
    "\n",
    "\n"
   ]
  },
  {
   "cell_type": "code",
   "execution_count": 1,
   "metadata": {},
   "outputs": [
    {
     "name": "stdout",
     "output_type": "stream",
     "text": [
      "c:\\Users\\kblu\\source\\repos\\improveflowGIT\\GeniERuntimeExample\n",
      "The temporary blob storage directory is: c:\\OneWorkflowTemp\\oc_mspy5deg_blob\n",
      "The temporary jobs root directory is: c:\\OneWorkflowTemp\\oc_584lgic8_jobs\n",
      "c:\\OneWorkflowTemp\n",
      "Uploading c:\\Users\\kblu\\source\\repos\\improveflowGIT\\GeniERuntimeExample\\Workspace\\CommonFiles\\ContainerHull_template.js to c:\\OneWorkflowTemp\\oc_mspy5deg_blob\\GeniERuntimeExample\\CommonFiles\\ContainerHull_template.js\n",
      "Uploading c:\\Users\\kblu\\source\\repos\\improveflowGIT\\GeniERuntimeExample\\Workspace\\CommonFiles\\copyFiles.py to c:\\OneWorkflowTemp\\oc_mspy5deg_blob\\GeniERuntimeExample\\CommonFiles\\copyFiles.py\n",
      "Uploading c:\\Users\\kblu\\source\\repos\\improveflowGIT\\GeniERuntimeExample\\Workspace\\CommonFiles\\postprocessing.py to c:\\OneWorkflowTemp\\oc_mspy5deg_blob\\GeniERuntimeExample\\CommonFiles\\postprocessing.py\n",
      "Uploading c:\\Users\\kblu\\source\\repos\\improveflowGIT\\GeniERuntimeExample\\Workspace\\CommonFiles\\requirements.txt to c:\\OneWorkflowTemp\\oc_mspy5deg_blob\\GeniERuntimeExample\\CommonFiles\\requirements.txt\n"
     ]
    },
    {
     "data": {
      "text/plain": [
       "True"
      ]
     },
     "execution_count": 1,
     "metadata": {},
     "output_type": "execute_result"
    }
   ],
   "source": [
    "from pathlib import Path\n",
    "from oneWorkflowToolBox import *\n",
    "oneWorlflowTMPFolder = r'c:\\oneworkflowTmp' #due to possible issues with long file paths we prefer to have this folder at the root\n",
    "if not os.path.exists(oneWorlflowTMPFolder):\n",
    "    try:\n",
    "        print(\"Trying to create tmp folder for one workflow local execution\")\n",
    "        os.mkdir(oneWorlflowTMPFolder)\n",
    "    except:\n",
    "        print(\"did not manage to create tmp folder for local execution. Check that you have privileges to create it or try to manually create it from the coomand line.\")\n",
    "\n",
    "workspaceId = \"GeniERuntimeExample\"\n",
    "# local workspace, all results will be put here after local or cloud runs\n",
    "# location of common files for all analysis, has to be below workspacePath and in the folder names CommonFilesr\n",
    "root_folder = os.getcwd()\n",
    "print(root_folder)\n",
    "workspacePath = Path(root_folder, 'Workspace')\n",
    "cloud_run = False\n",
    "#If running locally the code below will also start the local workflow host.\n",
    "workflow_client = one_workflow_client(workspaceId, workspacePath, cloud_run, tmp=oneWorlflowTMPFolder, platform=Platform.Windows)\n",
    "if (cloud_run):\n",
    "    workflow_client.login()\n",
    "workflow_client.upload_common_files(FileOptions(max_size_bytes=524_000,patterns=[\"**/*.*\"], overwrite=True))"
   ]
  },
  {
   "cell_type": "code",
   "execution_count": 2,
   "metadata": {},
   "outputs": [
    {
     "name": "stdout",
     "output_type": "stream",
     "text": [
      "The work item 79a73fd2-c380-492f-b07f-c94620a348e1 message is 'Created'\n",
      "The work item LoadCase1 message is 'Created'\n",
      "The work item LoadCase2 message is 'Created'\n",
      "The work item LoadCase3 message is 'Created'\n",
      "The progress of the job is '0%'. The message is ''\n",
      "The work item LoadCase1 message is ''\n",
      "The work item LoadCase2 message is ''\n",
      "The work item LoadCase3 message is ''\n",
      "The work item LoadCase1 message is 'Executing .'\n",
      "The work item LoadCase2 message is 'Executing .'\n",
      "The work item LoadCase3 message is 'Executing .'\n",
      "The work item LoadCase1 message is 'Execution of  completed'\n",
      "The work item LoadCase2 message is 'Execution of  completed'\n",
      "The work item LoadCase3 message is 'Execution of  completed'\n",
      "The progress of the job is '33%'. The message is 'Completed 0 of 3 tasks of task group 79a73fd2-c380-492f-b07f-c94620a348e1'\n",
      "The status of work item '79a73fd2-c380-492f-b07f-c94620a348e1' is 'Completed'\n",
      "The status of work item 'LoadCase1' is 'Completed'\n",
      "Downloading c:\\OneWorkflowTemp\\oc_mspy5deg_blob\\GeniERuntimeExample\\Results\\LoadCase1\\T1.FEM to c:\\Users\\kblu\\source\\repos\\improveflowGIT\\GeniERuntimeExample\\Workspace\\Results\\LoadCase1\\T1.FEM\n",
      "Downloading c:\\OneWorkflowTemp\\oc_mspy5deg_blob\\GeniERuntimeExample\\Results\\LoadCase1\\nodeCount.csv to c:\\Users\\kblu\\source\\repos\\improveflowGIT\\GeniERuntimeExample\\Workspace\\Results\\LoadCase1\\nodeCount.csv\n",
      "The status of work item 'LoadCase2' is 'Completed'\n",
      "Downloading c:\\OneWorkflowTemp\\oc_mspy5deg_blob\\GeniERuntimeExample\\Results\\LoadCase2\\T1.FEM to c:\\Users\\kblu\\source\\repos\\improveflowGIT\\GeniERuntimeExample\\Workspace\\Results\\LoadCase2\\T1.FEM\n",
      "Downloading c:\\OneWorkflowTemp\\oc_mspy5deg_blob\\GeniERuntimeExample\\Results\\LoadCase2\\nodeCount.csv to c:\\Users\\kblu\\source\\repos\\improveflowGIT\\GeniERuntimeExample\\Workspace\\Results\\LoadCase2\\nodeCount.csv\n",
      "The status of work item 'LoadCase3' is 'Completed'\n",
      "Downloading c:\\OneWorkflowTemp\\oc_mspy5deg_blob\\GeniERuntimeExample\\Results\\LoadCase3\\T1.FEM to c:\\Users\\kblu\\source\\repos\\improveflowGIT\\GeniERuntimeExample\\Workspace\\Results\\LoadCase3\\T1.FEM\n",
      "Downloading c:\\OneWorkflowTemp\\oc_mspy5deg_blob\\GeniERuntimeExample\\Results\\LoadCase3\\nodeCount.csv to c:\\Users\\kblu\\source\\repos\\improveflowGIT\\GeniERuntimeExample\\Workspace\\Results\\LoadCase3\\nodeCount.csv\n"
     ]
    }
   ],
   "source": [
    "import pandas as pd\n",
    "from oneWorkflowToolBox import run_workflow_async\n",
    "from SesamHelpers import *\n",
    "import shutil\n",
    "import json\n",
    "# we must delete existing results locally before generating new results\n",
    "local__result_path = Path(workspacePath, workflow_client.results_directory)\n",
    "if os.path.isdir(local__result_path):\n",
    "    shutil.rmtree(local__result_path)\n",
    "\n",
    "#parametrized values\n",
    "df = pd.DataFrame({'AP':  [\"0m\", \"0.5m\", \"1m\"], 'FP': [\"150m\", \"250m\", \"500m\"]})\n",
    "workUnit = GeniERuntimeTaskCreator(\"ContainerHull_template.js\", df,workflow_client).get_genieruntime_work_unit(cloud_run, workspacePath)\n",
    "downloadOptions = FileOptions(\n",
    "    max_size_bytes=11124_000,\n",
    "    patterns=[\"**/T1.FEM\", \"**/*.csv\"])\n",
    "job = workflow_client.create_job(workUnit)\n",
    "\n",
    "#for debugging only\n",
    "#job_json = json.dumps(job, default=lambda o: o.encode(), indent=4)\n",
    "#print(job_json)\n",
    "await run_workflow_async(job, workflow_client, downloadOptions)\n"
   ]
  },
  {
   "attachments": {},
   "cell_type": "markdown",
   "metadata": {},
   "source": [
    "## Postprocessing\n",
    "The code below prints out node and element counts for the different models and present the results in a table.\n"
   ]
  },
  {
   "cell_type": "code",
   "execution_count": 3,
   "metadata": {},
   "outputs": [
    {
     "data": {
      "text/html": [
       "<div>\n",
       "<style scoped>\n",
       "    .dataframe tbody tr th:only-of-type {\n",
       "        vertical-align: middle;\n",
       "    }\n",
       "\n",
       "    .dataframe tbody tr th {\n",
       "        vertical-align: top;\n",
       "    }\n",
       "\n",
       "    .dataframe thead th {\n",
       "        text-align: right;\n",
       "    }\n",
       "</style>\n",
       "<table border=\"1\" class=\"dataframe\">\n",
       "  <thead>\n",
       "    <tr style=\"text-align: right;\">\n",
       "      <th></th>\n",
       "      <th>Node Count</th>\n",
       "      <th>Element Count</th>\n",
       "    </tr>\n",
       "    <tr>\n",
       "      <th>Loadcase</th>\n",
       "      <th></th>\n",
       "      <th></th>\n",
       "    </tr>\n",
       "  </thead>\n",
       "  <tbody>\n",
       "    <tr>\n",
       "      <th>LoadCase1</th>\n",
       "      <td>42</td>\n",
       "      <td>43</td>\n",
       "    </tr>\n",
       "    <tr>\n",
       "      <th>LoadCase2</th>\n",
       "      <td>43</td>\n",
       "      <td>42</td>\n",
       "    </tr>\n",
       "    <tr>\n",
       "      <th>LoadCase3</th>\n",
       "      <td>43</td>\n",
       "      <td>42</td>\n",
       "    </tr>\n",
       "  </tbody>\n",
       "</table>\n",
       "</div>"
      ],
      "text/plain": [
       "           Node Count  Element Count\n",
       "Loadcase                            \n",
       "LoadCase1          42             43\n",
       "LoadCase2          43             42\n",
       "LoadCase3          43             42"
      ]
     },
     "metadata": {},
     "output_type": "display_data"
    }
   ],
   "source": [
    "from IPython.display import display\n",
    "import numpy as np\n",
    "import pandas as pd\n",
    "import glob\n",
    "\n",
    "lc = 11\n",
    "frames = []\n",
    "for folder in glob.glob(f\"{local__result_path}\\\\*\"):\n",
    "    data = pd.read_csv(Path(folder, \"nodeCount.csv\"), index_col=0)\n",
    "    data.index = [folder.split('\\\\')[-1]]\n",
    "    frames.append(data)\n",
    "df = pd.concat(frames)\n",
    "df=df.rename_axis(\"Loadcase\")\n",
    "display(df)\n"
   ]
  }
 ],
 "metadata": {
  "kernelspec": {
   "display_name": "Python 3",
   "language": "python",
   "name": "python3"
  },
  "language_info": {
   "codemirror_mode": {
    "name": "ipython",
    "version": 3
   },
   "file_extension": ".py",
   "mimetype": "text/x-python",
   "name": "python",
   "nbconvert_exporter": "python",
   "pygments_lexer": "ipython3",
   "version": "3.10.1"
  },
  "orig_nbformat": 4
 },
 "nbformat": 4,
 "nbformat_minor": 2
}
