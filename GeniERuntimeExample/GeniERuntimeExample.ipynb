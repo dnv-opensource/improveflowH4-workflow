{
 "cells": [
  {
   "attachments": {},
   "cell_type": "markdown",
   "metadata": {},
   "source": [
    "## Description \n",
    "This example demonstrates how to run GeniERuntime through OneWorkflow. A small dummy script for demonstrating SifIO is also provided. This example uses a parametrized containership model from [GeniE Snack Pack](https://sesam.dnv.com/genie_utils/hullforms/containership.html). *AP* and *FP* are parametrized and input given from a Pandas dataframe as shown below.\n",
    "\n",
    "\n"
   ]
  },
  {
   "cell_type": "code",
   "execution_count": 16,
   "metadata": {},
   "outputs": [
    {
     "name": "stdout",
     "output_type": "stream",
     "text": [
      "The temporary blob storage directory is: c:\\oneworkflowTmp\\oc_od78n4ly_blob\n",
      "The temporary jobs root directory is: c:\\oneworkflowTmp\\oc_6rfuk50i_jobs\n"
     ]
    }
   ],
   "source": [
    "from dnv.oneworkflow.utils import *\n",
    "from pathlib import Path\n",
    "import os\n",
    "root_folder = os.getcwd()\n",
    "workspacePath = str(Path(root_folder, 'Workspace'))\n",
    "workspaceId = \"GeniERuntimeExample\"\n",
    "\n",
    "cloudRun = False\n",
    "oneWorkflowTMPFolder = r'c:\\oneworkflowTmp' #due to possible issues with long file paths we prefer to have this folder at the root\n",
    "if not os.path.exists(oneWorkflowTMPFolder):\n",
    "    try:\n",
    "        print(\"Trying to create tmp folder for one workflow local execution\")\n",
    "        os.mkdir(oneWorkflowTMPFolder)\n",
    "        print(oneWorkflowTMPFolder + \" created!\\n\")\n",
    "    except:\n",
    "        print(\"did not manage to create tmp folder for local execution. Check that you have privileges to create it or try to manually create it from the coomand line.\")\n",
    "#If running locally the code below will also start the local workflow host.\n",
    "workflow_client = one_workflow_client(workspace_id = workspaceId, cloud_run = cloudRun, workspace_path = workspacePath, local_workflow_runtime_temp_folder_path = oneWorkflowTMPFolder,\n",
    "                                      local_workflow_runtime_temp_folders_cleanup=False,environment=Environment.Testing,pool_id=\"SesamWorkflow_Windows_Standard_A1_v2\")\n"
   ]
  },
  {
   "cell_type": "code",
   "execution_count": 17,
   "metadata": {},
   "outputs": [
    {
     "name": "stdout",
     "output_type": "stream",
     "text": [
      "Running commands in parallel\n",
      "Info: Attempt 1/10: LocalWorkflowRuntime service is not ready yet. Retrying in 5 seconds.\n"
     ]
    },
    {
     "name": "stderr",
     "output_type": "stream",
     "text": [
      "INFO: No files to upload: Directory 'd:\\source\\Beacon\\Examples\\OneWorkflow\\improveflowH4-workflow\\GeniERuntimeExample\\Workspace\\LoadCases' does not exist.\n"
     ]
    },
    {
     "name": "stdout",
     "output_type": "stream",
     "text": [
      "Info: The LocalWorkflowRuntime service is ready.\n",
      "Uploading d:\\source\\Beacon\\Examples\\OneWorkflow\\improveflowH4-workflow\\GeniERuntimeExample\\Workspace\\CommonFiles\\ContainerHull_template.js to c:\\oneworkflowTmp\\oc_od78n4ly_blob\\GeniERuntimeExample\\CommonFiles\\ContainerHull_template.js\n",
      "Uploading d:\\source\\Beacon\\Examples\\OneWorkflow\\improveflowH4-workflow\\GeniERuntimeExample\\Workspace\\CommonFiles\\copyFiles.py to c:\\oneworkflowTmp\\oc_od78n4ly_blob\\GeniERuntimeExample\\CommonFiles\\copyFiles.py\n",
      "Uploading d:\\source\\Beacon\\Examples\\OneWorkflow\\improveflowH4-workflow\\GeniERuntimeExample\\Workspace\\CommonFiles\\postprocessing.py to c:\\oneworkflowTmp\\oc_od78n4ly_blob\\GeniERuntimeExample\\CommonFiles\\postprocessing.py\n",
      "Uploading d:\\source\\Beacon\\Examples\\OneWorkflow\\improveflowH4-workflow\\GeniERuntimeExample\\Workspace\\CommonFiles\\requirements.txt to c:\\oneworkflowTmp\\oc_od78n4ly_blob\\GeniERuntimeExample\\CommonFiles\\requirements.txt\n"
     ]
    },
    {
     "name": "stderr",
     "output_type": "stream",
     "text": [
      "INFO: No files to upload: Directory 'd:\\source\\Beacon\\Examples\\OneWorkflow\\improveflowH4-workflow\\GeniERuntimeExample\\Workspace\\LoadCases' does not exist.\n",
      "INFO: No files to upload: Directory 'd:\\source\\Beacon\\Examples\\OneWorkflow\\improveflowH4-workflow\\GeniERuntimeExample\\Workspace\\LoadCases' does not exist.\n",
      "INFO: No files to upload: Directory 'd:\\source\\Beacon\\Examples\\OneWorkflow\\improveflowH4-workflow\\GeniERuntimeExample\\Workspace\\LoadCases' does not exist.\n",
      "INFO: No files to upload: Directory 'd:\\source\\Beacon\\Examples\\OneWorkflow\\improveflowH4-workflow\\GeniERuntimeExample\\Workspace\\LoadCases' does not exist.\n",
      "INFO: No files to upload: Directory 'd:\\source\\Beacon\\Examples\\OneWorkflow\\improveflowH4-workflow\\GeniERuntimeExample\\Workspace\\LoadCases' does not exist.\n",
      "INFO: No files to upload: Directory 'd:\\source\\Beacon\\Examples\\OneWorkflow\\improveflowH4-workflow\\GeniERuntimeExample\\Workspace\\LoadCases' does not exist.\n"
     ]
    },
    {
     "name": "stdout",
     "output_type": "stream",
     "text": [
      "Info: The work item 62f7e7fd-dc33-42d5-b54e-b9ac7741d49e message is 'Created'\n",
      "Info: The work item Model_1 message is 'Created'\n",
      "Info: The work item Model_2 message is 'Created'\n",
      "Info: The work item Model_3 message is 'Created'\n",
      "Info: The progress of the job is '0%'. The message is ''\n",
      "Info: The work item Model_1 message is ''\n",
      "Info: The work item Model_2 message is ''\n",
      "Info: The work item Model_3 message is ''\n",
      "Info: The work item Model_1 message is 'Executing .'\n",
      "Info: The work item Model_2 message is 'Executing .'\n",
      "Info: The work item Model_3 message is 'Executing .'\n",
      "Info: The progress of the job is '33%'. The message is 'Completed 0 of 3 tasks of task group 62f7e7fd-dc33-42d5-b54e-b9ac7741d49e'\n",
      "Info: The work item Model_1 message is 'Normal exit from GeniE Runtime'\n",
      "Info: The work item Model_2 message is 'Normal exit from GeniE Runtime'\n",
      "Info: The work item Model_3 message is 'Normal exit from GeniE Runtime'\n",
      "Info: The work item Model_1 message is 'Execution of  completed'\n",
      "Info: The work item Model_2 message is 'Execution of  completed'\n",
      "Info: The work item Model_3 message is 'Execution of  completed'\n",
      "Info: The progress of the job is '66%'. The message is 'Completed 0 of 3 tasks of task group 62f7e7fd-dc33-42d5-b54e-b9ac7741d49e'\n",
      "Info: The work item Model_1 message is 'INFO: The .NET Runtime Version '.NET 6.0.26'. Runtime Identifier 'win10-x64'.'\n",
      "Info: The work item Model_2 message is 'INFO: The .NET Runtime Version '.NET 6.0.26'. Runtime Identifier 'win10-x64'.'\n",
      "Info: The work item Model_3 message is 'INFO: The .NET Runtime Version '.NET 6.0.26'. Runtime Identifier 'win10-x64'.'\n"
     ]
    }
   ],
   "source": [
    "import pandas as pd\n",
    "import shutil\n",
    "from dnv.oneworkflow import PythonCommand\n",
    "from dnv.sesam.genie_runtime_command import *\n",
    "# we must delete existing results locally before generating new results\n",
    "local__result_path = Path(workspacePath, workflow_client.results_directory)\n",
    "if os.path.isdir(local__result_path):\n",
    "    shutil.rmtree(local__result_path)\n",
    "\n",
    "#parametrized values\n",
    "df = pd.DataFrame({'AP':  [\"0m\", \"0.5m\", \"1m\"], 'FP': [\"150m\", \"250m\", \"500m\"]})\n",
    "#for debugging only\n",
    "#job_json = json.dumps(job, default=lambda o: o.encode(), indent=4)\n",
    "#print(job_json)\n",
    "\n",
    "\n",
    "commands_info = []\n",
    "for index, row in df.iterrows():\n",
    "            loadcase_folder_name = f\"Model_{index + 1}\"\n",
    "            genieruntime_command = GeniERuntimeCommand()\n",
    "            genieruntime_command.Parameters = {}\n",
    "            genieruntime_command.TemplateInputFile = \"ContainerHull_template.js\"\n",
    "            for key, value in row.items():\n",
    "                genieruntime_command.Parameters[key] = value\n",
    "           \n",
    "            post_processing_command = PythonCommand(\n",
    "                directory=workflow_client.common_directory,\n",
    "                filename=\"postprocessing.py\")\n",
    "            cmd_info = CommandInfo(commands=[genieruntime_command,post_processing_command],load_case_foldername=loadcase_folder_name)\n",
    "            commands_info.append(cmd_info)\n",
    "            \n",
    "print(\"Running commands in parallel\")\n",
    "await run_managed_commands_parallelly_async(\n",
    "            client=workflow_client,\n",
    "            commands_info=commands_info,\n",
    "            files_to_download_from_blob_to_client=FileOptions(max_size=\"11124MB\",patterns=[\"**/*.txt\", \"**/*.lis\", \"**/*.MLG\", \"**/*.MLG\",\"**/*.CSV\",\"**/*.FEM\"]),\n",
    "            enable_common_files_copy_to_load_cases=True,\n",
    ")\n"
   ]
  },
  {
   "attachments": {},
   "cell_type": "markdown",
   "metadata": {},
   "source": [
    "## Postprocessing\n",
    "The code below prints out node and element counts for the different models and present the results in a table.\n"
   ]
  },
  {
   "cell_type": "code",
   "execution_count": null,
   "metadata": {},
   "outputs": [],
   "source": [
    "from IPython.display import display\n",
    "import numpy as np\n",
    "import pandas as pd\n",
    "import glob\n",
    "\n",
    "lc = 11\n",
    "frames = []\n",
    "for folder in glob.glob(f\"{local__result_path}\\\\*\"):\n",
    "    data = pd.read_csv(Path(folder, \"nodeCount.csv\"), index_col=0)\n",
    "    data.index = [folder.split('\\\\')[-1]]\n",
    "    frames.append(data)\n",
    "df = pd.concat(frames)\n",
    "df=df.rename_axis(\"Loadcase\")\n",
    "display(df)\n"
   ]
  }
 ],
 "metadata": {
  "kernelspec": {
   "display_name": "Python 3",
   "language": "python",
   "name": "python3"
  },
  "language_info": {
   "codemirror_mode": {
    "name": "ipython",
    "version": 3
   },
   "file_extension": ".py",
   "mimetype": "text/x-python",
   "name": "python",
   "nbconvert_exporter": "python",
   "pygments_lexer": "ipython3",
   "version": "3.10.1"
  },
  "orig_nbformat": 4
 },
 "nbformat": 4,
 "nbformat_minor": 2
}
