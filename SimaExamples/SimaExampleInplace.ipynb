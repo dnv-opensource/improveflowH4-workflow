{
 "cells": [
  {
   "attachments": {
    "image.png": {
     "image/png": "[encoded data removed]"
    }
   },
   "cell_type": "markdown",
   "id": "13c8d157",
   "metadata": {},
   "source": [
    "# Introduction \n",
    "\n",
    "\n",
    "## How to use this notebook\n",
    "This example runs Sima in locally based on input created in the [Create load case folders with unique Sima input](#loadcase_id) section. The code is only a pilot and only intended for testing. This Example requires Sima 4.4.\n",
    "\n",
    "This notebook should be run in the following way:\n",
    "1. [Initialize Workflow](#initialize), run this Python code once at every notebook start to set up basic settings. [Set up custom user parameters](#custom) section should be changed if you want to change workspace or switch between cloud and local run. 2. If you changed something in this section, remember to rerun  [Set up OneWorkflow client](#builder).\n",
    "2. [Run analysis](#run) shall be run each time a new Sima analysis needs to be run.\n",
    "If you rerun you may need to restart the notebook using the restart kernel button:\n",
    "\n",
    "\n",
    "![image.png](attachment:image.png)\n",
    "\n"
   ]
  },
  {
   "attachments": {},
   "cell_type": "markdown",
   "id": "1b72f25d",
   "metadata": {},
   "source": [
    "# Initialize workflow <a id='initialize'></a>\n",
    "Run only once when notebook is opened."
   ]
  },
  {
   "attachments": {},
   "cell_type": "markdown",
   "id": "0d594da9",
   "metadata": {},
   "source": [
    "## Set up custom user parameters <a id='custom'></a>\n",
    "You need to set oneWorkflowTMPFolder to a folder that works for you. A short folder path  is recommended due to possible issues with Sima and long file names."
   ]
  },
  {
   "cell_type": "code",
   "execution_count": null,
   "id": "1f57ede6",
   "metadata": {},
   "outputs": [],
   "source": [
    "from pathlib import Path\n",
    "import os\n",
    "\n",
    "oneWorkflowTMPFolder = r'C:\\oneworkflowTmp' #due to possible issues with long file paths we prefer to have this folder at the root\n",
    "if not os.path.exists(oneWorkflowTMPFolder):\n",
    "    try:\n",
    "        print(\"Trying to create tmp folder for one workflow local execution\")\n",
    "        os.mkdir(oneWorkflowTMPFolder)\n",
    "        print(oneWorkflowTMPFolder + \" created!\\n\")\n",
    "    except:\n",
    "        print(\"did not manage to create tmp folder for local execution. Check that you have privileges to create it or try to manually create it from the coomand line.\")\n",
    "\n",
    "# local workspace, all results will be put here after local or cloud runs\n",
    "# location of common files for all analysis, has to be below workspacePath\n",
    "root_folder = os.getcwd()\n",
    "print(root_folder)\n",
    "workspacePath = str(Path(root_folder, 'WorkspaceInplace'))\n",
    "workspaceId = \"SimaSimple\"\n",
    "loadcase_file = f\"{workspacePath}\\\\test_cases_light.xlsx\"\n",
    "stask_file = \"SimaTemplateLight.stask\"\n",
    "cloudRun = False\n",
    "clean = True\n",
    "notebook_root_folder = os.getcwd()\n",
    "load_case_folder = os.path.join(workspacePath,\"LoadCases\")"
   ]
  },
  {
   "attachments": {},
   "cell_type": "markdown",
   "id": "a10e6c52",
   "metadata": {},
   "source": [
    "## Set up OneWorkflow client <a id='builder'></a>\n",
    "Run only once workbook is started or if some parameters above are changed."
   ]
  },
  {
   "cell_type": "code",
   "execution_count": null,
   "id": "b3cb8804",
   "metadata": {},
   "outputs": [],
   "source": [
    "from dnv.oneworkflow.utils.workunit_extension import *\n",
    "from dnv.oneworkflow.utils import *\n",
    "import shutil\n",
    "\n",
    "workflow_client = one_workflow_client(workspace_id = workspaceId, cloud_run = cloudRun, workspace_path = workspacePath, local_workflow_runtime_temp_folder_path = oneWorkflowTMPFolder,inplace_execution=True,\n",
    "                                     local_workflow_runtime_temp_folders_cleanup=False,platform=Platform.WINDOWS, max_cores=5,environment=Environment.Testing,pool_id=\"SesamWorkflow_Windows_Standard_A2_v2\")\n"
   ]
  },
  {
   "attachments": {},
   "cell_type": "markdown",
   "id": "94159ffe",
   "metadata": {},
   "source": [
    "# Run Sima analysis <a id='run'></a>\n",
    "This code will fetch data from the blob storage created in the step above, and run all the job tasks. The code will wait for all tasks to complete before downloading the results."
   ]
  },
  {
   "cell_type": "code",
   "execution_count": null,
   "id": "7f949c99",
   "metadata": {},
   "outputs": [],
   "source": [
    "from dnv.sesam.commands import SimaCommand\n",
    "import pandas as pd\n",
    "from dnv.onecompute.flowmodel import SchedulingOptions, FailureStrategy\n",
    "\"\"\"Tests SIMA and Python commands\"\"\"\n",
    "commands_info = []\n",
    "\n",
    "if clean:\n",
    "    shutil.rmtree(load_case_folder, ignore_errors=True)\n",
    "df_cases = pd.read_excel(loadcase_file, index_col=0)\n",
    "\n",
    "for loadcase_folder_name, case in df_cases.iterrows():\n",
    "    sima_cmd = SimaCommand().create_sima_command(task_name=\"WorkflowTask\",workflow_name=\"ExampleWorkflow\",sima_case_data=case.to_dict(),stask_filename=stask_file,stask_foldername=workflow_client.common_directory)\n",
    "    commands_info.append(CommandInfo(commands=[sima_cmd],load_case_foldername=loadcase_folder_name))\n",
    "print(\"Running commands in parallel\")\n",
    "#enable_file_transfer_progress_reporting(workflow_client)\n",
    "await run_managed_commands_in_parallel_async(\n",
    "            client=workflow_client,\n",
    "            scheduling_options=SchedulingOptions(failure_strategy=FailureStrategy.ContinueOnError),\n",
    "            commands_info=commands_info,\n",
    "            files_to_download_from_blob_to_client=FileTransferOptions(max_size=\"11124MB\",patterns=[\"**/*.log\",\"**/*.txt\", \"**/*.lis\", \"**/*.MLG\", \"**/*.MLG\",\"**/*.CSV\"]),\n",
    "            enable_common_files_copy_to_load_cases=True,\n",
    ")\n",
    "import time\n",
    "time.sleep(5)\n"
   ]
  },
  {
   "attachments": {},
   "cell_type": "markdown",
   "id": "0c8fd6f9",
   "metadata": {},
   "source": [
    "# Post processing  <a id='postprocessing'></a>"
   ]
  },
  {
   "cell_type": "code",
   "execution_count": null,
   "id": "428a6835",
   "metadata": {},
   "outputs": [],
   "source": [
    "import re\n",
    "def get_sima_execution_time(folder):\n",
    "    try:\n",
    "        pattern = r\"Total\\s+([\\d.]+)\\n\"\n",
    "        file_path = os.path.join(folder, \"prs-sima.lis\")\n",
    "        with open(file_path, \"r\") as file:\n",
    "            content = file.read()\n",
    "         # Extract the total time using regular expressions\n",
    "        match = re.search(pattern, content)\n",
    "        if match:\n",
    "            return float(match.group(1))\n",
    "    except:\n",
    "        print(f\"Error while trying to read {file_path}\")\n",
    "        return None\n",
    "        \n",
    "\n",
    "# Specify the file path\n",
    "cases = []\n",
    "timings= []\n",
    "for folder in os.listdir(load_case_folder):\n",
    "    if os.path.isdir(load_case_folder):\n",
    "        time = get_sima_execution_time(os.path.join(load_case_folder, folder))\n",
    "        timings.append(time)\n",
    "        cases.append(folder)\n",
    "import matplotlib.pyplot as plt\n",
    "plt.plot(cases, timings,'-*')\n",
    "plt.xlabel('Load case')\n",
    "plt.ylabel('Execution time [s]')\n"
   ]
  }
 ],
 "metadata": {
  "kernelspec": {
   "display_name": "Python 3",
   "language": "python",
   "name": "python3"
  },
  "language_info": {
   "codemirror_mode": {
    "name": "ipython",
    "version": 3
   },
   "file_extension": ".py",
   "mimetype": "text/x-python",
   "name": "python",
   "nbconvert_exporter": "python",
   "pygments_lexer": "ipython3",
   "version": "3.11.8"
  },
  "orig_nbformat": 4,
  "vscode": {
   "interpreter": {
    "hash": "e3f4950b6ecc2246e9f46f113f926a9a268224216b0af4259a912530ba1db262"
   }
  }
 },
 "nbformat": 4,
 "nbformat_minor": 5
}
