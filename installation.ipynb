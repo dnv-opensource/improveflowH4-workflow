{
 "cells": [
  {
   "cell_type": "markdown",
   "metadata": {},
   "source": [
    "## Installation  <a id='installation'></a>\n",
    "Run only when packages and/or local worker  needs to be upgraded. Run all section below in order for installation to succeed."
   ]
  },
  {
   "cell_type": "markdown",
   "metadata": {},
   "source": [
    "### Install necessary Python packages"
   ]
  },
  {
   "cell_type": "code",
   "execution_count": 1,
   "metadata": {},
   "outputs": [],
   "source": [
    "#helper functions\n",
    "#https://pip.pypa.io/en/latest/user_guide/  # using-pip-from-your-program\n",
    "import subprocess, sys\n",
    "def uninstall_packages_from_requirements_file(file, print_output: bool = True):\n",
    "    try:\n",
    "        output=subprocess.check_output([sys.executable, '-m', 'pip', 'uninstall','-y','-r',file ],stderr=subprocess.STDOUT,text=True)\n",
    "        if(print_output):\n",
    "            print(output.strip())\n",
    "    except Exception as e:\n",
    "        print(e)\n",
    "def install_packages_from_requirements_file(file, print_output: bool = True, more_options = \"\"):\n",
    "    try:\n",
    "        output=subprocess.check_output([sys.executable, '-m', 'pip', 'install','-r',file, more_options ],stderr=subprocess.STDOUT,text=True)\n",
    "        if(print_output):\n",
    "            print(output.strip())\n",
    "    except Exception as e:\n",
    "        print(e)\n",
    "def install_packages(packages, print_output: bool = True ):\n",
    "    for package in packages:\n",
    "        try:\n",
    "            output=subprocess.check_output([sys.executable, '-m', 'pip', 'install',package ],stderr=subprocess.STDOUT,text=True)\n",
    "            if(print_output):\n",
    "                print(output.strip())\n",
    "        except Exception as e:\n",
    "            print(e)\n"
   ]
  },
  {
   "cell_type": "markdown",
   "metadata": {},
   "source": [
    "#### Uninstalling basic packages required"
   ]
  },
  {
   "cell_type": "code",
   "execution_count": 6,
   "metadata": {},
   "outputs": [
    {
     "name": "stdout",
     "output_type": "stream",
     "text": [
      "Found existing installation: msal 1.23.0\n",
      "Uninstalling msal-1.23.0:\n",
      "  Successfully uninstalled msal-1.23.0\n",
      "Found existing installation: azure-storage-blob 12.17.0\n",
      "Uninstalling azure-storage-blob-12.17.0:\n",
      "  Successfully uninstalled azure-storage-blob-12.17.0\n",
      "Found existing installation: cancel-token 0.1.6\n",
      "Uninstalling cancel-token-0.1.6:\n",
      "  Successfully uninstalled cancel-token-0.1.6\n",
      "Found existing installation: httpx 0.24.1\n",
      "Uninstalling httpx-0.24.1:\n",
      "  Successfully uninstalled httpx-0.24.1\n",
      "Found existing installation: dacite 1.8.1\n",
      "Uninstalling dacite-1.8.1:\n",
      "  Successfully uninstalled dacite-1.8.1\n",
      "Found existing installation: stringcase 1.2.0\n",
      "Uninstalling stringcase-1.2.0:\n",
      "  Successfully uninstalled stringcase-1.2.0\n",
      "Found existing installation: PyJWT 2.8.0\n",
      "Uninstalling PyJWT-2.8.0:\n",
      "  Successfully uninstalled PyJWT-2.8.0\n",
      "Found existing installation: overrides 7.4.0\n",
      "Uninstalling overrides-7.4.0:\n",
      "  Successfully uninstalled overrides-7.4.0\n",
      "Found existing installation: python-dateutil 2.8.2\n",
      "Uninstalling python-dateutil-2.8.2:\n",
      "  Successfully uninstalled python-dateutil-2.8.2\n",
      "Found existing installation: openpyxl 3.1.2\n",
      "Uninstalling openpyxl-3.1.2:\n",
      "  Successfully uninstalled openpyxl-3.1.2\n",
      "Found existing installation: pandas 2.0.3\n",
      "Uninstalling pandas-2.0.3:\n",
      "  Successfully uninstalled pandas-2.0.3\n"
     ]
    }
   ],
   "source": [
    "uninstall_packages_from_requirements_file('basic-requirements.txt', print_output = True)"
   ]
  },
  {
   "cell_type": "markdown",
   "metadata": {},
   "source": [
    "#### Uninstalling dnv packages"
   ]
  },
  {
   "cell_type": "code",
   "execution_count": 7,
   "metadata": {},
   "outputs": [
    {
     "name": "stdout",
     "output_type": "stream",
     "text": [
      "Found existing installation: dnv-sesam-commands 5.12.0.121\n",
      "Uninstalling dnv-sesam-commands-5.12.0.121:\n",
      "  Successfully uninstalled dnv-sesam-commands-5.12.0.121\n",
      "Found existing installation: dnv-oneworkflow 1.0.0.713\n",
      "Uninstalling dnv-oneworkflow-1.0.0.713:\n",
      "  Successfully uninstalled dnv-oneworkflow-1.0.0.713\n",
      "Found existing installation: dnv-onecompute 8.2.0.6\n",
      "Uninstalling dnv-onecompute-8.2.0.6:\n",
      "  Successfully uninstalled dnv-onecompute-8.2.0.6\n"
     ]
    }
   ],
   "source": [
    "uninstall_packages_from_requirements_file('dnv-requirements.txt', print_output = True)"
   ]
  },
  {
   "cell_type": "markdown",
   "metadata": {},
   "source": [
    "#### Uninstalling SIFIO reuqirements"
   ]
  },
  {
   "cell_type": "code",
   "execution_count": 4,
   "metadata": {},
   "outputs": [
    {
     "name": "stdout",
     "output_type": "stream",
     "text": [
      "Found existing installation: quantconnect-stubs 15806\n",
      "Uninstalling quantconnect-stubs-15806:\n",
      "  Successfully uninstalled quantconnect-stubs-15806\n",
      "Found existing installation: pythonnet 3.0.1\n",
      "Uninstalling pythonnet-3.0.1:\n",
      "  Successfully uninstalled pythonnet-3.0.1\n",
      "Found existing installation: dnv-runtime 1.0.0.633\n",
      "Uninstalling dnv-runtime-1.0.0.633:\n",
      "  Successfully uninstalled dnv-runtime-1.0.0.633\n",
      "Found existing installation: dnv-dotnet-intellisense 1.0.0.713\n",
      "Uninstalling dnv-dotnet-intellisense-1.0.0.713:\n",
      "  Successfully uninstalled dnv-dotnet-intellisense-1.0.0.713\n",
      "Found existing installation: dnv-sifio 5.3.2.945\n",
      "Uninstalling dnv-sifio-5.3.2.945:\n",
      "  Successfully uninstalled dnv-sifio-5.3.2.945\n"
     ]
    }
   ],
   "source": [
    "uninstall_packages_from_requirements_file('sifio-requirements.txt', print_output = True)"
   ]
  },
  {
   "cell_type": "markdown",
   "metadata": {},
   "source": [
    "#### Installing basic requirements"
   ]
  },
  {
   "cell_type": "code",
   "execution_count": 8,
   "metadata": {},
   "outputs": [
    {
     "name": "stdout",
     "output_type": "stream",
     "text": [
      "Collecting msal==1.23.0 (from -r basic-requirements.txt (line 1))\n",
      "  Obtaining dependency information for msal==1.23.0 from https://files.pythonhosted.org/packages/6f/cd/c5d31dc262c139763dbee91ac91d12ced729a529e59877d150705e60832e/msal-1.23.0-py2.py3-none-any.whl.metadata\n",
      "  Using cached msal-1.23.0-py2.py3-none-any.whl.metadata (11 kB)\n",
      "Collecting azure-storage-blob==12.17.0 (from -r basic-requirements.txt (line 2))\n",
      "  Obtaining dependency information for azure-storage-blob==12.17.0 from https://files.pythonhosted.org/packages/f1/06/68c50a905e1e5481b04a6166b69fecddb87681aae7a556ab727f8e8e6f70/azure_storage_blob-12.17.0-py3-none-any.whl.metadata\n",
      "  Using cached azure_storage_blob-12.17.0-py3-none-any.whl.metadata (26 kB)\n",
      "Collecting cancel-token==0.1.6 (from -r basic-requirements.txt (line 3))\n",
      "  Using cached cancel_token-0.1.6-py3-none-any.whl (3.5 kB)\n",
      "Collecting httpx==0.24.1 (from -r basic-requirements.txt (line 4))\n",
      "  Obtaining dependency information for httpx==0.24.1 from https://files.pythonhosted.org/packages/ec/91/e41f64f03d2a13aee7e8c819d82ee3aa7cdc484d18c0ae859742597d5aa0/httpx-0.24.1-py3-none-any.whl.metadata\n",
      "  Using cached httpx-0.24.1-py3-none-any.whl.metadata (7.4 kB)\n",
      "Collecting dacite==1.8.1 (from -r basic-requirements.txt (line 5))\n",
      "  Obtaining dependency information for dacite==1.8.1 from https://files.pythonhosted.org/packages/21/0f/cf0943f4f55f0fbc7c6bd60caf1343061dff818b02af5a0d444e473bb78d/dacite-1.8.1-py3-none-any.whl.metadata\n",
      "  Using cached dacite-1.8.1-py3-none-any.whl.metadata (15 kB)\n",
      "Collecting stringcase==1.2.0 (from -r basic-requirements.txt (line 6))\n",
      "  Using cached stringcase-1.2.0-py3-none-any.whl\n",
      "Collecting pyjwt==2.8.0 (from -r basic-requirements.txt (line 7))\n",
      "  Obtaining dependency information for pyjwt==2.8.0 from https://files.pythonhosted.org/packages/2b/4f/e04a8067c7c96c364cef7ef73906504e2f40d690811c021e1a1901473a19/PyJWT-2.8.0-py3-none-any.whl.metadata\n",
      "  Using cached PyJWT-2.8.0-py3-none-any.whl.metadata (4.2 kB)\n",
      "Collecting overrides==7.4.0 (from -r basic-requirements.txt (line 8))\n",
      "  Obtaining dependency information for overrides==7.4.0 from https://files.pythonhosted.org/packages/da/28/3fa6ef8297302fc7b3844980b6c5dbc71cdbd4b61e9b2591234214d5ab39/overrides-7.4.0-py3-none-any.whl.metadata\n",
      "  Using cached overrides-7.4.0-py3-none-any.whl.metadata (5.7 kB)\n",
      "Collecting python-dateutil==2.8.2 (from -r basic-requirements.txt (line 9))\n",
      "  Using cached python_dateutil-2.8.2-py2.py3-none-any.whl (247 kB)\n",
      "Collecting openpyxl (from -r basic-requirements.txt (line 10))\n",
      "  Using cached openpyxl-3.1.2-py2.py3-none-any.whl (249 kB)\n",
      "Collecting pandas (from -r basic-requirements.txt (line 11))\n",
      "  Obtaining dependency information for pandas from https://files.pythonhosted.org/packages/ed/30/b97456e7063edac0e5a405128065f0cd2033adfe3716fb2256c186bd41d0/pandas-2.0.3-cp310-cp310-win_amd64.whl.metadata\n",
      "  Using cached pandas-2.0.3-cp310-cp310-win_amd64.whl.metadata (18 kB)\n",
      "Requirement already satisfied: requests<3,>=2.0.0 in c:\\users\\kblu\\appdata\\local\\programs\\python\\python310\\lib\\site-packages (from msal==1.23.0->-r basic-requirements.txt (line 1)) (2.31.0)\n",
      "Requirement already satisfied: cryptography<44,>=0.6 in c:\\users\\kblu\\appdata\\local\\programs\\python\\python310\\lib\\site-packages (from msal==1.23.0->-r basic-requirements.txt (line 1)) (38.0.3)\n",
      "Requirement already satisfied: azure-core<2.0.0,>=1.28.0 in c:\\users\\kblu\\appdata\\local\\programs\\python\\python310\\lib\\site-packages (from azure-storage-blob==12.17.0->-r basic-requirements.txt (line 2)) (1.29.2)\n",
      "Requirement already satisfied: typing-extensions>=4.3.0 in c:\\users\\kblu\\appdata\\local\\programs\\python\\python310\\lib\\site-packages (from azure-storage-blob==12.17.0->-r basic-requirements.txt (line 2)) (4.6.0)\n",
      "Requirement already satisfied: isodate>=0.6.1 in c:\\users\\kblu\\appdata\\local\\programs\\python\\python310\\lib\\site-packages (from azure-storage-blob==12.17.0->-r basic-requirements.txt (line 2)) (0.6.1)\n",
      "Requirement already satisfied: certifi in c:\\users\\kblu\\appdata\\local\\programs\\python\\python310\\lib\\site-packages (from httpx==0.24.1->-r basic-requirements.txt (line 4)) (2023.5.7)\n",
      "Requirement already satisfied: httpcore<0.18.0,>=0.15.0 in c:\\users\\kblu\\appdata\\local\\programs\\python\\python310\\lib\\site-packages (from httpx==0.24.1->-r basic-requirements.txt (line 4)) (0.16.3)\n",
      "Requirement already satisfied: idna in c:\\users\\kblu\\appdata\\local\\programs\\python\\python310\\lib\\site-packages (from httpx==0.24.1->-r basic-requirements.txt (line 4)) (3.4)\n",
      "Requirement already satisfied: sniffio in c:\\users\\kblu\\appdata\\local\\programs\\python\\python310\\lib\\site-packages (from httpx==0.24.1->-r basic-requirements.txt (line 4)) (1.3.0)\n",
      "Requirement already satisfied: six>=1.5 in c:\\users\\kblu\\appdata\\local\\programs\\python\\python310\\lib\\site-packages (from python-dateutil==2.8.2->-r basic-requirements.txt (line 9)) (1.16.0)\n",
      "Requirement already satisfied: et-xmlfile in c:\\users\\kblu\\appdata\\local\\programs\\python\\python310\\lib\\site-packages (from openpyxl->-r basic-requirements.txt (line 10)) (1.1.0)\n",
      "Requirement already satisfied: pytz>=2020.1 in c:\\users\\kblu\\appdata\\local\\programs\\python\\python310\\lib\\site-packages (from pandas->-r basic-requirements.txt (line 11)) (2021.3)\n",
      "Requirement already satisfied: tzdata>=2022.1 in c:\\users\\kblu\\appdata\\roaming\\python\\python310\\site-packages (from pandas->-r basic-requirements.txt (line 11)) (2023.3)\n",
      "Requirement already satisfied: numpy>=1.21.0 in c:\\users\\kblu\\appdata\\local\\programs\\python\\python310\\lib\\site-packages (from pandas->-r basic-requirements.txt (line 11)) (1.21.4)\n",
      "Requirement already satisfied: cffi>=1.12 in c:\\users\\kblu\\appdata\\local\\programs\\python\\python310\\lib\\site-packages (from cryptography<44,>=0.6->msal==1.23.0->-r basic-requirements.txt (line 1)) (1.15.1)\n",
      "Requirement already satisfied: h11<0.15,>=0.13 in c:\\users\\kblu\\appdata\\local\\programs\\python\\python310\\lib\\site-packages (from httpcore<0.18.0,>=0.15.0->httpx==0.24.1->-r basic-requirements.txt (line 4)) (0.14.0)\n",
      "Requirement already satisfied: anyio<5.0,>=3.0 in c:\\users\\kblu\\appdata\\local\\programs\\python\\python310\\lib\\site-packages (from httpcore<0.18.0,>=0.15.0->httpx==0.24.1->-r basic-requirements.txt (line 4)) (3.6.2)\n",
      "Requirement already satisfied: charset-normalizer<4,>=2 in c:\\users\\kblu\\appdata\\local\\programs\\python\\python310\\lib\\site-packages (from requests<3,>=2.0.0->msal==1.23.0->-r basic-requirements.txt (line 1)) (3.1.0)\n",
      "Requirement already satisfied: urllib3<3,>=1.21.1 in c:\\users\\kblu\\appdata\\local\\programs\\python\\python310\\lib\\site-packages (from requests<3,>=2.0.0->msal==1.23.0->-r basic-requirements.txt (line 1)) (1.26.16)\n",
      "Requirement already satisfied: pycparser in c:\\users\\kblu\\appdata\\local\\programs\\python\\python310\\lib\\site-packages (from cffi>=1.12->cryptography<44,>=0.6->msal==1.23.0->-r basic-requirements.txt (line 1)) (2.21)\n",
      "Using cached msal-1.23.0-py2.py3-none-any.whl (90 kB)\n",
      "Using cached azure_storage_blob-12.17.0-py3-none-any.whl (388 kB)\n",
      "Using cached httpx-0.24.1-py3-none-any.whl (75 kB)\n",
      "Using cached dacite-1.8.1-py3-none-any.whl (14 kB)\n",
      "Using cached PyJWT-2.8.0-py3-none-any.whl (22 kB)\n",
      "Using cached overrides-7.4.0-py3-none-any.whl (17 kB)\n",
      "Using cached pandas-2.0.3-cp310-cp310-win_amd64.whl (10.7 MB)\n",
      "Installing collected packages: stringcase, cancel-token, python-dateutil, pyjwt, overrides, openpyxl, dacite, pandas, httpx, azure-storage-blob, msal\n",
      "Successfully installed azure-storage-blob-12.17.0 cancel-token-0.1.6 dacite-1.8.1 httpx-0.24.1 msal-1.23.0 openpyxl-3.1.2 overrides-7.4.0 pandas-2.0.3 pyjwt-2.8.0 python-dateutil-2.8.2 stringcase-1.2.0\n"
     ]
    }
   ],
   "source": [
    "install_packages_from_requirements_file('basic-requirements.txt', print_output = True)"
   ]
  },
  {
   "cell_type": "markdown",
   "metadata": {},
   "source": [
    "#### Installing dnv packages"
   ]
  },
  {
   "cell_type": "code",
   "execution_count": 9,
   "metadata": {},
   "outputs": [
    {
     "name": "stdout",
     "output_type": "stream",
     "text": [
      "Looking in indexes: https://pypi.org/simple, https://testpypi.python.org/pypi\n",
      "Collecting dnv-sesam-commands==5.12.0.121 (from -r dnv-requirements.txt (line 2))\n",
      "  Using cached https://test-files.pythonhosted.org/packages/82/8f/523392532acae3210ace57caf14626d50e933df1a216e0d72ac2c8a1abb1/dnv_sesam_commands-5.12.0.121-py3-none-any.whl (9.2 kB)\n",
      "Collecting dnv-oneworkflow==1.0.0.713 (from -r dnv-requirements.txt (line 3))\n",
      "  Using cached https://test-files.pythonhosted.org/packages/51/3f/072455ab5b894e91e79c10daee1ac2c66a6581eb5ccb526bf09daf82e28d/dnv_oneworkflow-1.0.0.713-py3-none-any.whl (25 kB)\n",
      "Collecting dnv-onecompute==8.2.0.6 (from -r dnv-requirements.txt (line 4))\n",
      "  Using cached https://test-files.pythonhosted.org/packages/d0/5d/1cd25a3a6629e5b847bc65b3acb1e71369d6d022640ac0cabba7d4b257a4/dnv_onecompute-8.2.0.6-py3-none-any.whl (35 kB)\n",
      "Requirement already satisfied: msal==1.23.0 in c:\\users\\kblu\\appdata\\local\\programs\\python\\python310\\lib\\site-packages (from dnv-onecompute==8.2.0.6->-r dnv-requirements.txt (line 4)) (1.23.0)\n",
      "Requirement already satisfied: azure-storage-blob==12.17.0 in c:\\users\\kblu\\appdata\\local\\programs\\python\\python310\\lib\\site-packages (from dnv-onecompute==8.2.0.6->-r dnv-requirements.txt (line 4)) (12.17.0)\n",
      "Requirement already satisfied: cancel-token==0.1.6 in c:\\users\\kblu\\appdata\\local\\programs\\python\\python310\\lib\\site-packages (from dnv-onecompute==8.2.0.6->-r dnv-requirements.txt (line 4)) (0.1.6)\n",
      "Requirement already satisfied: httpx==0.24.1 in c:\\users\\kblu\\appdata\\local\\programs\\python\\python310\\lib\\site-packages (from dnv-onecompute==8.2.0.6->-r dnv-requirements.txt (line 4)) (0.24.1)\n",
      "Requirement already satisfied: dacite==1.8.1 in c:\\users\\kblu\\appdata\\local\\programs\\python\\python310\\lib\\site-packages (from dnv-onecompute==8.2.0.6->-r dnv-requirements.txt (line 4)) (1.8.1)\n",
      "Requirement already satisfied: stringcase==1.2.0 in c:\\users\\kblu\\appdata\\local\\programs\\python\\python310\\lib\\site-packages (from dnv-onecompute==8.2.0.6->-r dnv-requirements.txt (line 4)) (1.2.0)\n",
      "Requirement already satisfied: pyjwt==2.8.0 in c:\\users\\kblu\\appdata\\local\\programs\\python\\python310\\lib\\site-packages (from dnv-onecompute==8.2.0.6->-r dnv-requirements.txt (line 4)) (2.8.0)\n",
      "Requirement already satisfied: overrides==7.4.0 in c:\\users\\kblu\\appdata\\local\\programs\\python\\python310\\lib\\site-packages (from dnv-onecompute==8.2.0.6->-r dnv-requirements.txt (line 4)) (7.4.0)\n",
      "Requirement already satisfied: python-dateutil==2.8.2 in c:\\users\\kblu\\appdata\\local\\programs\\python\\python310\\lib\\site-packages (from dnv-onecompute==8.2.0.6->-r dnv-requirements.txt (line 4)) (2.8.2)\n",
      "Requirement already satisfied: azure-core<2.0.0,>=1.28.0 in c:\\users\\kblu\\appdata\\local\\programs\\python\\python310\\lib\\site-packages (from azure-storage-blob==12.17.0->dnv-onecompute==8.2.0.6->-r dnv-requirements.txt (line 4)) (1.29.2)\n",
      "Requirement already satisfied: cryptography>=2.1.4 in c:\\users\\kblu\\appdata\\local\\programs\\python\\python310\\lib\\site-packages (from azure-storage-blob==12.17.0->dnv-onecompute==8.2.0.6->-r dnv-requirements.txt (line 4)) (38.0.3)\n",
      "Requirement already satisfied: typing-extensions>=4.3.0 in c:\\users\\kblu\\appdata\\local\\programs\\python\\python310\\lib\\site-packages (from azure-storage-blob==12.17.0->dnv-onecompute==8.2.0.6->-r dnv-requirements.txt (line 4)) (4.6.0)\n",
      "Requirement already satisfied: isodate>=0.6.1 in c:\\users\\kblu\\appdata\\local\\programs\\python\\python310\\lib\\site-packages (from azure-storage-blob==12.17.0->dnv-onecompute==8.2.0.6->-r dnv-requirements.txt (line 4)) (0.6.1)\n",
      "Requirement already satisfied: certifi in c:\\users\\kblu\\appdata\\local\\programs\\python\\python310\\lib\\site-packages (from httpx==0.24.1->dnv-onecompute==8.2.0.6->-r dnv-requirements.txt (line 4)) (2023.5.7)\n",
      "Requirement already satisfied: httpcore<0.18.0,>=0.15.0 in c:\\users\\kblu\\appdata\\local\\programs\\python\\python310\\lib\\site-packages (from httpx==0.24.1->dnv-onecompute==8.2.0.6->-r dnv-requirements.txt (line 4)) (0.16.3)\n",
      "Requirement already satisfied: idna in c:\\users\\kblu\\appdata\\local\\programs\\python\\python310\\lib\\site-packages (from httpx==0.24.1->dnv-onecompute==8.2.0.6->-r dnv-requirements.txt (line 4)) (3.4)\n",
      "Requirement already satisfied: sniffio in c:\\users\\kblu\\appdata\\local\\programs\\python\\python310\\lib\\site-packages (from httpx==0.24.1->dnv-onecompute==8.2.0.6->-r dnv-requirements.txt (line 4)) (1.3.0)\n",
      "Requirement already satisfied: requests<3,>=2.0.0 in c:\\users\\kblu\\appdata\\local\\programs\\python\\python310\\lib\\site-packages (from msal==1.23.0->dnv-onecompute==8.2.0.6->-r dnv-requirements.txt (line 4)) (2.31.0)\n",
      "Requirement already satisfied: six>=1.5 in c:\\users\\kblu\\appdata\\local\\programs\\python\\python310\\lib\\site-packages (from python-dateutil==2.8.2->dnv-onecompute==8.2.0.6->-r dnv-requirements.txt (line 4)) (1.16.0)\n",
      "Requirement already satisfied: cffi>=1.12 in c:\\users\\kblu\\appdata\\local\\programs\\python\\python310\\lib\\site-packages (from cryptography>=2.1.4->azure-storage-blob==12.17.0->dnv-onecompute==8.2.0.6->-r dnv-requirements.txt (line 4)) (1.15.1)\n",
      "Requirement already satisfied: h11<0.15,>=0.13 in c:\\users\\kblu\\appdata\\local\\programs\\python\\python310\\lib\\site-packages (from httpcore<0.18.0,>=0.15.0->httpx==0.24.1->dnv-onecompute==8.2.0.6->-r dnv-requirements.txt (line 4)) (0.14.0)\n",
      "Requirement already satisfied: anyio<5.0,>=3.0 in c:\\users\\kblu\\appdata\\local\\programs\\python\\python310\\lib\\site-packages (from httpcore<0.18.0,>=0.15.0->httpx==0.24.1->dnv-onecompute==8.2.0.6->-r dnv-requirements.txt (line 4)) (3.6.2)\n",
      "Requirement already satisfied: charset-normalizer<4,>=2 in c:\\users\\kblu\\appdata\\local\\programs\\python\\python310\\lib\\site-packages (from requests<3,>=2.0.0->msal==1.23.0->dnv-onecompute==8.2.0.6->-r dnv-requirements.txt (line 4)) (3.1.0)\n",
      "Requirement already satisfied: urllib3<3,>=1.21.1 in c:\\users\\kblu\\appdata\\local\\programs\\python\\python310\\lib\\site-packages (from requests<3,>=2.0.0->msal==1.23.0->dnv-onecompute==8.2.0.6->-r dnv-requirements.txt (line 4)) (1.26.16)\n",
      "Requirement already satisfied: pycparser in c:\\users\\kblu\\appdata\\local\\programs\\python\\python310\\lib\\site-packages (from cffi>=1.12->cryptography>=2.1.4->azure-storage-blob==12.17.0->dnv-onecompute==8.2.0.6->-r dnv-requirements.txt (line 4)) (2.21)\n",
      "Installing collected packages: dnv-onecompute, dnv-oneworkflow, dnv-sesam-commands\n",
      "Successfully installed dnv-onecompute-8.2.0.6 dnv-oneworkflow-1.0.0.713 dnv-sesam-commands-5.12.0.121\n"
     ]
    },
    {
     "name": "stderr",
     "output_type": "stream",
     "text": [
      "UsageError: Line magic function `%update-stubs` not found.\n"
     ]
    }
   ],
   "source": [
    "install_packages_from_requirements_file('dnv-requirements.txt', print_output = True)"
   ]
  },
  {
   "cell_type": "markdown",
   "metadata": {},
   "source": [
    "#### Install SIFIO and dependencies"
   ]
  },
  {
   "cell_type": "code",
   "execution_count": 2,
   "metadata": {},
   "outputs": [
    {
     "name": "stdout",
     "output_type": "stream",
     "text": [
      "name 'moreOptions' is not defined\n"
     ]
    },
    {
     "name": "stderr",
     "output_type": "stream",
     "text": [
      "UsageError: Line magic function `%update-stubs` not found.\n"
     ]
    }
   ],
   "source": [
    "install_packages_from_requirements_file('sifio-requirements.txt', print_output = True, more_options  = \"--user\")\n",
    "%update-stubs"
   ]
  },
  {
   "cell_type": "markdown",
   "metadata": {},
   "source": [
    "### Test installation of packages"
   ]
  },
  {
   "cell_type": "code",
   "execution_count": 10,
   "metadata": {},
   "outputs": [
    {
     "name": "stdout",
     "output_type": "stream",
     "text": [
      "INFO: The .NET Runtime Path 'C:\\Users\\kblu\\AppData\\Roaming\\Python\\Python310\\site-packages\\DNV\\Runtime\\.net'\n",
      "INFO: The .NET Runtime Version '.NET 6.0.21'. Runtime Identifier 'win10-x64'.\n"
     ]
    }
   ],
   "source": [
    "try:\n",
    "    from DNV.Runtime import *\n",
    "    from dnv.oneworkflow import *\n",
    "    from DNV.Sesam.SifApi import *\n",
    "    from dnv.sesam import *\n",
    "    from dnv.oneworkflow import *\n",
    "    from dnv.onecompute import *\n",
    "\n",
    "except Exception as e:\n",
    "            print(\"Package installation failed!\")\n",
    "            print(e)"
   ]
  },
  {
   "cell_type": "markdown",
   "metadata": {},
   "source": [
    "## Install worker for local execution"
   ]
  },
  {
   "cell_type": "code",
   "execution_count": 11,
   "metadata": {},
   "outputs": [
    {
     "name": "stderr",
     "output_type": "stream",
     "text": [
      "INFO: HTTP Request: GET https://tstpeuwst01owapps.blob.core.windows.net/localworkflowruntime/win/x64/LocalWorkflowRuntime.ocm \"HTTP/1.1 200 OK\"\n",
      "INFO: The installed package 'LocalWorkflowRuntime' (version 1.0.0.627) is the latest\n"
     ]
    }
   ],
   "source": [
    "from dnv.oneworkflow.package_manager import PackageManager\n",
    "await PackageManager().install_package_async(\n",
    "    \"LocalWorkflowRuntime\", \"win-x64\", PackageManager.Repository.TEST)\n"
   ]
  }
 ],
 "metadata": {
  "kernelspec": {
   "display_name": "Python 3",
   "language": "python",
   "name": "python3"
  },
  "language_info": {
   "codemirror_mode": {
    "name": "ipython",
    "version": 3
   },
   "file_extension": ".py",
   "mimetype": "text/x-python",
   "name": "python",
   "nbconvert_exporter": "python",
   "pygments_lexer": "ipython3",
   "version": "3.10.1"
  },
  "orig_nbformat": 4
 },
 "nbformat": 4,
 "nbformat_minor": 2
}
