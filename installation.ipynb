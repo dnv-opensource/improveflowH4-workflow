{
 "cells": [
  {
   "cell_type": "markdown",
   "metadata": {},
   "source": [
    "## Installation  <a id='installation'></a>\n",
    "Run only when packages and/or local worker  needs to be upgraded. Run all section below in order for installation to succeed."
   ]
  },
  {
   "cell_type": "markdown",
   "metadata": {},
   "source": [
    "### Install necessary Python packages"
   ]
  },
  {
   "cell_type": "code",
   "execution_count": null,
   "metadata": {},
   "outputs": [],
   "source": [
    "#helper functions\n",
    "#https://pip.pypa.io/en/latest/user_guide/  # using-pip-from-your-program\n",
    "import subprocess, sys\n",
    "def uninstall_packages_from_requirements_file(file, print_output: bool = True):\n",
    "    try:\n",
    "        output=subprocess.check_output([sys.executable, '-m', 'pip', 'uninstall','-y','-r',file ],stderr=subprocess.STDOUT,text=True)\n",
    "        if(print_output):\n",
    "            print(output.strip())\n",
    "    except Exception as e:\n",
    "        print(e)\n",
    "def install_packages_from_requirements_file(file, print_output: bool = True):\n",
    "    try:\n",
    "        output=subprocess.check_output([sys.executable, '-m', 'pip', 'install','-r',file ],stderr=subprocess.STDOUT,text=True)\n",
    "        if(print_output):\n",
    "            print(output.strip())\n",
    "    except Exception as e:\n",
    "        print(e)\n",
    "def install_packages(packages, print_output: bool = True ):\n",
    "    for package in packages:\n",
    "        try:\n",
    "            output=subprocess.check_output([sys.executable, '-m', 'pip', 'install',package ],stderr=subprocess.STDOUT,text=True)\n",
    "            if(print_output):\n",
    "                print(output.strip())\n",
    "        except Exception as e:\n",
    "            print(e)\n"
   ]
  },
  {
   "cell_type": "markdown",
   "metadata": {},
   "source": [
    "#### Uninstalling basic packages required"
   ]
  },
  {
   "cell_type": "code",
   "execution_count": null,
   "metadata": {},
   "outputs": [],
   "source": [
    "uninstall_packages_from_requirements_file('basic-requirements.txt', print_output = True)"
   ]
  },
  {
   "cell_type": "markdown",
   "metadata": {},
   "source": [
    "#### Uninstalling dnv packages"
   ]
  },
  {
   "cell_type": "code",
   "execution_count": null,
   "metadata": {},
   "outputs": [],
   "source": [
    "uninstall_packages_from_requirements_file('dnv-requirements.txt', print_output = True)"
   ]
  },
  {
   "cell_type": "markdown",
   "metadata": {},
   "source": [
    "#### Installing basic requirements"
   ]
  },
  {
   "cell_type": "code",
   "execution_count": null,
   "metadata": {},
   "outputs": [],
   "source": [
    "install_packages_from_requirements_file('basic-requirements.txt', print_output = True)"
   ]
  },
  {
   "cell_type": "markdown",
   "metadata": {},
   "source": [
    "#### Installing dnv packages"
   ]
  },
  {
   "cell_type": "code",
   "execution_count": null,
   "metadata": {},
   "outputs": [],
   "source": [
    "install_packages_from_requirements_file('dnv-requirements.txt', print_output = True)"
   ]
  },
  {
   "cell_type": "markdown",
   "metadata": {},
   "source": [
    "### Test installation of packages"
   ]
  },
  {
   "cell_type": "code",
   "execution_count": null,
   "metadata": {},
   "outputs": [],
   "source": [
    "try:\n",
    "    from DNV.Runtime import *\n",
    "    from dnv.oneworkflow import *\n",
    "    from DNV.Sesam.SifApi import *\n",
    "    from dnv.sesam import *\n",
    "    from dnv.oneworkflow import *\n",
    "    from dnv.onecompute import *\n",
    "\n",
    "except Exception as e:\n",
    "            print \"Package installation failed!\"\n",
    "            print(e)"
   ]
  },
  {
   "cell_type": "markdown",
   "metadata": {},
   "source": [
    "## Install worker for local execution"
   ]
  },
  {
   "cell_type": "code",
   "execution_count": null,
   "metadata": {},
   "outputs": [],
   "source": [
    "from dnv-dotnet-intellisense import *\n",
    "update-stubs\n",
    "from dnv.oneworkflow.package_manager import PackageManager\n",
    "await PackageManager().install_package_async(\n",
    "    \"LocalWorkflowRuntime\", \"win-x64\", PackageManager.Repository.TEST)\n"
   ]
  }
 ],
 "metadata": {
  "kernelspec": {
   "display_name": "Python 3",
   "language": "python",
   "name": "python3"
  },
  "language_info": {
   "codemirror_mode": {
    "name": "ipython",
    "version": 3
   },
   "file_extension": ".py",
   "mimetype": "text/x-python",
   "name": "python",
   "nbconvert_exporter": "python",
   "pygments_lexer": "ipython3",
   "version": "3.10.1"
  },
  "orig_nbformat": 4
 },
 "nbformat": 4,
 "nbformat_minor": 2
}
