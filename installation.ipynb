{
 "cells": [
  {
   "cell_type": "markdown",
   "metadata": {},
   "source": [
    "## Installation of Python packages <a id='installation'></a>\n",
    "First make sure you have installed all the [prerequisites](README.md).\n",
    "Run only when packages and/or local worker  needs to be upgraded. Run all section below in order for installation to succeed.\n",
    "Please make sure you are **not** in a virtual environment when you do this installation"
   ]
  },
  {
   "cell_type": "markdown",
   "metadata": {},
   "source": [
    "### Print Python version, it should be 3.10.X"
   ]
  },
  {
   "cell_type": "code",
   "execution_count": null,
   "metadata": {},
   "outputs": [],
   "source": [
    "import sys\n",
    "print(\"Python version: \" + sys.version)"
   ]
  },
  {
   "cell_type": "markdown",
   "metadata": {},
   "source": [
    "### Install installation tool\n"
   ]
  },
  {
   "cell_type": "code",
   "execution_count": null,
   "metadata": {},
   "outputs": [],
   "source": [
    "!python -m pip install -U poetry --user\n",
    "!python -m pip install -U setuptools --user"
   ]
  },
  {
   "cell_type": "markdown",
   "metadata": {},
   "source": [
    "## Install Sesam packages and dependencies\n",
    "Depending on your team development process requirements you might need to share a common setup with the rest of your team. You might also want to make sure that you keep specific versions of both Python and installed Python packages. \n",
    "To enable those requirements you will need to create a Python environment where you will install what you need to develop your specific project. The below code will install all dependencies into a new Python environment using the [Poetry tool](https://python-poetry.org/docs/).\n",
    "You may read more about virtual environments [here](https://realpython.com/python-virtual-environments-a-primer/#why-do-you-need-virtual-environments).\n",
    "The code below will also remove possible existing environment"
   ]
  },
  {
   "cell_type": "code",
   "execution_count": null,
   "metadata": {},
   "outputs": [],
   "source": [
    "!poetry update --no-cache\n"
   ]
  },
  {
   "cell_type": "markdown",
   "metadata": {},
   "source": [
    "## List the env info\n",
    "First switch back to the global env by clicking Python Environment button to the top right, before running the following env info command"
   ]
  },
  {
   "cell_type": "code",
   "execution_count": null,
   "metadata": {},
   "outputs": [],
   "source": [
    "!poetry env info"
   ]
  },
  {
   "cell_type": "markdown",
   "metadata": {},
   "source": [
    "## Select the newly created Python environment \n",
    "Click Python Environment button again, then (in the search window at top) hit *ctrl + shift + p* and click on Python: Select Interpreter:\n",
    "\n",
    "![Alt text](selectinterpreter.png)\n",
    "\n",
    "Select the newly created environment  from the list.\n",
    "If it is not in the list, click +Enter enterpretor path, then Find... and paste the executable path from the env info above. Alterntively you can browse the relevant interpreter path to find *Python.exe*:\n",
    "\n",
    "![Alt text](selectinterpreter2.png)"
   ]
  },
  {
   "cell_type": "markdown",
   "metadata": {},
   "source": [
    "### Restart VSCode and open this notebook again to do the remaining steps\n",
    "Make sure to activate the Poetry environment by clicking on the top right icon. If it is active you will see something like this in the top right corner:\n",
    "\n",
    "![Alt text](activekernel.png)"
   ]
  },
  {
   "cell_type": "markdown",
   "metadata": {},
   "source": [
    "### Enable intellisense for SifIO"
   ]
  },
  {
   "cell_type": "code",
   "execution_count": null,
   "metadata": {},
   "outputs": [],
   "source": [
    "!update-stubs"
   ]
  },
  {
   "cell_type": "markdown",
   "metadata": {},
   "source": [
    "## Test installation of packages\n",
    "To make sure all the new modules are loaded, you must restart the kernel, using the circular arrow:\n",
    "\n",
    "![Alt text](restartkernel.png)"
   ]
  },
  {
   "cell_type": "code",
   "execution_count": 1,
   "metadata": {},
   "outputs": [
    {
     "name": "stdout",
     "output_type": "stream",
     "text": [
      "INFO: The .NET Runtime Path 'c:\\Users\\kblu\\AppData\\Local\\pypoetry\\Cache\\virtualenvs\\ow-X4wP4oR8-py3.10\\lib\\site-packages\\dnv\\net\\runtime\\.net'\n",
      "INFO: The .NET Runtime Version '.NET 6.0.22'. Runtime Identifier 'win10-x64'.\n"
     ]
    }
   ],
   "source": [
    "try:\n",
    "    from dnv.net.runtime import *\n",
    "    from dnv.oneworkflow import *\n",
    "    from dnv.sesam.sifapi import *\n",
    "    from dnv.sesam import *\n",
    "    from dnv.onecompute import *\n",
    "\n",
    "except Exception as e:\n",
    "            print(\"Package installation failed!\")\n",
    "            print(e)"
   ]
  },
  {
   "cell_type": "markdown",
   "metadata": {},
   "source": [
    "## Install worker for local execution"
   ]
  },
  {
   "cell_type": "code",
   "execution_count": 3,
   "metadata": {},
   "outputs": [
    {
     "name": "stderr",
     "output_type": "stream",
     "text": [
      "INFO: HTTP Request: GET https://devpeuwst01owapps.blob.core.windows.net/localworkflowruntime/win/x64/LocalWorkflowRuntime.ocm \"HTTP/1.1 200 OK\"\n",
      "INFO: Downloading the package 'LocalWorkflowRuntime' from 'https://devpeuwst01owapps.blob.core.windows.net/localworkflowruntime/win/x64/LocalWorkflowRuntime.zip'\n",
      "INFO: HTTP Request: GET https://devpeuwst01owapps.blob.core.windows.net/localworkflowruntime/win/x64/LocalWorkflowRuntime.zip \"HTTP/1.1 200 OK\"\n",
      "INFO: Writing downloaded data to C:\\Users\\kblu\\AppData\\Local\\Temp\\tmpda7uqa6p\n",
      "INFO: Downloaded the package 'LocalWorkflowRuntime' to 'C:\\Users\\kblu\\AppData\\Local\\Temp\\tmpda7uqa6p'\n",
      "INFO: Unzipping the downloaded package 'LocalWorkflowRuntime' from 'C:\\Users\\kblu\\AppData\\Local\\Temp\\tmpda7uqa6p'\n",
      "INFO: Extracting the package 'LocalWorkflowRuntime' to 'C:\\Users\\kblu\\AppData\\Local\\OneCompute\\LocalWorkflowRuntime'\n",
      "INFO: Successfully installed the package 'LocalWorkflowRuntime'\n"
     ]
    }
   ],
   "source": [
    "from dnv.oneworkflow.utils.starter import *\n",
    "await install_workflow_runtime(repository = PackageManager.Repository.DEV)"
   ]
  }
 ],
 "metadata": {
  "kernelspec": {
   "display_name": "Python 3",
   "language": "python",
   "name": "python3"
  },
  "language_info": {
   "codemirror_mode": {
    "name": "ipython",
    "version": 3
   },
   "file_extension": ".py",
   "mimetype": "text/x-python",
   "name": "python",
   "nbconvert_exporter": "python",
   "pygments_lexer": "ipython3",
   "version": "3.10.1"
  },
  "orig_nbformat": 4
 },
 "nbformat": 4,
 "nbformat_minor": 2
}
