{
 "cells": [
  {
   "cell_type": "markdown",
   "metadata": {},
   "source": [
    "## Installation og Python packages <a id='installation'></a>\n",
    "Run only when packages and/or local worker  needs to be upgraded. Run all section below in order for installation to succeed.\n",
    "Please make sure you are **not** in a virtual environment when you do this installation"
   ]
  },
  {
   "cell_type": "markdown",
   "metadata": {},
   "source": [
    "### Print Python version, it should be 3.10.X"
   ]
  },
  {
   "cell_type": "code",
   "execution_count": 1,
   "metadata": {},
   "outputs": [
    {
     "name": "stdout",
     "output_type": "stream",
     "text": [
      "Python version: 3.10.1 (tags/v3.10.1:2cd268a, Dec  6 2021, 19:10:37) [MSC v.1929 64 bit (AMD64)]\n"
     ]
    }
   ],
   "source": [
    "import sys\n",
    "print(\"Python version: \" + sys.version)"
   ]
  },
  {
   "cell_type": "markdown",
   "metadata": {},
   "source": [
    "### Install installation tool\n"
   ]
  },
  {
   "cell_type": "code",
   "execution_count": 2,
   "metadata": {},
   "outputs": [
    {
     "name": "stdout",
     "output_type": "stream",
     "text": [
      "Requirement already satisfied: pip in c:\\users\\kblu\\appdata\\local\\programs\\python\\python310\\lib\\site-packages (23.2.1)\n",
      "Collecting setuptools\n",
      "  Obtaining dependency information for setuptools from https://files.pythonhosted.org/packages/bb/26/7945080113158354380a12ce26873dd6c1ebd88d47f5bc24e2c5bb38c16a/setuptools-68.2.2-py3-none-any.whl.metadata\n",
      "  Using cached setuptools-68.2.2-py3-none-any.whl.metadata (6.3 kB)\n",
      "Using cached setuptools-68.2.2-py3-none-any.whl (807 kB)\n",
      "Installing collected packages: setuptools\n",
      "Successfully installed setuptools-68.2.2\n",
      "Note: you may need to restart the kernel to use updated packages.\n",
      "Collecting poetryNote: you may need to restart the kernel to use updated packages.\n",
      "  Obtaining dependency information for poetry from https://files.pythonhosted.org/packages/7d/25/f3bfda3c458d114005af99441d009936b85a34a730aeb9cf57fb2630d9f7/poetry-1.6.1-py3-none-any.whl.metadata\n",
      "  Using cached poetry-1.6.1-py3-none-any.whl.metadata (6.8 kB)\n",
      "Requirement already satisfied: build<0.11.0,>=0.10.0 in c:\\users\\kblu\\appdata\\local\\programs\\python\\python310\\lib\\site-packages (from poetry) (0.10.0)\n",
      "\n",
      "Requirement already satisfied: cachecontrol[filecache]<0.14.0,>=0.13.0 in c:\\users\\kblu\\appdata\\local\\programs\\python\\python310\\lib\\site-packages (from poetry) (0.13.1)\n",
      "Requirement already satisfied: cleo<3.0.0,>=2.0.0 in c:\\users\\kblu\\appdata\\local\\programs\\python\\python310\\lib\\site-packages (from poetry) (2.0.1)\n",
      "Requirement already satisfied: crashtest<0.5.0,>=0.4.1 in c:\\users\\kblu\\appdata\\local\\programs\\python\\python310\\lib\\site-packages (from poetry) (0.4.1)\n",
      "Requirement already satisfied: dulwich<0.22.0,>=0.21.2 in c:\\users\\kblu\\appdata\\local\\programs\\python\\python310\\lib\\site-packages (from poetry) (0.21.6)\n",
      "Requirement already satisfied: installer<0.8.0,>=0.7.0 in c:\\users\\kblu\\appdata\\local\\programs\\python\\python310\\lib\\site-packages (from poetry) (0.7.0)\n",
      "Requirement already satisfied: jsonschema<4.18.0,>=4.10.0 in c:\\users\\kblu\\appdata\\local\\programs\\python\\python310\\lib\\site-packages (from poetry) (4.17.3)\n",
      "Requirement already satisfied: keyring<25.0.0,>=24.0.0 in c:\\users\\kblu\\appdata\\local\\programs\\python\\python310\\lib\\site-packages (from poetry) (24.2.0)\n",
      "Requirement already satisfied: packaging>=20.4 in c:\\users\\kblu\\appdata\\local\\programs\\python\\python310\\lib\\site-packages (from poetry) (21.3)\n",
      "Requirement already satisfied: pexpect<5.0.0,>=4.7.0 in c:\\users\\kblu\\appdata\\local\\programs\\python\\python310\\lib\\site-packages (from poetry) (4.8.0)\n",
      "Requirement already satisfied: pkginfo<2.0.0,>=1.9.4 in c:\\users\\kblu\\appdata\\local\\programs\\python\\python310\\lib\\site-packages (from poetry) (1.9.6)\n",
      "Requirement already satisfied: platformdirs<4.0.0,>=3.0.0 in c:\\users\\kblu\\appdata\\local\\programs\\python\\python310\\lib\\site-packages (from poetry) (3.10.0)\n",
      "Requirement already satisfied: poetry-core==1.7.0 in c:\\users\\kblu\\appdata\\local\\programs\\python\\python310\\lib\\site-packages (from poetry) (1.7.0)\n",
      "Requirement already satisfied: poetry-plugin-export<2.0.0,>=1.5.0 in c:\\users\\kblu\\appdata\\local\\programs\\python\\python310\\lib\\site-packages (from poetry) (1.5.0)\n",
      "Requirement already satisfied: pyproject-hooks<2.0.0,>=1.0.0 in c:\\users\\kblu\\appdata\\local\\programs\\python\\python310\\lib\\site-packages (from poetry) (1.0.0)\n",
      "Requirement already satisfied: requests<3.0,>=2.26 in c:\\users\\kblu\\appdata\\local\\programs\\python\\python310\\lib\\site-packages (from poetry) (2.31.0)\n",
      "Requirement already satisfied: requests-toolbelt<2,>=0.9.1 in c:\\users\\kblu\\appdata\\local\\programs\\python\\python310\\lib\\site-packages (from poetry) (1.0.0)\n",
      "Requirement already satisfied: shellingham<2.0,>=1.5 in c:\\users\\kblu\\appdata\\local\\programs\\python\\python310\\lib\\site-packages (from poetry) (1.5.3)\n",
      "Requirement already satisfied: tomli<3.0.0,>=2.0.1 in c:\\users\\kblu\\appdata\\local\\programs\\python\\python310\\lib\\site-packages (from poetry) (2.0.1)\n",
      "Requirement already satisfied: tomlkit<1.0.0,>=0.11.4 in c:\\users\\kblu\\appdata\\local\\programs\\python\\python310\\lib\\site-packages (from poetry) (0.12.1)\n",
      "Requirement already satisfied: trove-classifiers>=2022.5.19 in c:\\users\\kblu\\appdata\\local\\programs\\python\\python310\\lib\\site-packages (from poetry) (2023.9.19)\n",
      "Requirement already satisfied: virtualenv<21.0.0,>=20.22.0 in c:\\users\\kblu\\appdata\\local\\programs\\python\\python310\\lib\\site-packages (from poetry) (20.24.5)\n",
      "Requirement already satisfied: colorama in c:\\users\\kblu\\appdata\\local\\programs\\python\\python310\\lib\\site-packages (from build<0.11.0,>=0.10.0->poetry) (0.4.4)\n",
      "Requirement already satisfied: msgpack>=0.5.2 in c:\\users\\kblu\\appdata\\local\\programs\\python\\python310\\lib\\site-packages (from cachecontrol[filecache]<0.14.0,>=0.13.0->poetry) (1.0.6)\n",
      "Requirement already satisfied: filelock>=3.8.0 in c:\\users\\kblu\\appdata\\local\\programs\\python\\python310\\lib\\site-packages (from cachecontrol[filecache]<0.14.0,>=0.13.0->poetry) (3.12.4)\n",
      "Requirement already satisfied: rapidfuzz<3.0.0,>=2.2.0 in c:\\users\\kblu\\appdata\\local\\programs\\python\\python310\\lib\\site-packages (from cleo<3.0.0,>=2.0.0->poetry) (2.15.1)\n",
      "Requirement already satisfied: urllib3>=1.25 in c:\\users\\kblu\\appdata\\local\\programs\\python\\python310\\lib\\site-packages (from dulwich<0.22.0,>=0.21.2->poetry) (1.26.16)\n",
      "Requirement already satisfied: attrs>=17.4.0 in c:\\users\\kblu\\appdata\\local\\programs\\python\\python310\\lib\\site-packages (from jsonschema<4.18.0,>=4.10.0->poetry) (21.2.0)\n",
      "Requirement already satisfied: pyrsistent!=0.17.0,!=0.17.1,!=0.17.2,>=0.14.0 in c:\\users\\kblu\\appdata\\local\\programs\\python\\python310\\lib\\site-packages (from jsonschema<4.18.0,>=4.10.0->poetry) (0.18.0)\n",
      "Requirement already satisfied: jaraco.classes in c:\\users\\kblu\\appdata\\local\\programs\\python\\python310\\lib\\site-packages (from keyring<25.0.0,>=24.0.0->poetry) (3.2.3)\n",
      "Requirement already satisfied: importlib-metadata>=4.11.4 in c:\\users\\kblu\\appdata\\local\\programs\\python\\python310\\lib\\site-packages (from keyring<25.0.0,>=24.0.0->poetry) (5.0.0)\n",
      "Requirement already satisfied: pywin32-ctypes>=0.2.0 in c:\\users\\kblu\\appdata\\local\\programs\\python\\python310\\lib\\site-packages (from keyring<25.0.0,>=24.0.0->poetry) (0.2.0)\n",
      "Requirement already satisfied: pyparsing!=3.0.5,>=2.0.2 in c:\\users\\kblu\\appdata\\local\\programs\\python\\python310\\lib\\site-packages (from packaging>=20.4->poetry) (3.0.6)\n",
      "Requirement already satisfied: ptyprocess>=0.5 in c:\\users\\kblu\\appdata\\local\\programs\\python\\python310\\lib\\site-packages (from pexpect<5.0.0,>=4.7.0->poetry) (0.7.0)\n",
      "Requirement already satisfied: charset-normalizer<4,>=2 in c:\\users\\kblu\\appdata\\local\\programs\\python\\python310\\lib\\site-packages (from requests<3.0,>=2.26->poetry) (3.1.0)\n",
      "Requirement already satisfied: idna<4,>=2.5 in c:\\users\\kblu\\appdata\\local\\programs\\python\\python310\\lib\\site-packages (from requests<3.0,>=2.26->poetry) (3.4)\n",
      "Requirement already satisfied: certifi>=2017.4.17 in c:\\users\\kblu\\appdata\\local\\programs\\python\\python310\\lib\\site-packages (from requests<3.0,>=2.26->poetry) (2023.5.7)\n",
      "Requirement already satisfied: distlib<1,>=0.3.7 in c:\\users\\kblu\\appdata\\local\\programs\\python\\python310\\lib\\site-packages (from virtualenv<21.0.0,>=20.22.0->poetry) (0.3.7)\n",
      "Requirement already satisfied: zipp>=0.5 in c:\\users\\kblu\\appdata\\local\\programs\\python\\python310\\lib\\site-packages (from importlib-metadata>=4.11.4->keyring<25.0.0,>=24.0.0->poetry) (3.10.0)\n",
      "Requirement already satisfied: more-itertools in c:\\users\\kblu\\appdata\\local\\programs\\python\\python310\\lib\\site-packages (from jaraco.classes->keyring<25.0.0,>=24.0.0->poetry) (9.0.0)\n",
      "Using cached poetry-1.6.1-py3-none-any.whl (232 kB)\n",
      "Installing collected packages: poetry\n",
      "Successfully installed poetry-1.6.1\n"
     ]
    }
   ],
   "source": [
    "%pip install -U pip setuptools --user\n",
    "%pip install poetry --user"
   ]
  },
  {
   "cell_type": "markdown",
   "metadata": {},
   "source": [
    "## Install Sesam packages and dependencies\n",
    "Depending on your team development process requirements you might need to share a common setup with the rest of your team. You might also want to make sure that you keep specific versions of both Python and installed Python packages. \n",
    "To enable those requirements you will need to create a Python environment where you will install what you need to develop your specific project. The below code will install all dependencies into a new Python environment using the [Poetry tool](https://python-poetry.org/docs/).\n",
    "You may read more about virtual environments [here](https://realpython.com/python-virtual-environments-a-primer/#why-do-you-need-virtual-environments)."
   ]
  },
  {
   "cell_type": "code",
   "execution_count": 3,
   "metadata": {},
   "outputs": [
    {
     "name": "stdout",
     "output_type": "stream",
     "text": [
      "Installing dependencies from lock file\n",
      "\n",
      "Package operations: 57 installs, 1 update, 0 removals\n",
      "\n",
      "  • Installing azure-core (1.29.4)\n",
      "  • Installing babel (2.12.1)\n",
      "  • Installing comm (0.1.4)\n",
      "  • Installing debugpy (1.8.0)\n",
      "  • Installing httpcore (0.17.3)\n",
      "  • Installing ipython (8.15.0)\n",
      "  • Installing isodate (0.6.1)\n",
      "  • Installing json5 (0.9.14)\n",
      "  • Installing jupyter-server (2.7.3)\n",
      "  • Installing nest-asyncio (1.5.8)\n",
      "  • Installing psutil (5.9.5)\n",
      "  • Installing pyjwt (2.8.0)\n",
      "  • Installing async-lru (2.0.4)\n",
      "  • Installing azure-storage-blob (12.17.0)\n",
      "  • Installing cancel-token (0.1.6)\n",
      "  • Installing dacite (1.8.1)\n",
      "  • Installing httpx (0.24.1)\n",
      "  • Installing ipykernel (6.25.2)\n",
      "  • Installing jupyter-lsp (2.2.0)\n",
      "  • Installing jupyterlab-server (2.25.0)\n",
      "  • Installing msal (1.23.0)\n",
      "  • Installing notebook-shim (0.2.3)\n",
      "  • Installing numpy (1.26.0)\n",
      "  • Updating setuptools (68.2.0 -> 68.2.2)\n",
      "  • Installing stringcase (1.2.0)\n",
      "  • Installing tomli (2.0.1)\n",
      "  • Installing clr-loader (0.2.6)\n",
      "  • Installing contourpy (1.1.1)\n",
      "  • Installing cycler (0.11.0)\n",
      "  • Installing dnv-onecompute (8.3.0.11)\n",
      "  • Installing fonttools (4.42.1)\n",
      "  • Installing ipython-genutils (0.2.0)\n",
      "  • Installing jupyterlab (4.0.6)\n",
      "  • Installing jupyterlab-widgets (3.0.9)\n",
      "  • Installing kiwisolver (1.4.5)\n",
      "  • Installing pillow (10.0.1)\n",
      "  • Installing pyparsing (3.1.1)\n",
      "  • Installing pytz (2023.3.post1)\n",
      "  • Installing qtpy (2.4.0)\n",
      "  • Installing setuptools-scm (8.0.3)\n",
      "  • Installing tzdata (2023.3)\n",
      "  • Installing widgetsnbextension (4.0.9)\n",
      "  • Installing dnv-oneworkflow (1.0.0.799)\n",
      "  • Installing et-xmlfile (1.1.0)\n",
      "  • Installing ipywidgets (8.1.1)\n",
      "  • Installing jupyter-console (6.6.3)\n",
      "  • Installing matplotlib (3.8.0)\n",
      "  • Installing notebook (7.0.4)\n",
      "  • Installing pandas (2.1.1)\n",
      "  • Installing pythonnet (3.0.2)\n",
      "  • Installing qtconsole (5.4.4)\n",
      "  • Installing dnv-net-intellisense (1.0.0.31)\n",
      "  • Installing dnv-net-runtime (1.0.0.39)\n",
      "  • Installing dnv-sesam-commands (5.12.0.192)\n",
      "  • Installing dnv-sifio (5.3.2.994)\n",
      "  • Installing jupyter (1.0.0)\n",
      "  • Installing openpyxl (3.1.2)\n",
      "  • Installing quantconnect-stubs (15851)\n"
     ]
    }
   ],
   "source": [
    "!poetry install"
   ]
  },
  {
   "cell_type": "markdown",
   "metadata": {},
   "source": [
    "## Use the virtual environment created\n",
    "Switch active Python environment by clicking on the icon in the top right corner and select the newly created poetry environment:"
   ]
  },
  {
   "cell_type": "markdown",
   "metadata": {},
   "source": [
    "![Alt text](image.png)\n"
   ]
  },
  {
   "cell_type": "markdown",
   "metadata": {},
   "source": [
    "### Restart VSCode and open this notebook again to do the remaining steps\n",
    "Make sure you still have the Poetry environment set as described above.\n",
    "Verify that intellisense and code coloring works:\n"
   ]
  },
  {
   "cell_type": "markdown",
   "metadata": {},
   "source": [
    "### Enable intellisense for SifIO"
   ]
  },
  {
   "cell_type": "code",
   "execution_count": 1,
   "metadata": {},
   "outputs": [
    {
     "name": "stdout",
     "output_type": "stream",
     "text": [
      "INFO: The stub is updated successfully.\n"
     ]
    }
   ],
   "source": [
    "!update-stubs"
   ]
  },
  {
   "cell_type": "markdown",
   "metadata": {},
   "source": [
    "## Test installation of packages\n",
    "To make sure all the new modules are loaded, you must restart the kernel, using the circular arrow:\n",
    "\n",
    "\n",
    "![Alt text](image-1.png)"
   ]
  },
  {
   "cell_type": "code",
   "execution_count": 1,
   "metadata": {},
   "outputs": [
    {
     "name": "stdout",
     "output_type": "stream",
     "text": [
      "INFO: The .NET Runtime Path 'c:\\Users\\kblu\\AppData\\Local\\pypoetry\\Cache\\virtualenvs\\ow-venv-poetry-PnErGSPi-py3.10\\lib\\site-packages\\dnv\\net\\runtime\\.net'\n",
      "INFO: The .NET Runtime Version '.NET 6.0.22'. Runtime Identifier 'win10-x64'.\n"
     ]
    }
   ],
   "source": [
    "try:\n",
    "    from dnv.net.runtime import *\n",
    "    from dnv.oneworkflow import *\n",
    "    from dnv.sesam.sifapi import *\n",
    "    from dnv.sesam import *\n",
    "    from dnv.onecompute import *\n",
    "\n",
    "except Exception as e:\n",
    "            print(\"Package installation failed!\")\n",
    "            print(e)"
   ]
  },
  {
   "cell_type": "markdown",
   "metadata": {},
   "source": [
    "## Install worker for local execution"
   ]
  },
  {
   "cell_type": "code",
   "execution_count": 2,
   "metadata": {},
   "outputs": [
    {
     "name": "stderr",
     "output_type": "stream",
     "text": [
      "INFO: HTTP Request: GET https://devpeuwst01owapps.blob.core.windows.net/localworkflowruntime/win/x64/LocalWorkflowRuntime.ocm \"HTTP/1.1 200 OK\"\n",
      "INFO: The installed package 'LocalWorkflowRuntime' (version 1.0.0.788) is the latest\n"
     ]
    }
   ],
   "source": [
    "from dnv.oneworkflow.utils.starter import *\n",
    "await install_workflow_runtime(repository = PackageManager.Repository.DEV)"
   ]
  },
  {
   "cell_type": "markdown",
   "metadata": {},
   "source": [
    "## How to remove the Python environment\n",
    "%TODO"
   ]
  }
 ],
 "metadata": {
  "kernelspec": {
   "display_name": "Python 3",
   "language": "python",
   "name": "python3"
  },
  "language_info": {
   "codemirror_mode": {
    "name": "ipython",
    "version": 3
   },
   "file_extension": ".py",
   "mimetype": "text/x-python",
   "name": "python",
   "nbconvert_exporter": "python",
   "pygments_lexer": "ipython3",
   "version": "3.10.1"
  },
  "orig_nbformat": 4
 },
 "nbformat": 4,
 "nbformat_minor": 2
}
