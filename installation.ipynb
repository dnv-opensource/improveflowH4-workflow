{
 "cells": [
  {
   "cell_type": "markdown",
   "metadata": {},
   "source": [
    "## Installation  <a id='installation'></a>\n",
    "Run only when packages and/or local worker  needs to be upgraded. Run all section below in order for installation to succeed."
   ]
  },
  {
   "cell_type": "markdown",
   "metadata": {},
   "source": [
    "### Install necessary Python packages"
   ]
  },
  {
   "cell_type": "code",
   "execution_count": 2,
   "metadata": {},
   "outputs": [],
   "source": [
    "#helper functions\n",
    "#https://pip.pypa.io/en/latest/user_guide/  # using-pip-from-your-program\n",
    "import subprocess, sys\n",
    "def uninstall_packages_from_requirements_file(file, print_output: bool = True):\n",
    "    try:\n",
    "        output=subprocess.check_output([sys.executable, '-m', 'pip', 'uninstall','-y','-r',file ],stderr=subprocess.STDOUT,text=True)\n",
    "    except subprocess.CalledProcessError as exc:\n",
    "        print(\"Status : FAIL\", exc.returncode, exc.output)\n",
    "    else:\n",
    "        print(\"Output: \\n{}\\n\".format(output))\n",
    "     \n",
    "def install_packages_from_requirements_file(file, print_output: bool = True, more_options = \"\"):\n",
    "    try:\n",
    "        output=subprocess.check_output([sys.executable, '-m', 'pip', 'install','-r',file, more_options ],stderr=subprocess.STDOUT,text=True)\n",
    "    except subprocess.CalledProcessError as exc:\n",
    "        print(\"Status : FAIL\", exc.returncode, exc.output)\n",
    "    else:\n",
    "        print(\"Output: \\n{}\\n\".format(output))\n",
    "def install_packages(packages, print_output: bool = True ):\n",
    "    for package in packages:\n",
    "        try:\n",
    "            output=subprocess.check_output([sys.executable, '-m', 'pip', 'install',package ],stderr=subprocess.STDOUT,text=True)\n",
    "            if(print_output):\n",
    "                print(output.strip())\n",
    "        except Exception as e:\n",
    "            print(e)\n"
   ]
  },
  {
   "cell_type": "markdown",
   "metadata": {},
   "source": [
    "#### Uninstalling basic packages required"
   ]
  },
  {
   "cell_type": "code",
   "execution_count": null,
   "metadata": {},
   "outputs": [],
   "source": [
    "uninstall_packages_from_requirements_file('basic-requirements.txt', print_output = True)"
   ]
  },
  {
   "cell_type": "markdown",
   "metadata": {},
   "source": [
    "#### Uninstalling dnv packages"
   ]
  },
  {
   "cell_type": "code",
   "execution_count": null,
   "metadata": {},
   "outputs": [],
   "source": [
    "uninstall_packages_from_requirements_file('dnv-requirements.txt', print_output = True)"
   ]
  },
  {
   "cell_type": "markdown",
   "metadata": {},
   "source": [
    "#### Uninstalling SIFIO reuqirements"
   ]
  },
  {
   "cell_type": "code",
   "execution_count": null,
   "metadata": {},
   "outputs": [],
   "source": [
    "uninstall_packages_from_requirements_file('sifio-requirements.txt', print_output = True)"
   ]
  },
  {
   "cell_type": "markdown",
   "metadata": {},
   "source": [
    "#### Installing basic requirements"
   ]
  },
  {
   "cell_type": "code",
   "execution_count": 3,
   "metadata": {},
   "outputs": [
    {
     "name": "stdout",
     "output_type": "stream",
     "text": [
      "Requirement already satisfied: msal==1.23.0 in c:\\users\\kblu\\appdata\\local\\programs\\python\\python310\\lib\\site-packages (from -r basic-requirements.txt (line 1)) (1.23.0)\n",
      "Requirement already satisfied: azure-storage-blob==12.17.0 in c:\\users\\kblu\\appdata\\local\\programs\\python\\python310\\lib\\site-packages (from -r basic-requirements.txt (line 2)) (12.17.0)\n",
      "Requirement already satisfied: cancel-token==0.1.6 in c:\\users\\kblu\\appdata\\local\\programs\\python\\python310\\lib\\site-packages (from -r basic-requirements.txt (line 3)) (0.1.6)\n",
      "Requirement already satisfied: httpx==0.24.1 in c:\\users\\kblu\\appdata\\local\\programs\\python\\python310\\lib\\site-packages (from -r basic-requirements.txt (line 4)) (0.24.1)\n",
      "Requirement already satisfied: dacite==1.8.1 in c:\\users\\kblu\\appdata\\local\\programs\\python\\python310\\lib\\site-packages (from -r basic-requirements.txt (line 5)) (1.8.1)\n",
      "Requirement already satisfied: stringcase==1.2.0 in c:\\users\\kblu\\appdata\\local\\programs\\python\\python310\\lib\\site-packages (from -r basic-requirements.txt (line 6)) (1.2.0)\n",
      "Requirement already satisfied: pyjwt==2.8.0 in c:\\users\\kblu\\appdata\\local\\programs\\python\\python310\\lib\\site-packages (from -r basic-requirements.txt (line 7)) (2.8.0)\n",
      "Requirement already satisfied: overrides==7.4.0 in c:\\users\\kblu\\appdata\\local\\programs\\python\\python310\\lib\\site-packages (from -r basic-requirements.txt (line 8)) (7.4.0)\n",
      "Requirement already satisfied: python-dateutil==2.8.2 in c:\\users\\kblu\\appdata\\local\\programs\\python\\python310\\lib\\site-packages (from -r basic-requirements.txt (line 9)) (2.8.2)\n",
      "Requirement already satisfied: openpyxl in c:\\users\\kblu\\appdata\\local\\programs\\python\\python310\\lib\\site-packages (from -r basic-requirements.txt (line 10)) (3.1.2)\n",
      "Requirement already satisfied: pandas in c:\\users\\kblu\\appdata\\local\\programs\\python\\python310\\lib\\site-packages (from -r basic-requirements.txt (line 11)) (2.0.3)\n",
      "Requirement already satisfied: requests<3,>=2.0.0 in c:\\users\\kblu\\appdata\\local\\programs\\python\\python310\\lib\\site-packages (from msal==1.23.0->-r basic-requirements.txt (line 1)) (2.31.0)\n",
      "Requirement already satisfied: cryptography<44,>=0.6 in c:\\users\\kblu\\appdata\\local\\programs\\python\\python310\\lib\\site-packages (from msal==1.23.0->-r basic-requirements.txt (line 1)) (38.0.3)\n",
      "Requirement already satisfied: azure-core<2.0.0,>=1.28.0 in c:\\users\\kblu\\appdata\\local\\programs\\python\\python310\\lib\\site-packages (from azure-storage-blob==12.17.0->-r basic-requirements.txt (line 2)) (1.29.2)\n",
      "Requirement already satisfied: typing-extensions>=4.3.0 in c:\\users\\kblu\\appdata\\local\\programs\\python\\python310\\lib\\site-packages (from azure-storage-blob==12.17.0->-r basic-requirements.txt (line 2)) (4.6.0)\n",
      "Requirement already satisfied: isodate>=0.6.1 in c:\\users\\kblu\\appdata\\local\\programs\\python\\python310\\lib\\site-packages (from azure-storage-blob==12.17.0->-r basic-requirements.txt (line 2)) (0.6.1)\n",
      "Requirement already satisfied: certifi in c:\\users\\kblu\\appdata\\local\\programs\\python\\python310\\lib\\site-packages (from httpx==0.24.1->-r basic-requirements.txt (line 4)) (2023.5.7)\n",
      "Requirement already satisfied: httpcore<0.18.0,>=0.15.0 in c:\\users\\kblu\\appdata\\local\\programs\\python\\python310\\lib\\site-packages (from httpx==0.24.1->-r basic-requirements.txt (line 4)) (0.16.3)\n",
      "Requirement already satisfied: idna in c:\\users\\kblu\\appdata\\local\\programs\\python\\python310\\lib\\site-packages (from httpx==0.24.1->-r basic-requirements.txt (line 4)) (3.4)\n",
      "Requirement already satisfied: sniffio in c:\\users\\kblu\\appdata\\local\\programs\\python\\python310\\lib\\site-packages (from httpx==0.24.1->-r basic-requirements.txt (line 4)) (1.3.0)\n",
      "Requirement already satisfied: six>=1.5 in c:\\users\\kblu\\appdata\\local\\programs\\python\\python310\\lib\\site-packages (from python-dateutil==2.8.2->-r basic-requirements.txt (line 9)) (1.16.0)\n",
      "Requirement already satisfied: et-xmlfile in c:\\users\\kblu\\appdata\\local\\programs\\python\\python310\\lib\\site-packages (from openpyxl->-r basic-requirements.txt (line 10)) (1.1.0)\n",
      "Requirement already satisfied: pytz>=2020.1 in c:\\users\\kblu\\appdata\\local\\programs\\python\\python310\\lib\\site-packages (from pandas->-r basic-requirements.txt (line 11)) (2021.3)\n",
      "Requirement already satisfied: tzdata>=2022.1 in c:\\users\\kblu\\appdata\\roaming\\python\\python310\\site-packages (from pandas->-r basic-requirements.txt (line 11)) (2023.3)\n",
      "Requirement already satisfied: numpy>=1.21.0 in c:\\users\\kblu\\appdata\\local\\programs\\python\\python310\\lib\\site-packages (from pandas->-r basic-requirements.txt (line 11)) (1.21.4)\n",
      "Requirement already satisfied: cffi>=1.12 in c:\\users\\kblu\\appdata\\local\\programs\\python\\python310\\lib\\site-packages (from cryptography<44,>=0.6->msal==1.23.0->-r basic-requirements.txt (line 1)) (1.15.1)\n",
      "Requirement already satisfied: h11<0.15,>=0.13 in c:\\users\\kblu\\appdata\\local\\programs\\python\\python310\\lib\\site-packages (from httpcore<0.18.0,>=0.15.0->httpx==0.24.1->-r basic-requirements.txt (line 4)) (0.14.0)\n",
      "Requirement already satisfied: anyio<5.0,>=3.0 in c:\\users\\kblu\\appdata\\local\\programs\\python\\python310\\lib\\site-packages (from httpcore<0.18.0,>=0.15.0->httpx==0.24.1->-r basic-requirements.txt (line 4)) (3.6.2)\n",
      "Requirement already satisfied: charset-normalizer<4,>=2 in c:\\users\\kblu\\appdata\\local\\programs\\python\\python310\\lib\\site-packages (from requests<3,>=2.0.0->msal==1.23.0->-r basic-requirements.txt (line 1)) (3.1.0)\n",
      "Requirement already satisfied: urllib3<3,>=1.21.1 in c:\\users\\kblu\\appdata\\local\\programs\\python\\python310\\lib\\site-packages (from requests<3,>=2.0.0->msal==1.23.0->-r basic-requirements.txt (line 1)) (1.26.16)\n",
      "Requirement already satisfied: pycparser in c:\\users\\kblu\\appdata\\local\\programs\\python\\python310\\lib\\site-packages (from cffi>=1.12->cryptography<44,>=0.6->msal==1.23.0->-r basic-requirements.txt (line 1)) (2.21)\n"
     ]
    }
   ],
   "source": [
    "install_packages_from_requirements_file('basic-requirements.txt', print_output = True, more_options= \"--user\")"
   ]
  },
  {
   "cell_type": "markdown",
   "metadata": {},
   "source": [
    "#### Installing dnv packages"
   ]
  },
  {
   "cell_type": "code",
   "execution_count": 4,
   "metadata": {},
   "outputs": [
    {
     "name": "stdout",
     "output_type": "stream",
     "text": [
      "Command '['c:\\\\Users\\\\kblu\\\\AppData\\\\Local\\\\Programs\\\\Python\\\\Python310\\\\python.exe', '-m', 'pip', 'install', '-r', 'dnv-requirements.txt', '--user']' returned non-zero exit status 1.\n"
     ]
    }
   ],
   "source": [
    "install_packages_from_requirements_file('dnv-requirements.txt', print_output = True, more_options= \"--user\")"
   ]
  },
  {
   "cell_type": "markdown",
   "metadata": {},
   "source": [
    "#### Install SIFIO and dependencies"
   ]
  },
  {
   "cell_type": "code",
   "execution_count": null,
   "metadata": {},
   "outputs": [],
   "source": [
    "install_packages_from_requirements_file('sifio-requirements.txt', print_output = True, more_options  = \"--user\")\n",
    "!update-stubs"
   ]
  },
  {
   "cell_type": "markdown",
   "metadata": {},
   "source": [
    "### Test installation of packages"
   ]
  },
  {
   "cell_type": "code",
   "execution_count": null,
   "metadata": {},
   "outputs": [],
   "source": [
    "try:\n",
    "    from DNV.Runtime import *\n",
    "    from dnv.oneworkflow import *\n",
    "    from DNV.Sesam.SifApi import *\n",
    "    from dnv.sesam import *\n",
    "    from dnv.onecompute import *\n",
    "\n",
    "except Exception as e:\n",
    "            print(\"Package installation failed!\")\n",
    "            print(e)"
   ]
  },
  {
   "cell_type": "markdown",
   "metadata": {},
   "source": [
    "## Install worker for local execution"
   ]
  },
  {
   "cell_type": "code",
   "execution_count": null,
   "metadata": {},
   "outputs": [],
   "source": [
    "from dnv.oneworkflow.package_manager import PackageManager\n",
    "await PackageManager().install_package_async(\n",
    "    \"LocalWorkflowRuntime\", \"win-x64\", PackageManager.Repository.TEST)\n"
   ]
  }
 ],
 "metadata": {
  "kernelspec": {
   "display_name": "Python 3",
   "language": "python",
   "name": "python3"
  },
  "language_info": {
   "codemirror_mode": {
    "name": "ipython",
    "version": 3
   },
   "file_extension": ".py",
   "mimetype": "text/x-python",
   "name": "python",
   "nbconvert_exporter": "python",
   "pygments_lexer": "ipython3",
   "version": "3.10.1"
  },
  "orig_nbformat": 4
 },
 "nbformat": 4,
 "nbformat_minor": 2
}
